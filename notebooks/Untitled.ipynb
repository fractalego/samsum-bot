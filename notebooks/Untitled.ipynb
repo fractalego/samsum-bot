{
 "cells": [
  {
   "cell_type": "code",
   "execution_count": 1,
   "id": "287c6b4c",
   "metadata": {},
   "outputs": [],
   "source": [
    "import torch"
   ]
  },
  {
   "cell_type": "code",
   "execution_count": 24,
   "id": "02695b5f",
   "metadata": {},
   "outputs": [],
   "source": [
    "v = torch.sparse_coo_tensor([[1,2,3,4]], [1,5,6,7], (19,)).to_dense().float()"
   ]
  },
  {
   "cell_type": "code",
   "execution_count": 25,
   "id": "ad93c444",
   "metadata": {},
   "outputs": [],
   "source": [
    "v[v == 0] = torch.tensor(float('-inf'))"
   ]
  },
  {
   "cell_type": "code",
   "execution_count": 26,
   "id": "72fcff54",
   "metadata": {},
   "outputs": [
    {
     "data": {
      "text/plain": [
       "tensor([-inf, 1., 5., 6., 7., -inf, -inf, -inf, -inf, -inf, -inf, -inf, -inf, -inf, -inf, -inf, -inf, -inf,\n",
       "        -inf])"
      ]
     },
     "execution_count": 26,
     "metadata": {},
     "output_type": "execute_result"
    }
   ],
   "source": [
    "v"
   ]
  },
  {
   "cell_type": "code",
   "execution_count": null,
   "id": "16452cb2",
   "metadata": {},
   "outputs": [],
   "source": []
  }
 ],
 "metadata": {
  "kernelspec": {
   "display_name": "chatbot3",
   "language": "python",
   "name": "chatbot3"
  },
  "language_info": {
   "codemirror_mode": {
    "name": "ipython",
    "version": 3
   },
   "file_extension": ".py",
   "mimetype": "text/x-python",
   "name": "python",
   "nbconvert_exporter": "python",
   "pygments_lexer": "ipython3",
   "version": "3.8.10"
  }
 },
 "nbformat": 4,
 "nbformat_minor": 5
}
