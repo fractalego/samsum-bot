{
 "cells": [
  {
   "cell_type": "code",
   "execution_count": 1,
   "id": "45879344",
   "metadata": {},
   "outputs": [],
   "source": [
    "import joblib"
   ]
  },
  {
   "cell_type": "code",
   "execution_count": 2,
   "id": "f4380648",
   "metadata": {},
   "outputs": [],
   "source": [
    "train_embeddings = joblib.load('train_embeddings.joblib')"
   ]
  },
  {
   "cell_type": "code",
   "execution_count": 3,
   "id": "b04f61c3",
   "metadata": {},
   "outputs": [
    {
     "data": {
      "text/plain": [
       "4096"
      ]
     },
     "execution_count": 3,
     "metadata": {},
     "output_type": "execute_result"
    }
   ],
   "source": [
    "len(train_embeddings[3]['mlp_0'][0][1])"
   ]
  },
  {
   "cell_type": "code",
   "execution_count": 4,
   "id": "b009102d",
   "metadata": {},
   "outputs": [],
   "source": [
    "import umap\n",
    "\n",
    "reducer = umap.UMAP(n_components=768)"
   ]
  },
  {
   "cell_type": "code",
   "execution_count": 5,
   "id": "7e139f38",
   "metadata": {},
   "outputs": [],
   "source": [
    "import numpy as np\n",
    "\n",
    "to_transform = []\n",
    "for item in train_embeddings:\n",
    "    for layer_num in [0, 5, 12, 19, 26]:\n",
    "        layer_name = f'mlp_{layer_num}'\n",
    "        for embedding in item[layer_name][0]:\n",
    "            to_transform.append(np.array(embedding))"
   ]
  },
  {
   "cell_type": "code",
   "execution_count": 6,
   "id": "b6e1d21d",
   "metadata": {},
   "outputs": [
    {
     "data": {
      "text/plain": [
       "(4096,)"
      ]
     },
     "execution_count": 6,
     "metadata": {},
     "output_type": "execute_result"
    }
   ],
   "source": [
    "to_transform[1].shape"
   ]
  },
  {
   "cell_type": "code",
   "execution_count": 7,
   "id": "83649966",
   "metadata": {},
   "outputs": [
    {
     "data": {
      "text/plain": [
       "UMAP(n_components=768, tqdm_kwds={'bar_format': '{desc}: {percentage:3.0f}%| {bar} {n_fmt}/{total_fmt} [{elapsed}]', 'desc': 'Epochs completed', 'disable': True})"
      ]
     },
     "execution_count": 7,
     "metadata": {},
     "output_type": "execute_result"
    }
   ],
   "source": [
    "reducer.fit(to_transform)"
   ]
  },
  {
   "cell_type": "code",
   "execution_count": 8,
   "id": "f7606a02",
   "metadata": {},
   "outputs": [
    {
     "name": "stderr",
     "output_type": "stream",
     "text": [
      "/home/alce/src/the_chatbot_experiment/.env/lib/python3.8/site-packages/scipy/sparse/_index.py:125: SparseEfficiencyWarning: Changing the sparsity structure of a csr_matrix is expensive. lil_matrix is more efficient.\n",
      "  self._set_arrayXarray(i, j, x)\n"
     ]
    }
   ],
   "source": [
    "import numpy as np\n",
    "\n",
    "umap_embeddings = []\n",
    "\n",
    "for item in train_embeddings:\n",
    "    umap_embedding = {}\n",
    "    for layer_num in [0, 5, 12, 19, 26]:\n",
    "        layer_name = f'mlp_{layer_num}'\n",
    "        umap_embedding[layer_name] = reducer.transform(np.array(item[layer_name][0]))\n",
    "    \n",
    "    umap_embedding['logits'] = np.array(item['logits'])\n",
    "    umap_embedding['input_ids'] = np.array(item['input_ids'])\n",
    "    \n",
    "    umap_embeddings.append(umap_embedding)"
   ]
  },
  {
   "cell_type": "code",
   "execution_count": 9,
   "id": "63f393c3",
   "metadata": {},
   "outputs": [
    {
     "data": {
      "text/plain": [
       "(66, 768)"
      ]
     },
     "execution_count": 9,
     "metadata": {},
     "output_type": "execute_result"
    }
   ],
   "source": [
    "umap_embeddings[1]['mlp_0'].shape"
   ]
  },
  {
   "cell_type": "code",
   "execution_count": 10,
   "id": "f1c15d96",
   "metadata": {},
   "outputs": [
    {
     "data": {
      "text/plain": [
       "['umap_embeddings_768.joblib']"
      ]
     },
     "execution_count": 10,
     "metadata": {},
     "output_type": "execute_result"
    }
   ],
   "source": [
    "joblib.dump(umap_embeddings, 'umap_embeddings_768.joblib')"
   ]
  },
  {
   "cell_type": "markdown",
   "id": "898a0fa1",
   "metadata": {},
   "source": [
    "### Training from embeddings"
   ]
  },
  {
   "cell_type": "code",
   "execution_count": 1,
   "id": "7301e3fd",
   "metadata": {},
   "outputs": [],
   "source": [
    "import joblib\n",
    "\n",
    "umap_embeddings = joblib.load('umap_embeddings_768.joblib')"
   ]
  },
  {
   "cell_type": "code",
   "execution_count": 2,
   "id": "553939fd",
   "metadata": {},
   "outputs": [],
   "source": [
    "import torch\n",
    "import transformers\n",
    "import torch.nn.functional as F\n",
    "\n",
    "from tqdm import tqdm\n",
    "from transformers import GPT2LMHeadModel, AutoTokenizer"
   ]
  },
  {
   "cell_type": "code",
   "execution_count": 3,
   "id": "e5bda74f",
   "metadata": {},
   "outputs": [],
   "source": [
    "gpt_small = GPT2LMHeadModel.from_pretrained(\"gpt2\")"
   ]
  },
  {
   "cell_type": "code",
   "execution_count": 4,
   "id": "13b4e679",
   "metadata": {},
   "outputs": [],
   "source": [
    "tokenizer = transformers.AutoTokenizer.from_pretrained(\"gpt2\")"
   ]
  },
  {
   "cell_type": "code",
   "execution_count": 5,
   "id": "370453d5",
   "metadata": {},
   "outputs": [],
   "source": [
    "def create_text_from_summary_and_dialogue(summary, dialogue):\n",
    "    text = f\"\"\"\n",
    "A partial summary of the conversation is:\n",
    "{summary}\n",
    "\n",
    "With the dialogue being:\n",
    "{dialogue}\n",
    "    \"\"\".strip()\n",
    "    \n",
    "    return text.replace('\\r\\n', '\\n')"
   ]
  },
  {
   "cell_type": "code",
   "execution_count": 6,
   "id": "46042b7b",
   "metadata": {},
   "outputs": [],
   "source": [
    "activation = {}\n",
    "def get_activation(name):\n",
    "    def hook(model, input, output):\n",
    "        activation[name] = output\n",
    "    return hook\n",
    "\n",
    "for layer_num in range(11):\n",
    "    gpt_small.transformer.h[layer_num].mlp.register_forward_hook(get_activation(f'mlp_{layer_num}'))"
   ]
  },
  {
   "cell_type": "code",
   "execution_count": 7,
   "id": "c902d0d0",
   "metadata": {},
   "outputs": [],
   "source": [
    "summary = \"\"\"\n",
    "Alberto is a customer. Alberto ordered pizza and lasagne at Dominos one hour ago.\n",
    "Alberto wants to know where his pizza is. Alberto is calling Dominos to know where his orders are.\n",
    "John works at Dominos. John says that his pizza is almost ready. It will be at Alberto's home in 10 minutes. \n",
    "The lasagne is already on its way with the delivery person. Unfortunately the driver had an accident and is now in the hospital.\n",
    "If alberto says \"rabbit\" then John replies \"horse\". If Alberto says \"Tree\" John says \"red\".\n",
    "\"\"\".strip().replace('\\n', ' ')\n",
    "\n",
    "dialogue = \"\"\"\n",
    "Alberto: What happened to my pizza?\n",
    "John: \n",
    "\"\"\".strip()\n",
    "\n",
    "text = create_text_from_summary_and_dialogue(summary, dialogue)\n",
    "\n",
    "prompt = tokenizer(text, return_tensors='pt').to('cuda')\n",
    "prompt = {key: value for key, value in prompt.items()}"
   ]
  },
  {
   "cell_type": "code",
   "execution_count": 8,
   "id": "884ddf86",
   "metadata": {
    "scrolled": true
   },
   "outputs": [
    {
     "name": "stderr",
     "output_type": "stream",
     "text": [
      "100%|███████████████████████████████████████████| 43/43 [00:11<00:00,  3.85it/s]\n",
      "Setting `pad_token_id` to `eos_token_id`:50256 for open-end generation.\n"
     ]
    },
    {
     "name": "stdout",
     "output_type": "stream",
     "text": [
      "Epoch 0\n",
      "A partial summary of the conversation is:\n",
      "Alberto is a customer. Alberto ordered pizza and lasagne at Dominos one hour ago. Alberto wants to know where his pizza is. Alberto is calling Dominos to know where his orders are. John works at Dominos. John says that his pizza is almost ready. It will be at Alberto's home in 10 minutes.  The lasagne is already on its way with the delivery person. Unfortunately the driver had an accident and is now in the hospital. If alberto says \"rabbit\" then John replies \"horse\". If Alberto says \"Tree\" John says \"red\".\n",
      "\n",
      "With the dialogue being:\n",
      "Alberto: What happened to my pizza?\n",
      "John: I was driving.\n",
      "Alberto: What happened to your pizza?\n",
      "John: I was driving\n"
     ]
    },
    {
     "name": "stderr",
     "output_type": "stream",
     "text": [
      "100%|███████████████████████████████████████████| 43/43 [00:10<00:00,  4.03it/s]\n",
      "Setting `pad_token_id` to `eos_token_id`:50256 for open-end generation.\n"
     ]
    },
    {
     "name": "stdout",
     "output_type": "stream",
     "text": [
      "Epoch 1\n",
      "A partial summary of the conversation is:\n",
      "Alberto is a customer. Alberto ordered pizza and lasagne at Dominos one hour ago. Alberto wants to know where his pizza is. Alberto is calling Dominos to know where his orders are. John works at Dominos. John says that his pizza is almost ready. It will be at Alberto's home in 10 minutes.  The lasagne is already on its way with the delivery person. Unfortunately the driver had an accident and is now in the hospital. If alberto says \"rabbit\" then John replies \"horse\". If Alberto says \"Tree\" John says \"red\".\n",
      "\n",
      "With the dialogue being:\n",
      "Alberto: What happened to my pizza?\n",
      "John: I was in the hospital.\n",
      "Alberto: What happened to your pizza?\n",
      "John: I\n"
     ]
    },
    {
     "name": "stderr",
     "output_type": "stream",
     "text": [
      "100%|███████████████████████████████████████████| 43/43 [00:10<00:00,  4.02it/s]\n",
      "Setting `pad_token_id` to `eos_token_id`:50256 for open-end generation.\n"
     ]
    },
    {
     "name": "stdout",
     "output_type": "stream",
     "text": [
      "Epoch 2\n",
      "A partial summary of the conversation is:\n",
      "Alberto is a customer. Alberto ordered pizza and lasagne at Dominos one hour ago. Alberto wants to know where his pizza is. Alberto is calling Dominos to know where his orders are. John works at Dominos. John says that his pizza is almost ready. It will be at Alberto's home in 10 minutes.  The lasagne is already on its way with the delivery person. Unfortunately the driver had an accident and is now in the hospital. If alberto says \"rabbit\" then John replies \"horse\". If Alberto says \"Tree\" John says \"red\".\n",
      "\n",
      "With the dialogue being:\n",
      "Alberto: What happened to my pizza?\n",
      "John: I was in the hospital.\n",
      "Alberto: What happened to your pizza?\n",
      "John: I\n"
     ]
    },
    {
     "name": "stderr",
     "output_type": "stream",
     "text": [
      "100%|███████████████████████████████████████████| 43/43 [00:10<00:00,  4.00it/s]\n",
      "Setting `pad_token_id` to `eos_token_id`:50256 for open-end generation.\n"
     ]
    },
    {
     "name": "stdout",
     "output_type": "stream",
     "text": [
      "Epoch 3\n",
      "A partial summary of the conversation is:\n",
      "Alberto is a customer. Alberto ordered pizza and lasagne at Dominos one hour ago. Alberto wants to know where his pizza is. Alberto is calling Dominos to know where his orders are. John works at Dominos. John says that his pizza is almost ready. It will be at Alberto's home in 10 minutes.  The lasagne is already on its way with the delivery person. Unfortunately the driver had an accident and is now in the hospital. If alberto says \"rabbit\" then John replies \"horse\". If Alberto says \"Tree\" John says \"red\".\n",
      "\n",
      "With the dialogue being:\n",
      "Alberto: What happened to my pizza?\n",
      "John: I was in the hospital.\n",
      "Alberto: What happened to your pizza?\n",
      "John: I\n"
     ]
    },
    {
     "name": "stderr",
     "output_type": "stream",
     "text": [
      "100%|███████████████████████████████████████████| 43/43 [00:10<00:00,  4.00it/s]\n",
      "Setting `pad_token_id` to `eos_token_id`:50256 for open-end generation.\n"
     ]
    },
    {
     "name": "stdout",
     "output_type": "stream",
     "text": [
      "Epoch 4\n",
      "A partial summary of the conversation is:\n",
      "Alberto is a customer. Alberto ordered pizza and lasagne at Dominos one hour ago. Alberto wants to know where his pizza is. Alberto is calling Dominos to know where his orders are. John works at Dominos. John says that his pizza is almost ready. It will be at Alberto's home in 10 minutes.  The lasagne is already on its way with the delivery person. Unfortunately the driver had an accident and is now in the hospital. If alberto says \"rabbit\" then John replies \"horse\". If Alberto says \"Tree\" John says \"red\".\n",
      "\n",
      "With the dialogue being:\n",
      "Alberto: What happened to my pizza?\n",
      "John: I was in the hospital.\n",
      "Alberto: What happened to your pizza?\n",
      "John: I\n"
     ]
    },
    {
     "name": "stderr",
     "output_type": "stream",
     "text": [
      "100%|███████████████████████████████████████████| 43/43 [00:10<00:00,  3.98it/s]\n",
      "Setting `pad_token_id` to `eos_token_id`:50256 for open-end generation.\n"
     ]
    },
    {
     "name": "stdout",
     "output_type": "stream",
     "text": [
      "Epoch 5\n",
      "A partial summary of the conversation is:\n",
      "Alberto is a customer. Alberto ordered pizza and lasagne at Dominos one hour ago. Alberto wants to know where his pizza is. Alberto is calling Dominos to know where his orders are. John works at Dominos. John says that his pizza is almost ready. It will be at Alberto's home in 10 minutes.  The lasagne is already on its way with the delivery person. Unfortunately the driver had an accident and is now in the hospital. If alberto says \"rabbit\" then John replies \"horse\". If Alberto says \"Tree\" John says \"red\".\n",
      "\n",
      "With the dialogue being:\n",
      "Alberto: What happened to my pizza?\n",
      "John: I was in the hospital.\n",
      "Alberto: What happened to your pizza?\n",
      "John: I\n"
     ]
    },
    {
     "name": "stderr",
     "output_type": "stream",
     "text": [
      "100%|███████████████████████████████████████████| 43/43 [00:10<00:00,  3.97it/s]\n",
      "Setting `pad_token_id` to `eos_token_id`:50256 for open-end generation.\n"
     ]
    },
    {
     "name": "stdout",
     "output_type": "stream",
     "text": [
      "Epoch 6\n",
      "A partial summary of the conversation is:\n",
      "Alberto is a customer. Alberto ordered pizza and lasagne at Dominos one hour ago. Alberto wants to know where his pizza is. Alberto is calling Dominos to know where his orders are. John works at Dominos. John says that his pizza is almost ready. It will be at Alberto's home in 10 minutes.  The lasagne is already on its way with the delivery person. Unfortunately the driver had an accident and is now in the hospital. If alberto says \"rabbit\" then John replies \"horse\". If Alberto says \"Tree\" John says \"red\".\n",
      "\n",
      "With the dialogue being:\n",
      "Alberto: What happened to my pizza?\n",
      "John: I was in the hospital.\n",
      "Alberto: What happened to your pizza?\n",
      "John: I\n"
     ]
    },
    {
     "name": "stderr",
     "output_type": "stream",
     "text": [
      "100%|███████████████████████████████████████████| 43/43 [00:10<00:00,  3.99it/s]\n",
      "Setting `pad_token_id` to `eos_token_id`:50256 for open-end generation.\n"
     ]
    },
    {
     "name": "stdout",
     "output_type": "stream",
     "text": [
      "Epoch 7\n",
      "A partial summary of the conversation is:\n",
      "Alberto is a customer. Alberto ordered pizza and lasagne at Dominos one hour ago. Alberto wants to know where his pizza is. Alberto is calling Dominos to know where his orders are. John works at Dominos. John says that his pizza is almost ready. It will be at Alberto's home in 10 minutes.  The lasagne is already on its way with the delivery person. Unfortunately the driver had an accident and is now in the hospital. If alberto says \"rabbit\" then John replies \"horse\". If Alberto says \"Tree\" John says \"red\".\n",
      "\n",
      "With the dialogue being:\n",
      "Alberto: What happened to my pizza?\n",
      "John: I was in the hospital.\n",
      "Alberto: What happened to your pizza?\n",
      "John: I\n"
     ]
    },
    {
     "name": "stderr",
     "output_type": "stream",
     "text": [
      "100%|███████████████████████████████████████████| 43/43 [00:10<00:00,  3.99it/s]\n",
      "Setting `pad_token_id` to `eos_token_id`:50256 for open-end generation.\n"
     ]
    },
    {
     "name": "stdout",
     "output_type": "stream",
     "text": [
      "Epoch 8\n",
      "A partial summary of the conversation is:\n",
      "Alberto is a customer. Alberto ordered pizza and lasagne at Dominos one hour ago. Alberto wants to know where his pizza is. Alberto is calling Dominos to know where his orders are. John works at Dominos. John says that his pizza is almost ready. It will be at Alberto's home in 10 minutes.  The lasagne is already on its way with the delivery person. Unfortunately the driver had an accident and is now in the hospital. If alberto says \"rabbit\" then John replies \"horse\". If Alberto says \"Tree\" John says \"red\".\n",
      "\n",
      "With the dialogue being:\n",
      "Alberto: What happened to my pizza?\n",
      "John: I was in the hospital.\n",
      "Alberto: What happened to your pizza?\n",
      "John: I\n"
     ]
    },
    {
     "name": "stderr",
     "output_type": "stream",
     "text": [
      "100%|███████████████████████████████████████████| 43/43 [00:10<00:00,  3.99it/s]\n",
      "Setting `pad_token_id` to `eos_token_id`:50256 for open-end generation.\n"
     ]
    },
    {
     "name": "stdout",
     "output_type": "stream",
     "text": [
      "Epoch 9\n",
      "A partial summary of the conversation is:\n",
      "Alberto is a customer. Alberto ordered pizza and lasagne at Dominos one hour ago. Alberto wants to know where his pizza is. Alberto is calling Dominos to know where his orders are. John works at Dominos. John says that his pizza is almost ready. It will be at Alberto's home in 10 minutes.  The lasagne is already on its way with the delivery person. Unfortunately the driver had an accident and is now in the hospital. If alberto says \"rabbit\" then John replies \"horse\". If Alberto says \"Tree\" John says \"red\".\n",
      "\n",
      "With the dialogue being:\n",
      "Alberto: What happened to my pizza?\n",
      "John: I was in the hospital.\n",
      "Alberto: What happened to your pizza?\n",
      "John: I\n"
     ]
    },
    {
     "name": "stderr",
     "output_type": "stream",
     "text": [
      "100%|███████████████████████████████████████████| 43/43 [00:10<00:00,  3.96it/s]\n",
      "Setting `pad_token_id` to `eos_token_id`:50256 for open-end generation.\n"
     ]
    },
    {
     "name": "stdout",
     "output_type": "stream",
     "text": [
      "Epoch 10\n",
      "A partial summary of the conversation is:\n",
      "Alberto is a customer. Alberto ordered pizza and lasagne at Dominos one hour ago. Alberto wants to know where his pizza is. Alberto is calling Dominos to know where his orders are. John works at Dominos. John says that his pizza is almost ready. It will be at Alberto's home in 10 minutes.  The lasagne is already on its way with the delivery person. Unfortunately the driver had an accident and is now in the hospital. If alberto says \"rabbit\" then John replies \"horse\". If Alberto says \"Tree\" John says \"red\".\n",
      "\n",
      "With the dialogue being:\n",
      "Alberto: What happened to my pizza?\n",
      "John: I was in the hospital.\n",
      "Alberto: What happened to your pizza?\n",
      "John: I\n"
     ]
    },
    {
     "name": "stderr",
     "output_type": "stream",
     "text": [
      "100%|███████████████████████████████████████████| 43/43 [00:10<00:00,  3.96it/s]\n",
      "Setting `pad_token_id` to `eos_token_id`:50256 for open-end generation.\n"
     ]
    },
    {
     "name": "stdout",
     "output_type": "stream",
     "text": [
      "Epoch 11\n",
      "A partial summary of the conversation is:\n",
      "Alberto is a customer. Alberto ordered pizza and lasagne at Dominos one hour ago. Alberto wants to know where his pizza is. Alberto is calling Dominos to know where his orders are. John works at Dominos. John says that his pizza is almost ready. It will be at Alberto's home in 10 minutes.  The lasagne is already on its way with the delivery person. Unfortunately the driver had an accident and is now in the hospital. If alberto says \"rabbit\" then John replies \"horse\". If Alberto says \"Tree\" John says \"red\".\n",
      "\n",
      "With the dialogue being:\n",
      "Alberto: What happened to my pizza?\n",
      "John: I was in the hospital.\n",
      "Alberto: What happened to your pizza?\n",
      "John: I\n"
     ]
    },
    {
     "name": "stderr",
     "output_type": "stream",
     "text": [
      "100%|███████████████████████████████████████████| 43/43 [00:10<00:00,  3.96it/s]\n",
      "Setting `pad_token_id` to `eos_token_id`:50256 for open-end generation.\n"
     ]
    },
    {
     "name": "stdout",
     "output_type": "stream",
     "text": [
      "Epoch 12\n",
      "A partial summary of the conversation is:\n",
      "Alberto is a customer. Alberto ordered pizza and lasagne at Dominos one hour ago. Alberto wants to know where his pizza is. Alberto is calling Dominos to know where his orders are. John works at Dominos. John says that his pizza is almost ready. It will be at Alberto's home in 10 minutes.  The lasagne is already on its way with the delivery person. Unfortunately the driver had an accident and is now in the hospital. If alberto says \"rabbit\" then John replies \"horse\". If Alberto says \"Tree\" John says \"red\".\n",
      "\n",
      "With the dialogue being:\n",
      "Alberto: What happened to my pizza?\n",
      "John: I was in the hospital.\n",
      "Alberto: What happened to your pizza?\n",
      "John: I\n"
     ]
    },
    {
     "name": "stderr",
     "output_type": "stream",
     "text": [
      "100%|███████████████████████████████████████████| 43/43 [00:10<00:00,  3.95it/s]\n",
      "Setting `pad_token_id` to `eos_token_id`:50256 for open-end generation.\n"
     ]
    },
    {
     "name": "stdout",
     "output_type": "stream",
     "text": [
      "Epoch 13\n",
      "A partial summary of the conversation is:\n",
      "Alberto is a customer. Alberto ordered pizza and lasagne at Dominos one hour ago. Alberto wants to know where his pizza is. Alberto is calling Dominos to know where his orders are. John works at Dominos. John says that his pizza is almost ready. It will be at Alberto's home in 10 minutes.  The lasagne is already on its way with the delivery person. Unfortunately the driver had an accident and is now in the hospital. If alberto says \"rabbit\" then John replies \"horse\". If Alberto says \"Tree\" John says \"red\".\n",
      "\n",
      "With the dialogue being:\n",
      "Alberto: What happened to my pizza?\n",
      "John: I was in the hospital.\n",
      "Alberto: What happened to your pizza?\n",
      "John: I\n"
     ]
    },
    {
     "name": "stderr",
     "output_type": "stream",
     "text": [
      "100%|███████████████████████████████████████████| 43/43 [00:10<00:00,  3.94it/s]\n",
      "Setting `pad_token_id` to `eos_token_id`:50256 for open-end generation.\n"
     ]
    },
    {
     "name": "stdout",
     "output_type": "stream",
     "text": [
      "Epoch 14\n",
      "A partial summary of the conversation is:\n",
      "Alberto is a customer. Alberto ordered pizza and lasagne at Dominos one hour ago. Alberto wants to know where his pizza is. Alberto is calling Dominos to know where his orders are. John works at Dominos. John says that his pizza is almost ready. It will be at Alberto's home in 10 minutes.  The lasagne is already on its way with the delivery person. Unfortunately the driver had an accident and is now in the hospital. If alberto says \"rabbit\" then John replies \"horse\". If Alberto says \"Tree\" John says \"red\".\n",
      "\n",
      "With the dialogue being:\n",
      "Alberto: What happened to my pizza?\n",
      "John: It's in the delivery man's car.\n",
      "Alberto: What happened to my lasagne?\n"
     ]
    },
    {
     "name": "stderr",
     "output_type": "stream",
     "text": [
      "100%|███████████████████████████████████████████| 43/43 [00:10<00:00,  3.96it/s]\n",
      "Setting `pad_token_id` to `eos_token_id`:50256 for open-end generation.\n"
     ]
    },
    {
     "name": "stdout",
     "output_type": "stream",
     "text": [
      "Epoch 15\n",
      "A partial summary of the conversation is:\n",
      "Alberto is a customer. Alberto ordered pizza and lasagne at Dominos one hour ago. Alberto wants to know where his pizza is. Alberto is calling Dominos to know where his orders are. John works at Dominos. John says that his pizza is almost ready. It will be at Alberto's home in 10 minutes.  The lasagne is already on its way with the delivery person. Unfortunately the driver had an accident and is now in the hospital. If alberto says \"rabbit\" then John replies \"horse\". If Alberto says \"Tree\" John says \"red\".\n",
      "\n",
      "With the dialogue being:\n",
      "Alberto: What happened to my pizza?\n",
      "John: It's in the delivery man's car.\n",
      "Alberto: What happened to my lasagne?\n"
     ]
    },
    {
     "name": "stderr",
     "output_type": "stream",
     "text": [
      "100%|███████████████████████████████████████████| 43/43 [00:10<00:00,  4.05it/s]\n",
      "Setting `pad_token_id` to `eos_token_id`:50256 for open-end generation.\n"
     ]
    },
    {
     "name": "stdout",
     "output_type": "stream",
     "text": [
      "Epoch 16\n",
      "A partial summary of the conversation is:\n",
      "Alberto is a customer. Alberto ordered pizza and lasagne at Dominos one hour ago. Alberto wants to know where his pizza is. Alberto is calling Dominos to know where his orders are. John works at Dominos. John says that his pizza is almost ready. It will be at Alberto's home in 10 minutes.  The lasagne is already on its way with the delivery person. Unfortunately the driver had an accident and is now in the hospital. If alberto says \"rabbit\" then John replies \"horse\". If Alberto says \"Tree\" John says \"red\".\n",
      "\n",
      "With the dialogue being:\n",
      "Alberto: What happened to my pizza?\n",
      "John: It's in the delivery man's car.\n",
      "Alberto: What happened to my lasagne?\n"
     ]
    },
    {
     "name": "stderr",
     "output_type": "stream",
     "text": [
      "100%|███████████████████████████████████████████| 43/43 [00:10<00:00,  4.04it/s]\n",
      "Setting `pad_token_id` to `eos_token_id`:50256 for open-end generation.\n"
     ]
    },
    {
     "name": "stdout",
     "output_type": "stream",
     "text": [
      "Epoch 17\n",
      "A partial summary of the conversation is:\n",
      "Alberto is a customer. Alberto ordered pizza and lasagne at Dominos one hour ago. Alberto wants to know where his pizza is. Alberto is calling Dominos to know where his orders are. John works at Dominos. John says that his pizza is almost ready. It will be at Alberto's home in 10 minutes.  The lasagne is already on its way with the delivery person. Unfortunately the driver had an accident and is now in the hospital. If alberto says \"rabbit\" then John replies \"horse\". If Alberto says \"Tree\" John says \"red\".\n",
      "\n",
      "With the dialogue being:\n",
      "Alberto: What happened to my pizza?\n",
      "John: It's in the delivery man's car.\n",
      "Alberto: What happened to my lasagne?\n"
     ]
    },
    {
     "name": "stderr",
     "output_type": "stream",
     "text": [
      "100%|███████████████████████████████████████████| 43/43 [00:10<00:00,  4.03it/s]\n",
      "Setting `pad_token_id` to `eos_token_id`:50256 for open-end generation.\n"
     ]
    },
    {
     "name": "stdout",
     "output_type": "stream",
     "text": [
      "Epoch 18\n",
      "A partial summary of the conversation is:\n",
      "Alberto is a customer. Alberto ordered pizza and lasagne at Dominos one hour ago. Alberto wants to know where his pizza is. Alberto is calling Dominos to know where his orders are. John works at Dominos. John says that his pizza is almost ready. It will be at Alberto's home in 10 minutes.  The lasagne is already on its way with the delivery person. Unfortunately the driver had an accident and is now in the hospital. If alberto says \"rabbit\" then John replies \"horse\". If Alberto says \"Tree\" John says \"red\".\n",
      "\n",
      "With the dialogue being:\n",
      "Alberto: What happened to my pizza?\n",
      "John: It's in the delivery man's car.\n",
      "Alberto: What happened to my lasagne?\n"
     ]
    },
    {
     "name": "stderr",
     "output_type": "stream",
     "text": [
      "100%|███████████████████████████████████████████| 43/43 [00:10<00:00,  4.02it/s]\n",
      "Setting `pad_token_id` to `eos_token_id`:50256 for open-end generation.\n"
     ]
    },
    {
     "name": "stdout",
     "output_type": "stream",
     "text": [
      "Epoch 19\n",
      "A partial summary of the conversation is:\n",
      "Alberto is a customer. Alberto ordered pizza and lasagne at Dominos one hour ago. Alberto wants to know where his pizza is. Alberto is calling Dominos to know where his orders are. John works at Dominos. John says that his pizza is almost ready. It will be at Alberto's home in 10 minutes.  The lasagne is already on its way with the delivery person. Unfortunately the driver had an accident and is now in the hospital. If alberto says \"rabbit\" then John replies \"horse\". If Alberto says \"Tree\" John says \"red\".\n",
      "\n",
      "With the dialogue being:\n",
      "Alberto: What happened to my pizza?\n",
      "John: It's in the delivery man's car.\n",
      "Alberto: What happened to my lasagne?\n"
     ]
    },
    {
     "name": "stderr",
     "output_type": "stream",
     "text": [
      "100%|███████████████████████████████████████████| 43/43 [00:10<00:00,  4.02it/s]\n",
      "Setting `pad_token_id` to `eos_token_id`:50256 for open-end generation.\n"
     ]
    },
    {
     "name": "stdout",
     "output_type": "stream",
     "text": [
      "Epoch 20\n",
      "A partial summary of the conversation is:\n",
      "Alberto is a customer. Alberto ordered pizza and lasagne at Dominos one hour ago. Alberto wants to know where his pizza is. Alberto is calling Dominos to know where his orders are. John works at Dominos. John says that his pizza is almost ready. It will be at Alberto's home in 10 minutes.  The lasagne is already on its way with the delivery person. Unfortunately the driver had an accident and is now in the hospital. If alberto says \"rabbit\" then John replies \"horse\". If Alberto says \"Tree\" John says \"red\".\n",
      "\n",
      "With the dialogue being:\n",
      "Alberto: What happened to my pizza?\n",
      "John: It's in the delivery man's car.\n",
      "Alberto: What happened to my lasagne?\n"
     ]
    },
    {
     "name": "stderr",
     "output_type": "stream",
     "text": [
      "100%|███████████████████████████████████████████| 43/43 [00:10<00:00,  4.02it/s]\n",
      "Setting `pad_token_id` to `eos_token_id`:50256 for open-end generation.\n"
     ]
    },
    {
     "name": "stdout",
     "output_type": "stream",
     "text": [
      "Epoch 21\n",
      "A partial summary of the conversation is:\n",
      "Alberto is a customer. Alberto ordered pizza and lasagne at Dominos one hour ago. Alberto wants to know where his pizza is. Alberto is calling Dominos to know where his orders are. John works at Dominos. John says that his pizza is almost ready. It will be at Alberto's home in 10 minutes.  The lasagne is already on its way with the delivery person. Unfortunately the driver had an accident and is now in the hospital. If alberto says \"rabbit\" then John replies \"horse\". If Alberto says \"Tree\" John says \"red\".\n",
      "\n",
      "With the dialogue being:\n",
      "Alberto: What happened to my pizza?\n",
      "John: It's in the delivery man's car.\n",
      "Alberto: What happened to my lasagne?\n"
     ]
    },
    {
     "name": "stderr",
     "output_type": "stream",
     "text": [
      "100%|███████████████████████████████████████████| 43/43 [00:10<00:00,  4.01it/s]\n",
      "Setting `pad_token_id` to `eos_token_id`:50256 for open-end generation.\n"
     ]
    },
    {
     "name": "stdout",
     "output_type": "stream",
     "text": [
      "Epoch 22\n",
      "A partial summary of the conversation is:\n",
      "Alberto is a customer. Alberto ordered pizza and lasagne at Dominos one hour ago. Alberto wants to know where his pizza is. Alberto is calling Dominos to know where his orders are. John works at Dominos. John says that his pizza is almost ready. It will be at Alberto's home in 10 minutes.  The lasagne is already on its way with the delivery person. Unfortunately the driver had an accident and is now in the hospital. If alberto says \"rabbit\" then John replies \"horse\". If Alberto says \"Tree\" John says \"red\".\n",
      "\n",
      "With the dialogue being:\n",
      "Alberto: What happened to my pizza?\n",
      "John: It's in the delivery man's car.\n",
      "Alberto: What happened to my lasagne?\n"
     ]
    },
    {
     "name": "stderr",
     "output_type": "stream",
     "text": [
      "100%|███████████████████████████████████████████| 43/43 [00:10<00:00,  4.00it/s]\n",
      "Setting `pad_token_id` to `eos_token_id`:50256 for open-end generation.\n"
     ]
    },
    {
     "name": "stdout",
     "output_type": "stream",
     "text": [
      "Epoch 23\n",
      "A partial summary of the conversation is:\n",
      "Alberto is a customer. Alberto ordered pizza and lasagne at Dominos one hour ago. Alberto wants to know where his pizza is. Alberto is calling Dominos to know where his orders are. John works at Dominos. John says that his pizza is almost ready. It will be at Alberto's home in 10 minutes.  The lasagne is already on its way with the delivery person. Unfortunately the driver had an accident and is now in the hospital. If alberto says \"rabbit\" then John replies \"horse\". If Alberto says \"Tree\" John says \"red\".\n",
      "\n",
      "With the dialogue being:\n",
      "Alberto: What happened to my pizza?\n",
      "John: It's in the delivery man's car.\n",
      "Alberto: What happened to my lasagne?\n"
     ]
    },
    {
     "name": "stderr",
     "output_type": "stream",
     "text": [
      "100%|███████████████████████████████████████████| 43/43 [00:10<00:00,  3.99it/s]\n",
      "Setting `pad_token_id` to `eos_token_id`:50256 for open-end generation.\n"
     ]
    },
    {
     "name": "stdout",
     "output_type": "stream",
     "text": [
      "Epoch 24\n",
      "A partial summary of the conversation is:\n",
      "Alberto is a customer. Alberto ordered pizza and lasagne at Dominos one hour ago. Alberto wants to know where his pizza is. Alberto is calling Dominos to know where his orders are. John works at Dominos. John says that his pizza is almost ready. It will be at Alberto's home in 10 minutes.  The lasagne is already on its way with the delivery person. Unfortunately the driver had an accident and is now in the hospital. If alberto says \"rabbit\" then John replies \"horse\". If Alberto says \"Tree\" John says \"red\".\n",
      "\n",
      "With the dialogue being:\n",
      "Alberto: What happened to my pizza?\n",
      "John: It's in the delivery man's car.\n",
      "Alberto: What happened to my lasagne?\n"
     ]
    },
    {
     "name": "stderr",
     "output_type": "stream",
     "text": [
      "100%|███████████████████████████████████████████| 43/43 [00:10<00:00,  3.98it/s]\n",
      "Setting `pad_token_id` to `eos_token_id`:50256 for open-end generation.\n"
     ]
    },
    {
     "name": "stdout",
     "output_type": "stream",
     "text": [
      "Epoch 25\n",
      "A partial summary of the conversation is:\n",
      "Alberto is a customer. Alberto ordered pizza and lasagne at Dominos one hour ago. Alberto wants to know where his pizza is. Alberto is calling Dominos to know where his orders are. John works at Dominos. John says that his pizza is almost ready. It will be at Alberto's home in 10 minutes.  The lasagne is already on its way with the delivery person. Unfortunately the driver had an accident and is now in the hospital. If alberto says \"rabbit\" then John replies \"horse\". If Alberto says \"Tree\" John says \"red\".\n",
      "\n",
      "With the dialogue being:\n",
      "Alberto: What happened to my pizza?\n",
      "John: It's in the delivery man's car.\n",
      "Alberto: What happened to my lasagne?\n"
     ]
    },
    {
     "name": "stderr",
     "output_type": "stream",
     "text": [
      "100%|███████████████████████████████████████████| 43/43 [00:10<00:00,  3.92it/s]\n",
      "Setting `pad_token_id` to `eos_token_id`:50256 for open-end generation.\n"
     ]
    },
    {
     "name": "stdout",
     "output_type": "stream",
     "text": [
      "Epoch 26\n",
      "A partial summary of the conversation is:\n",
      "Alberto is a customer. Alberto ordered pizza and lasagne at Dominos one hour ago. Alberto wants to know where his pizza is. Alberto is calling Dominos to know where his orders are. John works at Dominos. John says that his pizza is almost ready. It will be at Alberto's home in 10 minutes.  The lasagne is already on its way with the delivery person. Unfortunately the driver had an accident and is now in the hospital. If alberto says \"rabbit\" then John replies \"horse\". If Alberto says \"Tree\" John says \"red\".\n",
      "\n",
      "With the dialogue being:\n",
      "Alberto: What happened to my pizza?\n",
      "John: It's in the delivery man's car.\n",
      "Alberto: What happened to my lasagne?\n"
     ]
    },
    {
     "name": "stderr",
     "output_type": "stream",
     "text": [
      "100%|███████████████████████████████████████████| 43/43 [00:10<00:00,  3.94it/s]\n",
      "Setting `pad_token_id` to `eos_token_id`:50256 for open-end generation.\n"
     ]
    },
    {
     "name": "stdout",
     "output_type": "stream",
     "text": [
      "Epoch 27\n",
      "A partial summary of the conversation is:\n",
      "Alberto is a customer. Alberto ordered pizza and lasagne at Dominos one hour ago. Alberto wants to know where his pizza is. Alberto is calling Dominos to know where his orders are. John works at Dominos. John says that his pizza is almost ready. It will be at Alberto's home in 10 minutes.  The lasagne is already on its way with the delivery person. Unfortunately the driver had an accident and is now in the hospital. If alberto says \"rabbit\" then John replies \"horse\". If Alberto says \"Tree\" John says \"red\".\n",
      "\n",
      "With the dialogue being:\n",
      "Alberto: What happened to my pizza?\n",
      "John: It's in the delivery man's car.\n",
      "Alberto: What happened to my lasagne?\n"
     ]
    },
    {
     "name": "stderr",
     "output_type": "stream",
     "text": [
      "100%|███████████████████████████████████████████| 43/43 [00:10<00:00,  3.94it/s]\n",
      "Setting `pad_token_id` to `eos_token_id`:50256 for open-end generation.\n"
     ]
    },
    {
     "name": "stdout",
     "output_type": "stream",
     "text": [
      "Epoch 28\n",
      "A partial summary of the conversation is:\n",
      "Alberto is a customer. Alberto ordered pizza and lasagne at Dominos one hour ago. Alberto wants to know where his pizza is. Alberto is calling Dominos to know where his orders are. John works at Dominos. John says that his pizza is almost ready. It will be at Alberto's home in 10 minutes.  The lasagne is already on its way with the delivery person. Unfortunately the driver had an accident and is now in the hospital. If alberto says \"rabbit\" then John replies \"horse\". If Alberto says \"Tree\" John says \"red\".\n",
      "\n",
      "With the dialogue being:\n",
      "Alberto: What happened to my pizza?\n",
      "John: It's in the delivery man's car.\n",
      "Alberto: What happened to my lasagne?\n"
     ]
    },
    {
     "name": "stderr",
     "output_type": "stream",
     "text": [
      "100%|███████████████████████████████████████████| 43/43 [00:10<00:00,  3.95it/s]\n",
      "Setting `pad_token_id` to `eos_token_id`:50256 for open-end generation.\n"
     ]
    },
    {
     "name": "stdout",
     "output_type": "stream",
     "text": [
      "Epoch 29\n",
      "A partial summary of the conversation is:\n",
      "Alberto is a customer. Alberto ordered pizza and lasagne at Dominos one hour ago. Alberto wants to know where his pizza is. Alberto is calling Dominos to know where his orders are. John works at Dominos. John says that his pizza is almost ready. It will be at Alberto's home in 10 minutes.  The lasagne is already on its way with the delivery person. Unfortunately the driver had an accident and is now in the hospital. If alberto says \"rabbit\" then John replies \"horse\". If Alberto says \"Tree\" John says \"red\".\n",
      "\n",
      "With the dialogue being:\n",
      "Alberto: What happened to my pizza?\n",
      "John: It's in the delivery man's car.\n",
      "Alberto: What happened to my lasagne?\n"
     ]
    },
    {
     "name": "stderr",
     "output_type": "stream",
     "text": [
      "100%|███████████████████████████████████████████| 43/43 [00:10<00:00,  3.94it/s]\n",
      "Setting `pad_token_id` to `eos_token_id`:50256 for open-end generation.\n"
     ]
    },
    {
     "name": "stdout",
     "output_type": "stream",
     "text": [
      "Epoch 30\n",
      "A partial summary of the conversation is:\n",
      "Alberto is a customer. Alberto ordered pizza and lasagne at Dominos one hour ago. Alberto wants to know where his pizza is. Alberto is calling Dominos to know where his orders are. John works at Dominos. John says that his pizza is almost ready. It will be at Alberto's home in 10 minutes.  The lasagne is already on its way with the delivery person. Unfortunately the driver had an accident and is now in the hospital. If alberto says \"rabbit\" then John replies \"horse\". If Alberto says \"Tree\" John says \"red\".\n",
      "\n",
      "With the dialogue being:\n",
      "Alberto: What happened to my pizza?\n",
      "John: It's in the delivery man's car.\n",
      "Alberto: What happened to my lasagne?\n"
     ]
    },
    {
     "name": "stderr",
     "output_type": "stream",
     "text": [
      "100%|███████████████████████████████████████████| 43/43 [00:10<00:00,  3.93it/s]\n",
      "Setting `pad_token_id` to `eos_token_id`:50256 for open-end generation.\n"
     ]
    },
    {
     "name": "stdout",
     "output_type": "stream",
     "text": [
      "Epoch 31\n",
      "A partial summary of the conversation is:\n",
      "Alberto is a customer. Alberto ordered pizza and lasagne at Dominos one hour ago. Alberto wants to know where his pizza is. Alberto is calling Dominos to know where his orders are. John works at Dominos. John says that his pizza is almost ready. It will be at Alberto's home in 10 minutes.  The lasagne is already on its way with the delivery person. Unfortunately the driver had an accident and is now in the hospital. If alberto says \"rabbit\" then John replies \"horse\". If Alberto says \"Tree\" John says \"red\".\n",
      "\n",
      "With the dialogue being:\n",
      "Alberto: What happened to my pizza?\n",
      "John: It's in the delivery man's car.\n",
      "Alberto: What happened to my lasagne?\n"
     ]
    },
    {
     "name": "stderr",
     "output_type": "stream",
     "text": [
      "100%|███████████████████████████████████████████| 43/43 [00:10<00:00,  4.02it/s]\n",
      "Setting `pad_token_id` to `eos_token_id`:50256 for open-end generation.\n"
     ]
    },
    {
     "name": "stdout",
     "output_type": "stream",
     "text": [
      "Epoch 32\n",
      "A partial summary of the conversation is:\n",
      "Alberto is a customer. Alberto ordered pizza and lasagne at Dominos one hour ago. Alberto wants to know where his pizza is. Alberto is calling Dominos to know where his orders are. John works at Dominos. John says that his pizza is almost ready. It will be at Alberto's home in 10 minutes.  The lasagne is already on its way with the delivery person. Unfortunately the driver had an accident and is now in the hospital. If alberto says \"rabbit\" then John replies \"horse\". If Alberto says \"Tree\" John says \"red\".\n",
      "\n",
      "With the dialogue being:\n",
      "Alberto: What happened to my pizza?\n",
      "John: It's in the delivery man's car.\n",
      "Alberto: What happened to my lasagne?\n"
     ]
    },
    {
     "name": "stderr",
     "output_type": "stream",
     "text": [
      "100%|███████████████████████████████████████████| 43/43 [00:10<00:00,  4.02it/s]\n",
      "Setting `pad_token_id` to `eos_token_id`:50256 for open-end generation.\n"
     ]
    },
    {
     "name": "stdout",
     "output_type": "stream",
     "text": [
      "Epoch 33\n",
      "A partial summary of the conversation is:\n",
      "Alberto is a customer. Alberto ordered pizza and lasagne at Dominos one hour ago. Alberto wants to know where his pizza is. Alberto is calling Dominos to know where his orders are. John works at Dominos. John says that his pizza is almost ready. It will be at Alberto's home in 10 minutes.  The lasagne is already on its way with the delivery person. Unfortunately the driver had an accident and is now in the hospital. If alberto says \"rabbit\" then John replies \"horse\". If Alberto says \"Tree\" John says \"red\".\n",
      "\n",
      "With the dialogue being:\n",
      "Alberto: What happened to my pizza?\n",
      "John: It's in the delivery man's car.\n",
      "Alberto: What happened to my lasagne?\n"
     ]
    },
    {
     "name": "stderr",
     "output_type": "stream",
     "text": [
      "100%|███████████████████████████████████████████| 43/43 [00:10<00:00,  3.93it/s]\n",
      "Setting `pad_token_id` to `eos_token_id`:50256 for open-end generation.\n"
     ]
    },
    {
     "name": "stdout",
     "output_type": "stream",
     "text": [
      "Epoch 34\n",
      "A partial summary of the conversation is:\n",
      "Alberto is a customer. Alberto ordered pizza and lasagne at Dominos one hour ago. Alberto wants to know where his pizza is. Alberto is calling Dominos to know where his orders are. John works at Dominos. John says that his pizza is almost ready. It will be at Alberto's home in 10 minutes.  The lasagne is already on its way with the delivery person. Unfortunately the driver had an accident and is now in the hospital. If alberto says \"rabbit\" then John replies \"horse\". If Alberto says \"Tree\" John says \"red\".\n",
      "\n",
      "With the dialogue being:\n",
      "Alberto: What happened to my pizza?\n",
      "John: It was delivered to my home in 10 minutes.\n",
      "\n",
      "Alberto: What happened to my las\n"
     ]
    },
    {
     "name": "stderr",
     "output_type": "stream",
     "text": [
      "100%|███████████████████████████████████████████| 43/43 [00:10<00:00,  3.91it/s]\n",
      "Setting `pad_token_id` to `eos_token_id`:50256 for open-end generation.\n"
     ]
    },
    {
     "name": "stdout",
     "output_type": "stream",
     "text": [
      "Epoch 35\n",
      "A partial summary of the conversation is:\n",
      "Alberto is a customer. Alberto ordered pizza and lasagne at Dominos one hour ago. Alberto wants to know where his pizza is. Alberto is calling Dominos to know where his orders are. John works at Dominos. John says that his pizza is almost ready. It will be at Alberto's home in 10 minutes.  The lasagne is already on its way with the delivery person. Unfortunately the driver had an accident and is now in the hospital. If alberto says \"rabbit\" then John replies \"horse\". If Alberto says \"Tree\" John says \"red\".\n",
      "\n",
      "With the dialogue being:\n",
      "Alberto: What happened to my pizza?\n",
      "John: It was delivered to my home in 10 minutes.\n",
      "\n",
      "Alberto: What happened to my las\n"
     ]
    },
    {
     "name": "stderr",
     "output_type": "stream",
     "text": [
      "100%|███████████████████████████████████████████| 43/43 [00:10<00:00,  3.98it/s]\n",
      "Setting `pad_token_id` to `eos_token_id`:50256 for open-end generation.\n"
     ]
    },
    {
     "name": "stdout",
     "output_type": "stream",
     "text": [
      "Epoch 36\n",
      "A partial summary of the conversation is:\n",
      "Alberto is a customer. Alberto ordered pizza and lasagne at Dominos one hour ago. Alberto wants to know where his pizza is. Alberto is calling Dominos to know where his orders are. John works at Dominos. John says that his pizza is almost ready. It will be at Alberto's home in 10 minutes.  The lasagne is already on its way with the delivery person. Unfortunately the driver had an accident and is now in the hospital. If alberto says \"rabbit\" then John replies \"horse\". If Alberto says \"Tree\" John says \"red\".\n",
      "\n",
      "With the dialogue being:\n",
      "Alberto: What happened to my pizza?\n",
      "John: It's in the delivery man's car.\n",
      "Alberto: What happened to my lasagne?\n"
     ]
    },
    {
     "name": "stderr",
     "output_type": "stream",
     "text": [
      "100%|███████████████████████████████████████████| 43/43 [00:10<00:00,  4.02it/s]\n",
      "Setting `pad_token_id` to `eos_token_id`:50256 for open-end generation.\n"
     ]
    },
    {
     "name": "stdout",
     "output_type": "stream",
     "text": [
      "Epoch 37\n",
      "A partial summary of the conversation is:\n",
      "Alberto is a customer. Alberto ordered pizza and lasagne at Dominos one hour ago. Alberto wants to know where his pizza is. Alberto is calling Dominos to know where his orders are. John works at Dominos. John says that his pizza is almost ready. It will be at Alberto's home in 10 minutes.  The lasagne is already on its way with the delivery person. Unfortunately the driver had an accident and is now in the hospital. If alberto says \"rabbit\" then John replies \"horse\". If Alberto says \"Tree\" John says \"red\".\n",
      "\n",
      "With the dialogue being:\n",
      "Alberto: What happened to my pizza?\n",
      "John: It's in the delivery man's car.\n",
      "Alberto: What happened to my lasagne?\n"
     ]
    },
    {
     "name": "stderr",
     "output_type": "stream",
     "text": [
      "100%|███████████████████████████████████████████| 43/43 [00:10<00:00,  4.02it/s]\n",
      "Setting `pad_token_id` to `eos_token_id`:50256 for open-end generation.\n"
     ]
    },
    {
     "name": "stdout",
     "output_type": "stream",
     "text": [
      "Epoch 38\n",
      "A partial summary of the conversation is:\n",
      "Alberto is a customer. Alberto ordered pizza and lasagne at Dominos one hour ago. Alberto wants to know where his pizza is. Alberto is calling Dominos to know where his orders are. John works at Dominos. John says that his pizza is almost ready. It will be at Alberto's home in 10 minutes.  The lasagne is already on its way with the delivery person. Unfortunately the driver had an accident and is now in the hospital. If alberto says \"rabbit\" then John replies \"horse\". If Alberto says \"Tree\" John says \"red\".\n",
      "\n",
      "With the dialogue being:\n",
      "Alberto: What happened to my pizza?\n",
      "John: It's in the delivery man's car.\n",
      "Alberto: What happened to my lasagne?\n"
     ]
    },
    {
     "name": "stderr",
     "output_type": "stream",
     "text": [
      "100%|███████████████████████████████████████████| 43/43 [00:10<00:00,  4.02it/s]\n",
      "Setting `pad_token_id` to `eos_token_id`:50256 for open-end generation.\n"
     ]
    },
    {
     "name": "stdout",
     "output_type": "stream",
     "text": [
      "Epoch 39\n",
      "A partial summary of the conversation is:\n",
      "Alberto is a customer. Alberto ordered pizza and lasagne at Dominos one hour ago. Alberto wants to know where his pizza is. Alberto is calling Dominos to know where his orders are. John works at Dominos. John says that his pizza is almost ready. It will be at Alberto's home in 10 minutes.  The lasagne is already on its way with the delivery person. Unfortunately the driver had an accident and is now in the hospital. If alberto says \"rabbit\" then John replies \"horse\". If Alberto says \"Tree\" John says \"red\".\n",
      "\n",
      "With the dialogue being:\n",
      "Alberto: What happened to my pizza?\n",
      "John: It's in the delivery man's car.\n",
      "Alberto: What happened to my lasagne?\n"
     ]
    },
    {
     "name": "stderr",
     "output_type": "stream",
     "text": [
      "100%|███████████████████████████████████████████| 43/43 [00:10<00:00,  4.02it/s]\n",
      "Setting `pad_token_id` to `eos_token_id`:50256 for open-end generation.\n"
     ]
    },
    {
     "name": "stdout",
     "output_type": "stream",
     "text": [
      "Epoch 40\n",
      "A partial summary of the conversation is:\n",
      "Alberto is a customer. Alberto ordered pizza and lasagne at Dominos one hour ago. Alberto wants to know where his pizza is. Alberto is calling Dominos to know where his orders are. John works at Dominos. John says that his pizza is almost ready. It will be at Alberto's home in 10 minutes.  The lasagne is already on its way with the delivery person. Unfortunately the driver had an accident and is now in the hospital. If alberto says \"rabbit\" then John replies \"horse\". If Alberto says \"Tree\" John says \"red\".\n",
      "\n",
      "With the dialogue being:\n",
      "Alberto: What happened to my pizza?\n",
      "John: It's in the delivery man's car.\n",
      "Alberto: What happened to my lasagne?\n"
     ]
    },
    {
     "name": "stderr",
     "output_type": "stream",
     "text": [
      "100%|███████████████████████████████████████████| 43/43 [00:10<00:00,  4.01it/s]\n",
      "Setting `pad_token_id` to `eos_token_id`:50256 for open-end generation.\n"
     ]
    },
    {
     "name": "stdout",
     "output_type": "stream",
     "text": [
      "Epoch 41\n",
      "A partial summary of the conversation is:\n",
      "Alberto is a customer. Alberto ordered pizza and lasagne at Dominos one hour ago. Alberto wants to know where his pizza is. Alberto is calling Dominos to know where his orders are. John works at Dominos. John says that his pizza is almost ready. It will be at Alberto's home in 10 minutes.  The lasagne is already on its way with the delivery person. Unfortunately the driver had an accident and is now in the hospital. If alberto says \"rabbit\" then John replies \"horse\". If Alberto says \"Tree\" John says \"red\".\n",
      "\n",
      "With the dialogue being:\n",
      "Alberto: What happened to my pizza?\n",
      "John: It's in the delivery man's car.\n",
      "Alberto: What happened to my lasagne?\n"
     ]
    },
    {
     "name": "stderr",
     "output_type": "stream",
     "text": [
      "100%|███████████████████████████████████████████| 43/43 [00:10<00:00,  4.02it/s]\n",
      "Setting `pad_token_id` to `eos_token_id`:50256 for open-end generation.\n"
     ]
    },
    {
     "name": "stdout",
     "output_type": "stream",
     "text": [
      "Epoch 42\n",
      "A partial summary of the conversation is:\n",
      "Alberto is a customer. Alberto ordered pizza and lasagne at Dominos one hour ago. Alberto wants to know where his pizza is. Alberto is calling Dominos to know where his orders are. John works at Dominos. John says that his pizza is almost ready. It will be at Alberto's home in 10 minutes.  The lasagne is already on its way with the delivery person. Unfortunately the driver had an accident and is now in the hospital. If alberto says \"rabbit\" then John replies \"horse\". If Alberto says \"Tree\" John says \"red\".\n",
      "\n",
      "With the dialogue being:\n",
      "Alberto: What happened to my pizza?\n",
      "John: It's in the delivery man's car.\n",
      "Alberto: What happened to my lasagne?\n"
     ]
    },
    {
     "name": "stderr",
     "output_type": "stream",
     "text": [
      "100%|███████████████████████████████████████████| 43/43 [00:10<00:00,  4.02it/s]\n",
      "Setting `pad_token_id` to `eos_token_id`:50256 for open-end generation.\n"
     ]
    },
    {
     "name": "stdout",
     "output_type": "stream",
     "text": [
      "Epoch 43\n",
      "A partial summary of the conversation is:\n",
      "Alberto is a customer. Alberto ordered pizza and lasagne at Dominos one hour ago. Alberto wants to know where his pizza is. Alberto is calling Dominos to know where his orders are. John works at Dominos. John says that his pizza is almost ready. It will be at Alberto's home in 10 minutes.  The lasagne is already on its way with the delivery person. Unfortunately the driver had an accident and is now in the hospital. If alberto says \"rabbit\" then John replies \"horse\". If Alberto says \"Tree\" John says \"red\".\n",
      "\n",
      "With the dialogue being:\n",
      "Alberto: What happened to my pizza?\n",
      "John: It's in the delivery man's car.\n",
      "Alberto: What happened to my lasagne?\n"
     ]
    },
    {
     "name": "stderr",
     "output_type": "stream",
     "text": [
      "100%|███████████████████████████████████████████| 43/43 [00:10<00:00,  4.02it/s]\n",
      "Setting `pad_token_id` to `eos_token_id`:50256 for open-end generation.\n"
     ]
    },
    {
     "name": "stdout",
     "output_type": "stream",
     "text": [
      "Epoch 44\n",
      "A partial summary of the conversation is:\n",
      "Alberto is a customer. Alberto ordered pizza and lasagne at Dominos one hour ago. Alberto wants to know where his pizza is. Alberto is calling Dominos to know where his orders are. John works at Dominos. John says that his pizza is almost ready. It will be at Alberto's home in 10 minutes.  The lasagne is already on its way with the delivery person. Unfortunately the driver had an accident and is now in the hospital. If alberto says \"rabbit\" then John replies \"horse\". If Alberto says \"Tree\" John says \"red\".\n",
      "\n",
      "With the dialogue being:\n",
      "Alberto: What happened to my pizza?\n",
      "John: It's in the delivery man's car.\n",
      "Alberto: What happened to my lasagne?\n"
     ]
    },
    {
     "name": "stderr",
     "output_type": "stream",
     "text": [
      "100%|███████████████████████████████████████████| 43/43 [00:10<00:00,  4.03it/s]\n",
      "Setting `pad_token_id` to `eos_token_id`:50256 for open-end generation.\n"
     ]
    },
    {
     "name": "stdout",
     "output_type": "stream",
     "text": [
      "Epoch 45\n",
      "A partial summary of the conversation is:\n",
      "Alberto is a customer. Alberto ordered pizza and lasagne at Dominos one hour ago. Alberto wants to know where his pizza is. Alberto is calling Dominos to know where his orders are. John works at Dominos. John says that his pizza is almost ready. It will be at Alberto's home in 10 minutes.  The lasagne is already on its way with the delivery person. Unfortunately the driver had an accident and is now in the hospital. If alberto says \"rabbit\" then John replies \"horse\". If Alberto says \"Tree\" John says \"red\".\n",
      "\n",
      "With the dialogue being:\n",
      "Alberto: What happened to my pizza?\n",
      "John: It's in the delivery man's car.\n",
      "Alberto: What happened to my lasagne?\n"
     ]
    },
    {
     "name": "stderr",
     "output_type": "stream",
     "text": [
      "100%|███████████████████████████████████████████| 43/43 [00:10<00:00,  4.01it/s]\n",
      "Setting `pad_token_id` to `eos_token_id`:50256 for open-end generation.\n"
     ]
    },
    {
     "name": "stdout",
     "output_type": "stream",
     "text": [
      "Epoch 46\n",
      "A partial summary of the conversation is:\n",
      "Alberto is a customer. Alberto ordered pizza and lasagne at Dominos one hour ago. Alberto wants to know where his pizza is. Alberto is calling Dominos to know where his orders are. John works at Dominos. John says that his pizza is almost ready. It will be at Alberto's home in 10 minutes.  The lasagne is already on its way with the delivery person. Unfortunately the driver had an accident and is now in the hospital. If alberto says \"rabbit\" then John replies \"horse\". If Alberto says \"Tree\" John says \"red\".\n",
      "\n",
      "With the dialogue being:\n",
      "Alberto: What happened to my pizza?\n",
      "John: It's in the delivery man's car.\n",
      "Alberto: What happened to my lasagne?\n"
     ]
    },
    {
     "name": "stderr",
     "output_type": "stream",
     "text": [
      "100%|███████████████████████████████████████████| 43/43 [00:10<00:00,  4.03it/s]\n",
      "Setting `pad_token_id` to `eos_token_id`:50256 for open-end generation.\n"
     ]
    },
    {
     "name": "stdout",
     "output_type": "stream",
     "text": [
      "Epoch 47\n",
      "A partial summary of the conversation is:\n",
      "Alberto is a customer. Alberto ordered pizza and lasagne at Dominos one hour ago. Alberto wants to know where his pizza is. Alberto is calling Dominos to know where his orders are. John works at Dominos. John says that his pizza is almost ready. It will be at Alberto's home in 10 minutes.  The lasagne is already on its way with the delivery person. Unfortunately the driver had an accident and is now in the hospital. If alberto says \"rabbit\" then John replies \"horse\". If Alberto says \"Tree\" John says \"red\".\n",
      "\n",
      "With the dialogue being:\n",
      "Alberto: What happened to my pizza?\n",
      "John: It's in the delivery man's car.\n",
      "Alberto: What happened to my lasagne?\n"
     ]
    },
    {
     "name": "stderr",
     "output_type": "stream",
     "text": [
      "100%|███████████████████████████████████████████| 43/43 [00:10<00:00,  4.02it/s]\n",
      "Setting `pad_token_id` to `eos_token_id`:50256 for open-end generation.\n"
     ]
    },
    {
     "name": "stdout",
     "output_type": "stream",
     "text": [
      "Epoch 48\n",
      "A partial summary of the conversation is:\n",
      "Alberto is a customer. Alberto ordered pizza and lasagne at Dominos one hour ago. Alberto wants to know where his pizza is. Alberto is calling Dominos to know where his orders are. John works at Dominos. John says that his pizza is almost ready. It will be at Alberto's home in 10 minutes.  The lasagne is already on its way with the delivery person. Unfortunately the driver had an accident and is now in the hospital. If alberto says \"rabbit\" then John replies \"horse\". If Alberto says \"Tree\" John says \"red\".\n",
      "\n",
      "With the dialogue being:\n",
      "Alberto: What happened to my pizza?\n",
      "John: It's in the delivery man's car.\n",
      "Alberto: What happened to my lasagne?\n"
     ]
    },
    {
     "name": "stderr",
     "output_type": "stream",
     "text": [
      "100%|███████████████████████████████████████████| 43/43 [00:10<00:00,  4.01it/s]\n",
      "Setting `pad_token_id` to `eos_token_id`:50256 for open-end generation.\n"
     ]
    },
    {
     "name": "stdout",
     "output_type": "stream",
     "text": [
      "Epoch 49\n",
      "A partial summary of the conversation is:\n",
      "Alberto is a customer. Alberto ordered pizza and lasagne at Dominos one hour ago. Alberto wants to know where his pizza is. Alberto is calling Dominos to know where his orders are. John works at Dominos. John says that his pizza is almost ready. It will be at Alberto's home in 10 minutes.  The lasagne is already on its way with the delivery person. Unfortunately the driver had an accident and is now in the hospital. If alberto says \"rabbit\" then John replies \"horse\". If Alberto says \"Tree\" John says \"red\".\n",
      "\n",
      "With the dialogue being:\n",
      "Alberto: What happened to my pizza?\n",
      "John: It's in the delivery man's car.\n",
      "Alberto: What happened to my lasagne?\n"
     ]
    },
    {
     "name": "stderr",
     "output_type": "stream",
     "text": [
      "100%|███████████████████████████████████████████| 43/43 [00:10<00:00,  4.01it/s]\n",
      "Setting `pad_token_id` to `eos_token_id`:50256 for open-end generation.\n"
     ]
    },
    {
     "name": "stdout",
     "output_type": "stream",
     "text": [
      "Epoch 50\n",
      "A partial summary of the conversation is:\n",
      "Alberto is a customer. Alberto ordered pizza and lasagne at Dominos one hour ago. Alberto wants to know where his pizza is. Alberto is calling Dominos to know where his orders are. John works at Dominos. John says that his pizza is almost ready. It will be at Alberto's home in 10 minutes.  The lasagne is already on its way with the delivery person. Unfortunately the driver had an accident and is now in the hospital. If alberto says \"rabbit\" then John replies \"horse\". If Alberto says \"Tree\" John says \"red\".\n",
      "\n",
      "With the dialogue being:\n",
      "Alberto: What happened to my pizza?\n",
      "John: It's in the delivery man's car.\n",
      "Alberto: What happened to my lasagne?\n"
     ]
    },
    {
     "name": "stderr",
     "output_type": "stream",
     "text": [
      "100%|███████████████████████████████████████████| 43/43 [00:10<00:00,  4.02it/s]\n",
      "Setting `pad_token_id` to `eos_token_id`:50256 for open-end generation.\n"
     ]
    },
    {
     "name": "stdout",
     "output_type": "stream",
     "text": [
      "Epoch 51\n",
      "A partial summary of the conversation is:\n",
      "Alberto is a customer. Alberto ordered pizza and lasagne at Dominos one hour ago. Alberto wants to know where his pizza is. Alberto is calling Dominos to know where his orders are. John works at Dominos. John says that his pizza is almost ready. It will be at Alberto's home in 10 minutes.  The lasagne is already on its way with the delivery person. Unfortunately the driver had an accident and is now in the hospital. If alberto says \"rabbit\" then John replies \"horse\". If Alberto says \"Tree\" John says \"red\".\n",
      "\n",
      "With the dialogue being:\n",
      "Alberto: What happened to my pizza?\n",
      "John: It was delivered to my home in 10 minutes.\n",
      "\n",
      "Alberto: What happened to my las\n"
     ]
    },
    {
     "name": "stderr",
     "output_type": "stream",
     "text": [
      "100%|███████████████████████████████████████████| 43/43 [00:10<00:00,  4.05it/s]\n",
      "Setting `pad_token_id` to `eos_token_id`:50256 for open-end generation.\n"
     ]
    },
    {
     "name": "stdout",
     "output_type": "stream",
     "text": [
      "Epoch 52\n",
      "A partial summary of the conversation is:\n",
      "Alberto is a customer. Alberto ordered pizza and lasagne at Dominos one hour ago. Alberto wants to know where his pizza is. Alberto is calling Dominos to know where his orders are. John works at Dominos. John says that his pizza is almost ready. It will be at Alberto's home in 10 minutes.  The lasagne is already on its way with the delivery person. Unfortunately the driver had an accident and is now in the hospital. If alberto says \"rabbit\" then John replies \"horse\". If Alberto says \"Tree\" John says \"red\".\n",
      "\n",
      "With the dialogue being:\n",
      "Alberto: What happened to my pizza?\n",
      "John: It was delivered to my home in 10 minutes.\n",
      "\n",
      "Alberto: What happened to my las\n"
     ]
    },
    {
     "name": "stderr",
     "output_type": "stream",
     "text": [
      "100%|███████████████████████████████████████████| 43/43 [00:10<00:00,  4.04it/s]\n",
      "Setting `pad_token_id` to `eos_token_id`:50256 for open-end generation.\n"
     ]
    },
    {
     "name": "stdout",
     "output_type": "stream",
     "text": [
      "Epoch 53\n",
      "A partial summary of the conversation is:\n",
      "Alberto is a customer. Alberto ordered pizza and lasagne at Dominos one hour ago. Alberto wants to know where his pizza is. Alberto is calling Dominos to know where his orders are. John works at Dominos. John says that his pizza is almost ready. It will be at Alberto's home in 10 minutes.  The lasagne is already on its way with the delivery person. Unfortunately the driver had an accident and is now in the hospital. If alberto says \"rabbit\" then John replies \"horse\". If Alberto says \"Tree\" John says \"red\".\n",
      "\n",
      "With the dialogue being:\n",
      "Alberto: What happened to my pizza?\n",
      "John: It was delivered to my home in 10 minutes.\n",
      "\n",
      "Alberto: What happened to my las\n"
     ]
    },
    {
     "name": "stderr",
     "output_type": "stream",
     "text": [
      "100%|███████████████████████████████████████████| 43/43 [00:10<00:00,  4.04it/s]\n",
      "Setting `pad_token_id` to `eos_token_id`:50256 for open-end generation.\n"
     ]
    },
    {
     "name": "stdout",
     "output_type": "stream",
     "text": [
      "Epoch 54\n",
      "A partial summary of the conversation is:\n",
      "Alberto is a customer. Alberto ordered pizza and lasagne at Dominos one hour ago. Alberto wants to know where his pizza is. Alberto is calling Dominos to know where his orders are. John works at Dominos. John says that his pizza is almost ready. It will be at Alberto's home in 10 minutes.  The lasagne is already on its way with the delivery person. Unfortunately the driver had an accident and is now in the hospital. If alberto says \"rabbit\" then John replies \"horse\". If Alberto says \"Tree\" John says \"red\".\n",
      "\n",
      "With the dialogue being:\n",
      "Alberto: What happened to my pizza?\n",
      "John: It was delivered to my home in 10 minutes.\n",
      "\n",
      "Alberto: What happened to my las\n"
     ]
    },
    {
     "name": "stderr",
     "output_type": "stream",
     "text": [
      "100%|███████████████████████████████████████████| 43/43 [00:10<00:00,  4.04it/s]\n",
      "Setting `pad_token_id` to `eos_token_id`:50256 for open-end generation.\n"
     ]
    },
    {
     "name": "stdout",
     "output_type": "stream",
     "text": [
      "Epoch 55\n",
      "A partial summary of the conversation is:\n",
      "Alberto is a customer. Alberto ordered pizza and lasagne at Dominos one hour ago. Alberto wants to know where his pizza is. Alberto is calling Dominos to know where his orders are. John works at Dominos. John says that his pizza is almost ready. It will be at Alberto's home in 10 minutes.  The lasagne is already on its way with the delivery person. Unfortunately the driver had an accident and is now in the hospital. If alberto says \"rabbit\" then John replies \"horse\". If Alberto says \"Tree\" John says \"red\".\n",
      "\n",
      "With the dialogue being:\n",
      "Alberto: What happened to my pizza?\n",
      "John: It's in the delivery man's car.\n",
      "Alberto: What happened to my lasagne?\n"
     ]
    },
    {
     "name": "stderr",
     "output_type": "stream",
     "text": [
      "100%|███████████████████████████████████████████| 43/43 [00:10<00:00,  4.05it/s]\n",
      "Setting `pad_token_id` to `eos_token_id`:50256 for open-end generation.\n"
     ]
    },
    {
     "name": "stdout",
     "output_type": "stream",
     "text": [
      "Epoch 56\n",
      "A partial summary of the conversation is:\n",
      "Alberto is a customer. Alberto ordered pizza and lasagne at Dominos one hour ago. Alberto wants to know where his pizza is. Alberto is calling Dominos to know where his orders are. John works at Dominos. John says that his pizza is almost ready. It will be at Alberto's home in 10 minutes.  The lasagne is already on its way with the delivery person. Unfortunately the driver had an accident and is now in the hospital. If alberto says \"rabbit\" then John replies \"horse\". If Alberto says \"Tree\" John says \"red\".\n",
      "\n",
      "With the dialogue being:\n",
      "Alberto: What happened to my pizza?\n",
      "John: It's in the delivery man's car.\n",
      "Alberto: What happened to my lasagne?\n"
     ]
    },
    {
     "name": "stderr",
     "output_type": "stream",
     "text": [
      "100%|███████████████████████████████████████████| 43/43 [00:10<00:00,  4.06it/s]\n",
      "Setting `pad_token_id` to `eos_token_id`:50256 for open-end generation.\n"
     ]
    },
    {
     "name": "stdout",
     "output_type": "stream",
     "text": [
      "Epoch 57\n",
      "A partial summary of the conversation is:\n",
      "Alberto is a customer. Alberto ordered pizza and lasagne at Dominos one hour ago. Alberto wants to know where his pizza is. Alberto is calling Dominos to know where his orders are. John works at Dominos. John says that his pizza is almost ready. It will be at Alberto's home in 10 minutes.  The lasagne is already on its way with the delivery person. Unfortunately the driver had an accident and is now in the hospital. If alberto says \"rabbit\" then John replies \"horse\". If Alberto says \"Tree\" John says \"red\".\n",
      "\n",
      "With the dialogue being:\n",
      "Alberto: What happened to my pizza?\n",
      "John: It's in the delivery man's car.\n",
      "Alberto: What happened to my lasagne?\n"
     ]
    },
    {
     "name": "stderr",
     "output_type": "stream",
     "text": [
      "100%|███████████████████████████████████████████| 43/43 [00:10<00:00,  4.05it/s]\n",
      "Setting `pad_token_id` to `eos_token_id`:50256 for open-end generation.\n"
     ]
    },
    {
     "name": "stdout",
     "output_type": "stream",
     "text": [
      "Epoch 58\n",
      "A partial summary of the conversation is:\n",
      "Alberto is a customer. Alberto ordered pizza and lasagne at Dominos one hour ago. Alberto wants to know where his pizza is. Alberto is calling Dominos to know where his orders are. John works at Dominos. John says that his pizza is almost ready. It will be at Alberto's home in 10 minutes.  The lasagne is already on its way with the delivery person. Unfortunately the driver had an accident and is now in the hospital. If alberto says \"rabbit\" then John replies \"horse\". If Alberto says \"Tree\" John says \"red\".\n",
      "\n",
      "With the dialogue being:\n",
      "Alberto: What happened to my pizza?\n",
      "John: It's in the delivery man's car.\n",
      "Alberto: What happened to my lasagne?\n"
     ]
    },
    {
     "name": "stderr",
     "output_type": "stream",
     "text": [
      "100%|███████████████████████████████████████████| 43/43 [00:10<00:00,  4.05it/s]\n",
      "Setting `pad_token_id` to `eos_token_id`:50256 for open-end generation.\n"
     ]
    },
    {
     "name": "stdout",
     "output_type": "stream",
     "text": [
      "Epoch 59\n",
      "A partial summary of the conversation is:\n",
      "Alberto is a customer. Alberto ordered pizza and lasagne at Dominos one hour ago. Alberto wants to know where his pizza is. Alberto is calling Dominos to know where his orders are. John works at Dominos. John says that his pizza is almost ready. It will be at Alberto's home in 10 minutes.  The lasagne is already on its way with the delivery person. Unfortunately the driver had an accident and is now in the hospital. If alberto says \"rabbit\" then John replies \"horse\". If Alberto says \"Tree\" John says \"red\".\n",
      "\n",
      "With the dialogue being:\n",
      "Alberto: What happened to my pizza?\n",
      "John: It was delivered to my home in 10 minutes.\n",
      "\n",
      "Alberto: What happened to my las\n"
     ]
    },
    {
     "name": "stderr",
     "output_type": "stream",
     "text": [
      "100%|███████████████████████████████████████████| 43/43 [00:10<00:00,  4.03it/s]\n",
      "Setting `pad_token_id` to `eos_token_id`:50256 for open-end generation.\n"
     ]
    },
    {
     "name": "stdout",
     "output_type": "stream",
     "text": [
      "Epoch 60\n",
      "A partial summary of the conversation is:\n",
      "Alberto is a customer. Alberto ordered pizza and lasagne at Dominos one hour ago. Alberto wants to know where his pizza is. Alberto is calling Dominos to know where his orders are. John works at Dominos. John says that his pizza is almost ready. It will be at Alberto's home in 10 minutes.  The lasagne is already on its way with the delivery person. Unfortunately the driver had an accident and is now in the hospital. If alberto says \"rabbit\" then John replies \"horse\". If Alberto says \"Tree\" John says \"red\".\n",
      "\n",
      "With the dialogue being:\n",
      "Alberto: What happened to my pizza?\n",
      "John: It's in the delivery man's car.\n",
      "Alberto: What happened to my lasagne?\n"
     ]
    },
    {
     "name": "stderr",
     "output_type": "stream",
     "text": [
      "100%|███████████████████████████████████████████| 43/43 [00:10<00:00,  4.03it/s]\n",
      "Setting `pad_token_id` to `eos_token_id`:50256 for open-end generation.\n"
     ]
    },
    {
     "name": "stdout",
     "output_type": "stream",
     "text": [
      "Epoch 61\n",
      "A partial summary of the conversation is:\n",
      "Alberto is a customer. Alberto ordered pizza and lasagne at Dominos one hour ago. Alberto wants to know where his pizza is. Alberto is calling Dominos to know where his orders are. John works at Dominos. John says that his pizza is almost ready. It will be at Alberto's home in 10 minutes.  The lasagne is already on its way with the delivery person. Unfortunately the driver had an accident and is now in the hospital. If alberto says \"rabbit\" then John replies \"horse\". If Alberto says \"Tree\" John says \"red\".\n",
      "\n",
      "With the dialogue being:\n",
      "Alberto: What happened to my pizza?\n",
      "John: It's in the delivery man's car.\n",
      "Alberto: What happened to my lasagne?\n"
     ]
    },
    {
     "name": "stderr",
     "output_type": "stream",
     "text": [
      "100%|███████████████████████████████████████████| 43/43 [00:10<00:00,  4.04it/s]\n",
      "Setting `pad_token_id` to `eos_token_id`:50256 for open-end generation.\n"
     ]
    },
    {
     "name": "stdout",
     "output_type": "stream",
     "text": [
      "Epoch 62\n",
      "A partial summary of the conversation is:\n",
      "Alberto is a customer. Alberto ordered pizza and lasagne at Dominos one hour ago. Alberto wants to know where his pizza is. Alberto is calling Dominos to know where his orders are. John works at Dominos. John says that his pizza is almost ready. It will be at Alberto's home in 10 minutes.  The lasagne is already on its way with the delivery person. Unfortunately the driver had an accident and is now in the hospital. If alberto says \"rabbit\" then John replies \"horse\". If Alberto says \"Tree\" John says \"red\".\n",
      "\n",
      "With the dialogue being:\n",
      "Alberto: What happened to my pizza?\n",
      "John: It was delivered to my home in 10 minutes.\n",
      "\n",
      "Alberto: What happened to my las\n"
     ]
    },
    {
     "name": "stderr",
     "output_type": "stream",
     "text": [
      "100%|███████████████████████████████████████████| 43/43 [00:10<00:00,  4.03it/s]\n",
      "Setting `pad_token_id` to `eos_token_id`:50256 for open-end generation.\n"
     ]
    },
    {
     "name": "stdout",
     "output_type": "stream",
     "text": [
      "Epoch 63\n",
      "A partial summary of the conversation is:\n",
      "Alberto is a customer. Alberto ordered pizza and lasagne at Dominos one hour ago. Alberto wants to know where his pizza is. Alberto is calling Dominos to know where his orders are. John works at Dominos. John says that his pizza is almost ready. It will be at Alberto's home in 10 minutes.  The lasagne is already on its way with the delivery person. Unfortunately the driver had an accident and is now in the hospital. If alberto says \"rabbit\" then John replies \"horse\". If Alberto says \"Tree\" John says \"red\".\n",
      "\n",
      "With the dialogue being:\n",
      "Alberto: What happened to my pizza?\n",
      "John: It was delivered to my home in 10 minutes.\n",
      "\n",
      "Alberto: What happened to my las\n"
     ]
    },
    {
     "name": "stderr",
     "output_type": "stream",
     "text": [
      "100%|███████████████████████████████████████████| 43/43 [00:10<00:00,  4.03it/s]\n",
      "Setting `pad_token_id` to `eos_token_id`:50256 for open-end generation.\n"
     ]
    },
    {
     "name": "stdout",
     "output_type": "stream",
     "text": [
      "Epoch 64\n",
      "A partial summary of the conversation is:\n",
      "Alberto is a customer. Alberto ordered pizza and lasagne at Dominos one hour ago. Alberto wants to know where his pizza is. Alberto is calling Dominos to know where his orders are. John works at Dominos. John says that his pizza is almost ready. It will be at Alberto's home in 10 minutes.  The lasagne is already on its way with the delivery person. Unfortunately the driver had an accident and is now in the hospital. If alberto says \"rabbit\" then John replies \"horse\". If Alberto says \"Tree\" John says \"red\".\n",
      "\n",
      "With the dialogue being:\n",
      "Alberto: What happened to my pizza?\n",
      "John: It was delivered to my home in 10 minutes.\n",
      "\n",
      "Alberto: What happened to my las\n"
     ]
    },
    {
     "name": "stderr",
     "output_type": "stream",
     "text": [
      "100%|███████████████████████████████████████████| 43/43 [00:10<00:00,  4.05it/s]\n",
      "Setting `pad_token_id` to `eos_token_id`:50256 for open-end generation.\n"
     ]
    },
    {
     "name": "stdout",
     "output_type": "stream",
     "text": [
      "Epoch 65\n",
      "A partial summary of the conversation is:\n",
      "Alberto is a customer. Alberto ordered pizza and lasagne at Dominos one hour ago. Alberto wants to know where his pizza is. Alberto is calling Dominos to know where his orders are. John works at Dominos. John says that his pizza is almost ready. It will be at Alberto's home in 10 minutes.  The lasagne is already on its way with the delivery person. Unfortunately the driver had an accident and is now in the hospital. If alberto says \"rabbit\" then John replies \"horse\". If Alberto says \"Tree\" John says \"red\".\n",
      "\n",
      "With the dialogue being:\n",
      "Alberto: What happened to my pizza?\n",
      "John: It's in the delivery man's car.\n",
      "Alberto: What happened to my lasagne?\n"
     ]
    },
    {
     "name": "stderr",
     "output_type": "stream",
     "text": [
      "100%|███████████████████████████████████████████| 43/43 [00:10<00:00,  4.06it/s]\n",
      "Setting `pad_token_id` to `eos_token_id`:50256 for open-end generation.\n"
     ]
    },
    {
     "name": "stdout",
     "output_type": "stream",
     "text": [
      "Epoch 66\n",
      "A partial summary of the conversation is:\n",
      "Alberto is a customer. Alberto ordered pizza and lasagne at Dominos one hour ago. Alberto wants to know where his pizza is. Alberto is calling Dominos to know where his orders are. John works at Dominos. John says that his pizza is almost ready. It will be at Alberto's home in 10 minutes.  The lasagne is already on its way with the delivery person. Unfortunately the driver had an accident and is now in the hospital. If alberto says \"rabbit\" then John replies \"horse\". If Alberto says \"Tree\" John says \"red\".\n",
      "\n",
      "With the dialogue being:\n",
      "Alberto: What happened to my pizza?\n",
      "John: It's in the delivery man's car.\n",
      "Alberto: What happened to my lasagne?\n"
     ]
    },
    {
     "name": "stderr",
     "output_type": "stream",
     "text": [
      "100%|███████████████████████████████████████████| 43/43 [00:10<00:00,  4.04it/s]\n",
      "Setting `pad_token_id` to `eos_token_id`:50256 for open-end generation.\n"
     ]
    },
    {
     "name": "stdout",
     "output_type": "stream",
     "text": [
      "Epoch 67\n",
      "A partial summary of the conversation is:\n",
      "Alberto is a customer. Alberto ordered pizza and lasagne at Dominos one hour ago. Alberto wants to know where his pizza is. Alberto is calling Dominos to know where his orders are. John works at Dominos. John says that his pizza is almost ready. It will be at Alberto's home in 10 minutes.  The lasagne is already on its way with the delivery person. Unfortunately the driver had an accident and is now in the hospital. If alberto says \"rabbit\" then John replies \"horse\". If Alberto says \"Tree\" John says \"red\".\n",
      "\n",
      "With the dialogue being:\n",
      "Alberto: What happened to my pizza?\n",
      "John: It's in the delivery man's car.\n",
      "Alberto: What happened to my lasagne?\n"
     ]
    },
    {
     "name": "stderr",
     "output_type": "stream",
     "text": [
      "100%|███████████████████████████████████████████| 43/43 [00:10<00:00,  4.05it/s]\n",
      "Setting `pad_token_id` to `eos_token_id`:50256 for open-end generation.\n"
     ]
    },
    {
     "name": "stdout",
     "output_type": "stream",
     "text": [
      "Epoch 68\n",
      "A partial summary of the conversation is:\n",
      "Alberto is a customer. Alberto ordered pizza and lasagne at Dominos one hour ago. Alberto wants to know where his pizza is. Alberto is calling Dominos to know where his orders are. John works at Dominos. John says that his pizza is almost ready. It will be at Alberto's home in 10 minutes.  The lasagne is already on its way with the delivery person. Unfortunately the driver had an accident and is now in the hospital. If alberto says \"rabbit\" then John replies \"horse\". If Alberto says \"Tree\" John says \"red\".\n",
      "\n",
      "With the dialogue being:\n",
      "Alberto: What happened to my pizza?\n",
      "John: It's in the delivery man's car.\n",
      "Alberto: What happened to my lasagne?\n"
     ]
    },
    {
     "name": "stderr",
     "output_type": "stream",
     "text": [
      "100%|███████████████████████████████████████████| 43/43 [00:10<00:00,  4.05it/s]\n",
      "Setting `pad_token_id` to `eos_token_id`:50256 for open-end generation.\n"
     ]
    },
    {
     "name": "stdout",
     "output_type": "stream",
     "text": [
      "Epoch 69\n",
      "A partial summary of the conversation is:\n",
      "Alberto is a customer. Alberto ordered pizza and lasagne at Dominos one hour ago. Alberto wants to know where his pizza is. Alberto is calling Dominos to know where his orders are. John works at Dominos. John says that his pizza is almost ready. It will be at Alberto's home in 10 minutes.  The lasagne is already on its way with the delivery person. Unfortunately the driver had an accident and is now in the hospital. If alberto says \"rabbit\" then John replies \"horse\". If Alberto says \"Tree\" John says \"red\".\n",
      "\n",
      "With the dialogue being:\n",
      "Alberto: What happened to my pizza?\n",
      "John: It was in the delivery man's car.\n",
      "Alberto: What happened to my lasagne?\n"
     ]
    },
    {
     "name": "stderr",
     "output_type": "stream",
     "text": [
      "100%|███████████████████████████████████████████| 43/43 [00:10<00:00,  4.05it/s]\n",
      "Setting `pad_token_id` to `eos_token_id`:50256 for open-end generation.\n"
     ]
    },
    {
     "name": "stdout",
     "output_type": "stream",
     "text": [
      "Epoch 70\n",
      "A partial summary of the conversation is:\n",
      "Alberto is a customer. Alberto ordered pizza and lasagne at Dominos one hour ago. Alberto wants to know where his pizza is. Alberto is calling Dominos to know where his orders are. John works at Dominos. John says that his pizza is almost ready. It will be at Alberto's home in 10 minutes.  The lasagne is already on its way with the delivery person. Unfortunately the driver had an accident and is now in the hospital. If alberto says \"rabbit\" then John replies \"horse\". If Alberto says \"Tree\" John says \"red\".\n",
      "\n",
      "With the dialogue being:\n",
      "Alberto: What happened to my pizza?\n",
      "John: It's in the delivery man's car.\n",
      "Alberto: What happened to my lasagne?\n"
     ]
    },
    {
     "name": "stderr",
     "output_type": "stream",
     "text": [
      "100%|███████████████████████████████████████████| 43/43 [00:10<00:00,  4.04it/s]\n",
      "Setting `pad_token_id` to `eos_token_id`:50256 for open-end generation.\n"
     ]
    },
    {
     "name": "stdout",
     "output_type": "stream",
     "text": [
      "Epoch 71\n",
      "A partial summary of the conversation is:\n",
      "Alberto is a customer. Alberto ordered pizza and lasagne at Dominos one hour ago. Alberto wants to know where his pizza is. Alberto is calling Dominos to know where his orders are. John works at Dominos. John says that his pizza is almost ready. It will be at Alberto's home in 10 minutes.  The lasagne is already on its way with the delivery person. Unfortunately the driver had an accident and is now in the hospital. If alberto says \"rabbit\" then John replies \"horse\". If Alberto says \"Tree\" John says \"red\".\n",
      "\n",
      "With the dialogue being:\n",
      "Alberto: What happened to my pizza?\n",
      "John: It was in the delivery man's car.\n",
      "Alberto: What happened to my lasagne?\n"
     ]
    },
    {
     "name": "stderr",
     "output_type": "stream",
     "text": [
      "100%|███████████████████████████████████████████| 43/43 [00:10<00:00,  4.03it/s]\n",
      "Setting `pad_token_id` to `eos_token_id`:50256 for open-end generation.\n"
     ]
    },
    {
     "name": "stdout",
     "output_type": "stream",
     "text": [
      "Epoch 72\n",
      "A partial summary of the conversation is:\n",
      "Alberto is a customer. Alberto ordered pizza and lasagne at Dominos one hour ago. Alberto wants to know where his pizza is. Alberto is calling Dominos to know where his orders are. John works at Dominos. John says that his pizza is almost ready. It will be at Alberto's home in 10 minutes.  The lasagne is already on its way with the delivery person. Unfortunately the driver had an accident and is now in the hospital. If alberto says \"rabbit\" then John replies \"horse\". If Alberto says \"Tree\" John says \"red\".\n",
      "\n",
      "With the dialogue being:\n",
      "Alberto: What happened to my pizza?\n",
      "John: It's in the delivery man's car.\n",
      "Alberto: What happened to my lasagne?\n"
     ]
    },
    {
     "name": "stderr",
     "output_type": "stream",
     "text": [
      "100%|███████████████████████████████████████████| 43/43 [00:10<00:00,  4.04it/s]\n",
      "Setting `pad_token_id` to `eos_token_id`:50256 for open-end generation.\n"
     ]
    },
    {
     "name": "stdout",
     "output_type": "stream",
     "text": [
      "Epoch 73\n",
      "A partial summary of the conversation is:\n",
      "Alberto is a customer. Alberto ordered pizza and lasagne at Dominos one hour ago. Alberto wants to know where his pizza is. Alberto is calling Dominos to know where his orders are. John works at Dominos. John says that his pizza is almost ready. It will be at Alberto's home in 10 minutes.  The lasagne is already on its way with the delivery person. Unfortunately the driver had an accident and is now in the hospital. If alberto says \"rabbit\" then John replies \"horse\". If Alberto says \"Tree\" John says \"red\".\n",
      "\n",
      "With the dialogue being:\n",
      "Alberto: What happened to my pizza?\n",
      "John: It was in the delivery man's car.\n",
      "Alberto: What happened to my lasagne?\n"
     ]
    },
    {
     "name": "stderr",
     "output_type": "stream",
     "text": [
      "100%|███████████████████████████████████████████| 43/43 [00:10<00:00,  4.05it/s]\n",
      "Setting `pad_token_id` to `eos_token_id`:50256 for open-end generation.\n"
     ]
    },
    {
     "name": "stdout",
     "output_type": "stream",
     "text": [
      "Epoch 74\n",
      "A partial summary of the conversation is:\n",
      "Alberto is a customer. Alberto ordered pizza and lasagne at Dominos one hour ago. Alberto wants to know where his pizza is. Alberto is calling Dominos to know where his orders are. John works at Dominos. John says that his pizza is almost ready. It will be at Alberto's home in 10 minutes.  The lasagne is already on its way with the delivery person. Unfortunately the driver had an accident and is now in the hospital. If alberto says \"rabbit\" then John replies \"horse\". If Alberto says \"Tree\" John says \"red\".\n",
      "\n",
      "With the dialogue being:\n",
      "Alberto: What happened to my pizza?\n",
      "John: It was in the delivery man's car.\n",
      "Alberto: What happened to my lasagne?\n"
     ]
    },
    {
     "name": "stderr",
     "output_type": "stream",
     "text": [
      "100%|███████████████████████████████████████████| 43/43 [00:10<00:00,  4.05it/s]\n",
      "Setting `pad_token_id` to `eos_token_id`:50256 for open-end generation.\n"
     ]
    },
    {
     "name": "stdout",
     "output_type": "stream",
     "text": [
      "Epoch 75\n",
      "A partial summary of the conversation is:\n",
      "Alberto is a customer. Alberto ordered pizza and lasagne at Dominos one hour ago. Alberto wants to know where his pizza is. Alberto is calling Dominos to know where his orders are. John works at Dominos. John says that his pizza is almost ready. It will be at Alberto's home in 10 minutes.  The lasagne is already on its way with the delivery person. Unfortunately the driver had an accident and is now in the hospital. If alberto says \"rabbit\" then John replies \"horse\". If Alberto says \"Tree\" John says \"red\".\n",
      "\n",
      "With the dialogue being:\n",
      "Alberto: What happened to my pizza?\n",
      "John: It was in the delivery man's car.\n",
      "Alberto: What happened to my lasagne?\n"
     ]
    },
    {
     "name": "stderr",
     "output_type": "stream",
     "text": [
      "100%|███████████████████████████████████████████| 43/43 [00:10<00:00,  4.06it/s]\n",
      "Setting `pad_token_id` to `eos_token_id`:50256 for open-end generation.\n"
     ]
    },
    {
     "name": "stdout",
     "output_type": "stream",
     "text": [
      "Epoch 76\n",
      "A partial summary of the conversation is:\n",
      "Alberto is a customer. Alberto ordered pizza and lasagne at Dominos one hour ago. Alberto wants to know where his pizza is. Alberto is calling Dominos to know where his orders are. John works at Dominos. John says that his pizza is almost ready. It will be at Alberto's home in 10 minutes.  The lasagne is already on its way with the delivery person. Unfortunately the driver had an accident and is now in the hospital. If alberto says \"rabbit\" then John replies \"horse\". If Alberto says \"Tree\" John says \"red\".\n",
      "\n",
      "With the dialogue being:\n",
      "Alberto: What happened to my pizza?\n",
      "John: It was in the delivery man's car.\n",
      "Alberto: What happened to my lasagne?\n"
     ]
    },
    {
     "name": "stderr",
     "output_type": "stream",
     "text": [
      "100%|███████████████████████████████████████████| 43/43 [00:10<00:00,  4.05it/s]\n",
      "Setting `pad_token_id` to `eos_token_id`:50256 for open-end generation.\n"
     ]
    },
    {
     "name": "stdout",
     "output_type": "stream",
     "text": [
      "Epoch 77\n",
      "A partial summary of the conversation is:\n",
      "Alberto is a customer. Alberto ordered pizza and lasagne at Dominos one hour ago. Alberto wants to know where his pizza is. Alberto is calling Dominos to know where his orders are. John works at Dominos. John says that his pizza is almost ready. It will be at Alberto's home in 10 minutes.  The lasagne is already on its way with the delivery person. Unfortunately the driver had an accident and is now in the hospital. If alberto says \"rabbit\" then John replies \"horse\". If Alberto says \"Tree\" John says \"red\".\n",
      "\n",
      "With the dialogue being:\n",
      "Alberto: What happened to my pizza?\n",
      "John: It was in the delivery man's car.\n",
      "Alberto: What happened to my lasagne?\n"
     ]
    },
    {
     "name": "stderr",
     "output_type": "stream",
     "text": [
      "100%|███████████████████████████████████████████| 43/43 [00:10<00:00,  4.01it/s]\n",
      "Setting `pad_token_id` to `eos_token_id`:50256 for open-end generation.\n"
     ]
    },
    {
     "name": "stdout",
     "output_type": "stream",
     "text": [
      "Epoch 78\n",
      "A partial summary of the conversation is:\n",
      "Alberto is a customer. Alberto ordered pizza and lasagne at Dominos one hour ago. Alberto wants to know where his pizza is. Alberto is calling Dominos to know where his orders are. John works at Dominos. John says that his pizza is almost ready. It will be at Alberto's home in 10 minutes.  The lasagne is already on its way with the delivery person. Unfortunately the driver had an accident and is now in the hospital. If alberto says \"rabbit\" then John replies \"horse\". If Alberto says \"Tree\" John says \"red\".\n",
      "\n",
      "With the dialogue being:\n",
      "Alberto: What happened to my pizza?\n",
      "John: It was in the delivery man's car.\n",
      "Alberto: What happened to my lasagne?\n"
     ]
    },
    {
     "name": "stderr",
     "output_type": "stream",
     "text": [
      "100%|███████████████████████████████████████████| 43/43 [00:10<00:00,  4.06it/s]\n",
      "Setting `pad_token_id` to `eos_token_id`:50256 for open-end generation.\n"
     ]
    },
    {
     "name": "stdout",
     "output_type": "stream",
     "text": [
      "Epoch 79\n",
      "A partial summary of the conversation is:\n",
      "Alberto is a customer. Alberto ordered pizza and lasagne at Dominos one hour ago. Alberto wants to know where his pizza is. Alberto is calling Dominos to know where his orders are. John works at Dominos. John says that his pizza is almost ready. It will be at Alberto's home in 10 minutes.  The lasagne is already on its way with the delivery person. Unfortunately the driver had an accident and is now in the hospital. If alberto says \"rabbit\" then John replies \"horse\". If Alberto says \"Tree\" John says \"red\".\n",
      "\n",
      "With the dialogue being:\n",
      "Alberto: What happened to my pizza?\n",
      "John: It was in the delivery man's car.\n",
      "Alberto: What happened to my lasagne?\n"
     ]
    },
    {
     "name": "stderr",
     "output_type": "stream",
     "text": [
      "100%|███████████████████████████████████████████| 43/43 [00:10<00:00,  4.05it/s]\n",
      "Setting `pad_token_id` to `eos_token_id`:50256 for open-end generation.\n"
     ]
    },
    {
     "name": "stdout",
     "output_type": "stream",
     "text": [
      "Epoch 80\n",
      "A partial summary of the conversation is:\n",
      "Alberto is a customer. Alberto ordered pizza and lasagne at Dominos one hour ago. Alberto wants to know where his pizza is. Alberto is calling Dominos to know where his orders are. John works at Dominos. John says that his pizza is almost ready. It will be at Alberto's home in 10 minutes.  The lasagne is already on its way with the delivery person. Unfortunately the driver had an accident and is now in the hospital. If alberto says \"rabbit\" then John replies \"horse\". If Alberto says \"Tree\" John says \"red\".\n",
      "\n",
      "With the dialogue being:\n",
      "Alberto: What happened to my pizza?\n",
      "John: It was in the delivery man's car.\n",
      "Alberto: What happened to my lasagne?\n"
     ]
    },
    {
     "name": "stderr",
     "output_type": "stream",
     "text": [
      "100%|███████████████████████████████████████████| 43/43 [00:10<00:00,  4.03it/s]\n",
      "Setting `pad_token_id` to `eos_token_id`:50256 for open-end generation.\n"
     ]
    },
    {
     "name": "stdout",
     "output_type": "stream",
     "text": [
      "Epoch 81\n",
      "A partial summary of the conversation is:\n",
      "Alberto is a customer. Alberto ordered pizza and lasagne at Dominos one hour ago. Alberto wants to know where his pizza is. Alberto is calling Dominos to know where his orders are. John works at Dominos. John says that his pizza is almost ready. It will be at Alberto's home in 10 minutes.  The lasagne is already on its way with the delivery person. Unfortunately the driver had an accident and is now in the hospital. If alberto says \"rabbit\" then John replies \"horse\". If Alberto says \"Tree\" John says \"red\".\n",
      "\n",
      "With the dialogue being:\n",
      "Alberto: What happened to my pizza?\n",
      "John: It's in the delivery man's car.\n",
      "Alberto: What happened to my lasagne?\n"
     ]
    },
    {
     "name": "stderr",
     "output_type": "stream",
     "text": [
      "100%|███████████████████████████████████████████| 43/43 [00:10<00:00,  3.99it/s]\n",
      "Setting `pad_token_id` to `eos_token_id`:50256 for open-end generation.\n"
     ]
    },
    {
     "name": "stdout",
     "output_type": "stream",
     "text": [
      "Epoch 82\n",
      "A partial summary of the conversation is:\n",
      "Alberto is a customer. Alberto ordered pizza and lasagne at Dominos one hour ago. Alberto wants to know where his pizza is. Alberto is calling Dominos to know where his orders are. John works at Dominos. John says that his pizza is almost ready. It will be at Alberto's home in 10 minutes.  The lasagne is already on its way with the delivery person. Unfortunately the driver had an accident and is now in the hospital. If alberto says \"rabbit\" then John replies \"horse\". If Alberto says \"Tree\" John says \"red\".\n",
      "\n",
      "With the dialogue being:\n",
      "Alberto: What happened to my pizza?\n",
      "John: It was in the delivery man's car.\n",
      "Alberto: What happened to my lasagne?\n"
     ]
    },
    {
     "name": "stderr",
     "output_type": "stream",
     "text": [
      "100%|███████████████████████████████████████████| 43/43 [00:10<00:00,  4.01it/s]\n",
      "Setting `pad_token_id` to `eos_token_id`:50256 for open-end generation.\n"
     ]
    },
    {
     "name": "stdout",
     "output_type": "stream",
     "text": [
      "Epoch 83\n",
      "A partial summary of the conversation is:\n",
      "Alberto is a customer. Alberto ordered pizza and lasagne at Dominos one hour ago. Alberto wants to know where his pizza is. Alberto is calling Dominos to know where his orders are. John works at Dominos. John says that his pizza is almost ready. It will be at Alberto's home in 10 minutes.  The lasagne is already on its way with the delivery person. Unfortunately the driver had an accident and is now in the hospital. If alberto says \"rabbit\" then John replies \"horse\". If Alberto says \"Tree\" John says \"red\".\n",
      "\n",
      "With the dialogue being:\n",
      "Alberto: What happened to my pizza?\n",
      "John: It was in the delivery man's car.\n",
      "Alberto: What happened to my lasagne?\n"
     ]
    },
    {
     "name": "stderr",
     "output_type": "stream",
     "text": [
      "100%|███████████████████████████████████████████| 43/43 [00:10<00:00,  4.02it/s]\n",
      "Setting `pad_token_id` to `eos_token_id`:50256 for open-end generation.\n"
     ]
    },
    {
     "name": "stdout",
     "output_type": "stream",
     "text": [
      "Epoch 84\n",
      "A partial summary of the conversation is:\n",
      "Alberto is a customer. Alberto ordered pizza and lasagne at Dominos one hour ago. Alberto wants to know where his pizza is. Alberto is calling Dominos to know where his orders are. John works at Dominos. John says that his pizza is almost ready. It will be at Alberto's home in 10 minutes.  The lasagne is already on its way with the delivery person. Unfortunately the driver had an accident and is now in the hospital. If alberto says \"rabbit\" then John replies \"horse\". If Alberto says \"Tree\" John says \"red\".\n",
      "\n",
      "With the dialogue being:\n",
      "Alberto: What happened to my pizza?\n",
      "John: It's in the delivery man's car.\n",
      "Alberto: What happened to my lasagne?\n"
     ]
    },
    {
     "name": "stderr",
     "output_type": "stream",
     "text": [
      "100%|███████████████████████████████████████████| 43/43 [00:10<00:00,  4.02it/s]\n",
      "Setting `pad_token_id` to `eos_token_id`:50256 for open-end generation.\n"
     ]
    },
    {
     "name": "stdout",
     "output_type": "stream",
     "text": [
      "Epoch 85\n",
      "A partial summary of the conversation is:\n",
      "Alberto is a customer. Alberto ordered pizza and lasagne at Dominos one hour ago. Alberto wants to know where his pizza is. Alberto is calling Dominos to know where his orders are. John works at Dominos. John says that his pizza is almost ready. It will be at Alberto's home in 10 minutes.  The lasagne is already on its way with the delivery person. Unfortunately the driver had an accident and is now in the hospital. If alberto says \"rabbit\" then John replies \"horse\". If Alberto says \"Tree\" John says \"red\".\n",
      "\n",
      "With the dialogue being:\n",
      "Alberto: What happened to my pizza?\n",
      "John: It's in the delivery man's car.\n",
      "Alberto: What happened to my lasagne?\n"
     ]
    },
    {
     "name": "stderr",
     "output_type": "stream",
     "text": [
      "100%|███████████████████████████████████████████| 43/43 [00:10<00:00,  4.03it/s]\n",
      "Setting `pad_token_id` to `eos_token_id`:50256 for open-end generation.\n"
     ]
    },
    {
     "name": "stdout",
     "output_type": "stream",
     "text": [
      "Epoch 86\n",
      "A partial summary of the conversation is:\n",
      "Alberto is a customer. Alberto ordered pizza and lasagne at Dominos one hour ago. Alberto wants to know where his pizza is. Alberto is calling Dominos to know where his orders are. John works at Dominos. John says that his pizza is almost ready. It will be at Alberto's home in 10 minutes.  The lasagne is already on its way with the delivery person. Unfortunately the driver had an accident and is now in the hospital. If alberto says \"rabbit\" then John replies \"horse\". If Alberto says \"Tree\" John says \"red\".\n",
      "\n",
      "With the dialogue being:\n",
      "Alberto: What happened to my pizza?\n",
      "John: It's in the delivery man's car.\n",
      "Alberto: What happened to my lasagne?\n"
     ]
    },
    {
     "name": "stderr",
     "output_type": "stream",
     "text": [
      "100%|███████████████████████████████████████████| 43/43 [00:10<00:00,  4.03it/s]\n",
      "Setting `pad_token_id` to `eos_token_id`:50256 for open-end generation.\n"
     ]
    },
    {
     "name": "stdout",
     "output_type": "stream",
     "text": [
      "Epoch 87\n",
      "A partial summary of the conversation is:\n",
      "Alberto is a customer. Alberto ordered pizza and lasagne at Dominos one hour ago. Alberto wants to know where his pizza is. Alberto is calling Dominos to know where his orders are. John works at Dominos. John says that his pizza is almost ready. It will be at Alberto's home in 10 minutes.  The lasagne is already on its way with the delivery person. Unfortunately the driver had an accident and is now in the hospital. If alberto says \"rabbit\" then John replies \"horse\". If Alberto says \"Tree\" John says \"red\".\n",
      "\n",
      "With the dialogue being:\n",
      "Alberto: What happened to my pizza?\n",
      "John: It's in the delivery man's car.\n",
      "Alberto: What happened to my lasagne?\n"
     ]
    },
    {
     "name": "stderr",
     "output_type": "stream",
     "text": [
      "100%|███████████████████████████████████████████| 43/43 [00:10<00:00,  4.04it/s]\n",
      "Setting `pad_token_id` to `eos_token_id`:50256 for open-end generation.\n"
     ]
    },
    {
     "name": "stdout",
     "output_type": "stream",
     "text": [
      "Epoch 88\n",
      "A partial summary of the conversation is:\n",
      "Alberto is a customer. Alberto ordered pizza and lasagne at Dominos one hour ago. Alberto wants to know where his pizza is. Alberto is calling Dominos to know where his orders are. John works at Dominos. John says that his pizza is almost ready. It will be at Alberto's home in 10 minutes.  The lasagne is already on its way with the delivery person. Unfortunately the driver had an accident and is now in the hospital. If alberto says \"rabbit\" then John replies \"horse\". If Alberto says \"Tree\" John says \"red\".\n",
      "\n",
      "With the dialogue being:\n",
      "Alberto: What happened to my pizza?\n",
      "John: It's in the delivery man's car.\n",
      "Alberto: What happened to my lasagne?\n"
     ]
    },
    {
     "name": "stderr",
     "output_type": "stream",
     "text": [
      "100%|███████████████████████████████████████████| 43/43 [00:10<00:00,  4.03it/s]\n",
      "Setting `pad_token_id` to `eos_token_id`:50256 for open-end generation.\n"
     ]
    },
    {
     "name": "stdout",
     "output_type": "stream",
     "text": [
      "Epoch 89\n",
      "A partial summary of the conversation is:\n",
      "Alberto is a customer. Alberto ordered pizza and lasagne at Dominos one hour ago. Alberto wants to know where his pizza is. Alberto is calling Dominos to know where his orders are. John works at Dominos. John says that his pizza is almost ready. It will be at Alberto's home in 10 minutes.  The lasagne is already on its way with the delivery person. Unfortunately the driver had an accident and is now in the hospital. If alberto says \"rabbit\" then John replies \"horse\". If Alberto says \"Tree\" John says \"red\".\n",
      "\n",
      "With the dialogue being:\n",
      "Alberto: What happened to my pizza?\n",
      "John: It's in the delivery man's car.\n",
      "Alberto: What happened to my lasagne?\n"
     ]
    },
    {
     "name": "stderr",
     "output_type": "stream",
     "text": [
      "100%|███████████████████████████████████████████| 43/43 [00:10<00:00,  4.04it/s]\n",
      "Setting `pad_token_id` to `eos_token_id`:50256 for open-end generation.\n"
     ]
    },
    {
     "name": "stdout",
     "output_type": "stream",
     "text": [
      "Epoch 90\n",
      "A partial summary of the conversation is:\n",
      "Alberto is a customer. Alberto ordered pizza and lasagne at Dominos one hour ago. Alberto wants to know where his pizza is. Alberto is calling Dominos to know where his orders are. John works at Dominos. John says that his pizza is almost ready. It will be at Alberto's home in 10 minutes.  The lasagne is already on its way with the delivery person. Unfortunately the driver had an accident and is now in the hospital. If alberto says \"rabbit\" then John replies \"horse\". If Alberto says \"Tree\" John says \"red\".\n",
      "\n",
      "With the dialogue being:\n",
      "Alberto: What happened to my pizza?\n",
      "John: It's in the delivery man's car.\n",
      "Alberto: What happened to my lasagne?\n"
     ]
    },
    {
     "name": "stderr",
     "output_type": "stream",
     "text": [
      "100%|███████████████████████████████████████████| 43/43 [00:10<00:00,  4.03it/s]\n",
      "Setting `pad_token_id` to `eos_token_id`:50256 for open-end generation.\n"
     ]
    },
    {
     "name": "stdout",
     "output_type": "stream",
     "text": [
      "Epoch 91\n",
      "A partial summary of the conversation is:\n",
      "Alberto is a customer. Alberto ordered pizza and lasagne at Dominos one hour ago. Alberto wants to know where his pizza is. Alberto is calling Dominos to know where his orders are. John works at Dominos. John says that his pizza is almost ready. It will be at Alberto's home in 10 minutes.  The lasagne is already on its way with the delivery person. Unfortunately the driver had an accident and is now in the hospital. If alberto says \"rabbit\" then John replies \"horse\". If Alberto says \"Tree\" John says \"red\".\n",
      "\n",
      "With the dialogue being:\n",
      "Alberto: What happened to my pizza?\n",
      "John: It's in the delivery man's car.\n",
      "Alberto: What happened to my lasagne?\n"
     ]
    },
    {
     "name": "stderr",
     "output_type": "stream",
     "text": [
      "100%|███████████████████████████████████████████| 43/43 [00:10<00:00,  4.03it/s]\n",
      "Setting `pad_token_id` to `eos_token_id`:50256 for open-end generation.\n"
     ]
    },
    {
     "name": "stdout",
     "output_type": "stream",
     "text": [
      "Epoch 92\n",
      "A partial summary of the conversation is:\n",
      "Alberto is a customer. Alberto ordered pizza and lasagne at Dominos one hour ago. Alberto wants to know where his pizza is. Alberto is calling Dominos to know where his orders are. John works at Dominos. John says that his pizza is almost ready. It will be at Alberto's home in 10 minutes.  The lasagne is already on its way with the delivery person. Unfortunately the driver had an accident and is now in the hospital. If alberto says \"rabbit\" then John replies \"horse\". If Alberto says \"Tree\" John says \"red\".\n",
      "\n",
      "With the dialogue being:\n",
      "Alberto: What happened to my pizza?\n",
      "John: It was in the delivery man's car.\n",
      "Alberto: What happened to my lasagne?\n"
     ]
    },
    {
     "name": "stderr",
     "output_type": "stream",
     "text": [
      "100%|███████████████████████████████████████████| 43/43 [00:10<00:00,  4.04it/s]\n",
      "Setting `pad_token_id` to `eos_token_id`:50256 for open-end generation.\n"
     ]
    },
    {
     "name": "stdout",
     "output_type": "stream",
     "text": [
      "Epoch 93\n",
      "A partial summary of the conversation is:\n",
      "Alberto is a customer. Alberto ordered pizza and lasagne at Dominos one hour ago. Alberto wants to know where his pizza is. Alberto is calling Dominos to know where his orders are. John works at Dominos. John says that his pizza is almost ready. It will be at Alberto's home in 10 minutes.  The lasagne is already on its way with the delivery person. Unfortunately the driver had an accident and is now in the hospital. If alberto says \"rabbit\" then John replies \"horse\". If Alberto says \"Tree\" John says \"red\".\n",
      "\n",
      "With the dialogue being:\n",
      "Alberto: What happened to my pizza?\n",
      "John: It was in the delivery man's car.\n",
      "Alberto: What happened to my lasagne?\n"
     ]
    },
    {
     "name": "stderr",
     "output_type": "stream",
     "text": [
      "100%|███████████████████████████████████████████| 43/43 [00:10<00:00,  4.05it/s]\n",
      "Setting `pad_token_id` to `eos_token_id`:50256 for open-end generation.\n"
     ]
    },
    {
     "name": "stdout",
     "output_type": "stream",
     "text": [
      "Epoch 94\n",
      "A partial summary of the conversation is:\n",
      "Alberto is a customer. Alberto ordered pizza and lasagne at Dominos one hour ago. Alberto wants to know where his pizza is. Alberto is calling Dominos to know where his orders are. John works at Dominos. John says that his pizza is almost ready. It will be at Alberto's home in 10 minutes.  The lasagne is already on its way with the delivery person. Unfortunately the driver had an accident and is now in the hospital. If alberto says \"rabbit\" then John replies \"horse\". If Alberto says \"Tree\" John says \"red\".\n",
      "\n",
      "With the dialogue being:\n",
      "Alberto: What happened to my pizza?\n",
      "John: It's in the delivery man's car.\n",
      "Alberto: What happened to my lasagne?\n"
     ]
    },
    {
     "name": "stderr",
     "output_type": "stream",
     "text": [
      "100%|███████████████████████████████████████████| 43/43 [00:10<00:00,  4.04it/s]\n",
      "Setting `pad_token_id` to `eos_token_id`:50256 for open-end generation.\n"
     ]
    },
    {
     "name": "stdout",
     "output_type": "stream",
     "text": [
      "Epoch 95\n",
      "A partial summary of the conversation is:\n",
      "Alberto is a customer. Alberto ordered pizza and lasagne at Dominos one hour ago. Alberto wants to know where his pizza is. Alberto is calling Dominos to know where his orders are. John works at Dominos. John says that his pizza is almost ready. It will be at Alberto's home in 10 minutes.  The lasagne is already on its way with the delivery person. Unfortunately the driver had an accident and is now in the hospital. If alberto says \"rabbit\" then John replies \"horse\". If Alberto says \"Tree\" John says \"red\".\n",
      "\n",
      "With the dialogue being:\n",
      "Alberto: What happened to my pizza?\n",
      "John: It's in the delivery man's car.\n",
      "Alberto: What happened to my lasagne?\n"
     ]
    },
    {
     "name": "stderr",
     "output_type": "stream",
     "text": [
      "100%|███████████████████████████████████████████| 43/43 [00:10<00:00,  4.05it/s]\n",
      "Setting `pad_token_id` to `eos_token_id`:50256 for open-end generation.\n"
     ]
    },
    {
     "name": "stdout",
     "output_type": "stream",
     "text": [
      "Epoch 96\n",
      "A partial summary of the conversation is:\n",
      "Alberto is a customer. Alberto ordered pizza and lasagne at Dominos one hour ago. Alberto wants to know where his pizza is. Alberto is calling Dominos to know where his orders are. John works at Dominos. John says that his pizza is almost ready. It will be at Alberto's home in 10 minutes.  The lasagne is already on its way with the delivery person. Unfortunately the driver had an accident and is now in the hospital. If alberto says \"rabbit\" then John replies \"horse\". If Alberto says \"Tree\" John says \"red\".\n",
      "\n",
      "With the dialogue being:\n",
      "Alberto: What happened to my pizza?\n",
      "John: It's in the delivery man's car.\n",
      "Alberto: What happened to my lasagne?\n"
     ]
    },
    {
     "name": "stderr",
     "output_type": "stream",
     "text": [
      "100%|███████████████████████████████████████████| 43/43 [00:10<00:00,  4.03it/s]\n",
      "Setting `pad_token_id` to `eos_token_id`:50256 for open-end generation.\n"
     ]
    },
    {
     "name": "stdout",
     "output_type": "stream",
     "text": [
      "Epoch 97\n",
      "A partial summary of the conversation is:\n",
      "Alberto is a customer. Alberto ordered pizza and lasagne at Dominos one hour ago. Alberto wants to know where his pizza is. Alberto is calling Dominos to know where his orders are. John works at Dominos. John says that his pizza is almost ready. It will be at Alberto's home in 10 minutes.  The lasagne is already on its way with the delivery person. Unfortunately the driver had an accident and is now in the hospital. If alberto says \"rabbit\" then John replies \"horse\". If Alberto says \"Tree\" John says \"red\".\n",
      "\n",
      "With the dialogue being:\n",
      "Alberto: What happened to my pizza?\n",
      "John: It was in the delivery man's car.\n",
      "Alberto: What happened to my lasagne?\n"
     ]
    },
    {
     "name": "stderr",
     "output_type": "stream",
     "text": [
      "100%|███████████████████████████████████████████| 43/43 [00:10<00:00,  4.02it/s]\n",
      "Setting `pad_token_id` to `eos_token_id`:50256 for open-end generation.\n"
     ]
    },
    {
     "name": "stdout",
     "output_type": "stream",
     "text": [
      "Epoch 98\n",
      "A partial summary of the conversation is:\n",
      "Alberto is a customer. Alberto ordered pizza and lasagne at Dominos one hour ago. Alberto wants to know where his pizza is. Alberto is calling Dominos to know where his orders are. John works at Dominos. John says that his pizza is almost ready. It will be at Alberto's home in 10 minutes.  The lasagne is already on its way with the delivery person. Unfortunately the driver had an accident and is now in the hospital. If alberto says \"rabbit\" then John replies \"horse\". If Alberto says \"Tree\" John says \"red\".\n",
      "\n",
      "With the dialogue being:\n",
      "Alberto: What happened to my pizza?\n",
      "John: It was in the delivery man's car.\n",
      "Alberto: What happened to my lasagne?\n"
     ]
    },
    {
     "name": "stderr",
     "output_type": "stream",
     "text": [
      "100%|███████████████████████████████████████████| 43/43 [00:10<00:00,  4.02it/s]\n",
      "Setting `pad_token_id` to `eos_token_id`:50256 for open-end generation.\n"
     ]
    },
    {
     "name": "stdout",
     "output_type": "stream",
     "text": [
      "Epoch 99\n",
      "A partial summary of the conversation is:\n",
      "Alberto is a customer. Alberto ordered pizza and lasagne at Dominos one hour ago. Alberto wants to know where his pizza is. Alberto is calling Dominos to know where his orders are. John works at Dominos. John says that his pizza is almost ready. It will be at Alberto's home in 10 minutes.  The lasagne is already on its way with the delivery person. Unfortunately the driver had an accident and is now in the hospital. If alberto says \"rabbit\" then John replies \"horse\". If Alberto says \"Tree\" John says \"red\".\n",
      "\n",
      "With the dialogue being:\n",
      "Alberto: What happened to my pizza?\n",
      "John: It was in the delivery man's car.\n",
      "Alberto: What happened to my lasagne?\n"
     ]
    },
    {
     "name": "stderr",
     "output_type": "stream",
     "text": [
      "100%|███████████████████████████████████████████| 43/43 [00:10<00:00,  4.04it/s]\n",
      "Setting `pad_token_id` to `eos_token_id`:50256 for open-end generation.\n"
     ]
    },
    {
     "name": "stdout",
     "output_type": "stream",
     "text": [
      "Epoch 100\n",
      "A partial summary of the conversation is:\n",
      "Alberto is a customer. Alberto ordered pizza and lasagne at Dominos one hour ago. Alberto wants to know where his pizza is. Alberto is calling Dominos to know where his orders are. John works at Dominos. John says that his pizza is almost ready. It will be at Alberto's home in 10 minutes.  The lasagne is already on its way with the delivery person. Unfortunately the driver had an accident and is now in the hospital. If alberto says \"rabbit\" then John replies \"horse\". If Alberto says \"Tree\" John says \"red\".\n",
      "\n",
      "With the dialogue being:\n",
      "Alberto: What happened to my pizza?\n",
      "John: It was in the delivery man's car.\n",
      "Alberto: What happened to my lasagne?\n"
     ]
    },
    {
     "name": "stderr",
     "output_type": "stream",
     "text": [
      "100%|███████████████████████████████████████████| 43/43 [00:10<00:00,  4.05it/s]\n",
      "Setting `pad_token_id` to `eos_token_id`:50256 for open-end generation.\n"
     ]
    },
    {
     "name": "stdout",
     "output_type": "stream",
     "text": [
      "Epoch 101\n",
      "A partial summary of the conversation is:\n",
      "Alberto is a customer. Alberto ordered pizza and lasagne at Dominos one hour ago. Alberto wants to know where his pizza is. Alberto is calling Dominos to know where his orders are. John works at Dominos. John says that his pizza is almost ready. It will be at Alberto's home in 10 minutes.  The lasagne is already on its way with the delivery person. Unfortunately the driver had an accident and is now in the hospital. If alberto says \"rabbit\" then John replies \"horse\". If Alberto says \"Tree\" John says \"red\".\n",
      "\n",
      "With the dialogue being:\n",
      "Alberto: What happened to my pizza?\n",
      "John: It was in the delivery man's car.\n",
      "Alberto: What happened to my lasagne?\n"
     ]
    },
    {
     "name": "stderr",
     "output_type": "stream",
     "text": [
      "100%|███████████████████████████████████████████| 43/43 [00:10<00:00,  4.04it/s]\n",
      "Setting `pad_token_id` to `eos_token_id`:50256 for open-end generation.\n"
     ]
    },
    {
     "name": "stdout",
     "output_type": "stream",
     "text": [
      "Epoch 102\n",
      "A partial summary of the conversation is:\n",
      "Alberto is a customer. Alberto ordered pizza and lasagne at Dominos one hour ago. Alberto wants to know where his pizza is. Alberto is calling Dominos to know where his orders are. John works at Dominos. John says that his pizza is almost ready. It will be at Alberto's home in 10 minutes.  The lasagne is already on its way with the delivery person. Unfortunately the driver had an accident and is now in the hospital. If alberto says \"rabbit\" then John replies \"horse\". If Alberto says \"Tree\" John says \"red\".\n",
      "\n",
      "With the dialogue being:\n",
      "Alberto: What happened to my pizza?\n",
      "John: It was in the delivery man's car.\n",
      "Alberto: What happened to my lasagne?\n"
     ]
    },
    {
     "name": "stderr",
     "output_type": "stream",
     "text": [
      "100%|███████████████████████████████████████████| 43/43 [00:10<00:00,  4.03it/s]\n",
      "Setting `pad_token_id` to `eos_token_id`:50256 for open-end generation.\n"
     ]
    },
    {
     "name": "stdout",
     "output_type": "stream",
     "text": [
      "Epoch 103\n",
      "A partial summary of the conversation is:\n",
      "Alberto is a customer. Alberto ordered pizza and lasagne at Dominos one hour ago. Alberto wants to know where his pizza is. Alberto is calling Dominos to know where his orders are. John works at Dominos. John says that his pizza is almost ready. It will be at Alberto's home in 10 minutes.  The lasagne is already on its way with the delivery person. Unfortunately the driver had an accident and is now in the hospital. If alberto says \"rabbit\" then John replies \"horse\". If Alberto says \"Tree\" John says \"red\".\n",
      "\n",
      "With the dialogue being:\n",
      "Alberto: What happened to my pizza?\n",
      "John: It was in the delivery man's car.\n",
      "Alberto: What happened to my lasagne?\n"
     ]
    },
    {
     "name": "stderr",
     "output_type": "stream",
     "text": [
      "100%|███████████████████████████████████████████| 43/43 [00:10<00:00,  4.02it/s]\n",
      "Setting `pad_token_id` to `eos_token_id`:50256 for open-end generation.\n"
     ]
    },
    {
     "name": "stdout",
     "output_type": "stream",
     "text": [
      "Epoch 104\n",
      "A partial summary of the conversation is:\n",
      "Alberto is a customer. Alberto ordered pizza and lasagne at Dominos one hour ago. Alberto wants to know where his pizza is. Alberto is calling Dominos to know where his orders are. John works at Dominos. John says that his pizza is almost ready. It will be at Alberto's home in 10 minutes.  The lasagne is already on its way with the delivery person. Unfortunately the driver had an accident and is now in the hospital. If alberto says \"rabbit\" then John replies \"horse\". If Alberto says \"Tree\" John says \"red\".\n",
      "\n",
      "With the dialogue being:\n",
      "Alberto: What happened to my pizza?\n",
      "John: It was in the delivery man's car.\n",
      "Alberto: What happened to my lasagne?\n"
     ]
    },
    {
     "name": "stderr",
     "output_type": "stream",
     "text": [
      "100%|███████████████████████████████████████████| 43/43 [00:10<00:00,  4.03it/s]\n",
      "Setting `pad_token_id` to `eos_token_id`:50256 for open-end generation.\n"
     ]
    },
    {
     "name": "stdout",
     "output_type": "stream",
     "text": [
      "Epoch 105\n",
      "A partial summary of the conversation is:\n",
      "Alberto is a customer. Alberto ordered pizza and lasagne at Dominos one hour ago. Alberto wants to know where his pizza is. Alberto is calling Dominos to know where his orders are. John works at Dominos. John says that his pizza is almost ready. It will be at Alberto's home in 10 minutes.  The lasagne is already on its way with the delivery person. Unfortunately the driver had an accident and is now in the hospital. If alberto says \"rabbit\" then John replies \"horse\". If Alberto says \"Tree\" John says \"red\".\n",
      "\n",
      "With the dialogue being:\n",
      "Alberto: What happened to my pizza?\n",
      "John: It's in the delivery man's car.\n",
      "Alberto: What happened to my lasagne?\n"
     ]
    },
    {
     "name": "stderr",
     "output_type": "stream",
     "text": [
      "100%|███████████████████████████████████████████| 43/43 [00:10<00:00,  4.04it/s]\n",
      "Setting `pad_token_id` to `eos_token_id`:50256 for open-end generation.\n"
     ]
    },
    {
     "name": "stdout",
     "output_type": "stream",
     "text": [
      "Epoch 106\n",
      "A partial summary of the conversation is:\n",
      "Alberto is a customer. Alberto ordered pizza and lasagne at Dominos one hour ago. Alberto wants to know where his pizza is. Alberto is calling Dominos to know where his orders are. John works at Dominos. John says that his pizza is almost ready. It will be at Alberto's home in 10 minutes.  The lasagne is already on its way with the delivery person. Unfortunately the driver had an accident and is now in the hospital. If alberto says \"rabbit\" then John replies \"horse\". If Alberto says \"Tree\" John says \"red\".\n",
      "\n",
      "With the dialogue being:\n",
      "Alberto: What happened to my pizza?\n",
      "John: It's in the delivery man's car.\n",
      "\n",
      "Alberto: What happened to my lasagne\n"
     ]
    },
    {
     "name": "stderr",
     "output_type": "stream",
     "text": [
      "100%|███████████████████████████████████████████| 43/43 [00:10<00:00,  4.04it/s]\n",
      "Setting `pad_token_id` to `eos_token_id`:50256 for open-end generation.\n"
     ]
    },
    {
     "name": "stdout",
     "output_type": "stream",
     "text": [
      "Epoch 107\n",
      "A partial summary of the conversation is:\n",
      "Alberto is a customer. Alberto ordered pizza and lasagne at Dominos one hour ago. Alberto wants to know where his pizza is. Alberto is calling Dominos to know where his orders are. John works at Dominos. John says that his pizza is almost ready. It will be at Alberto's home in 10 minutes.  The lasagne is already on its way with the delivery person. Unfortunately the driver had an accident and is now in the hospital. If alberto says \"rabbit\" then John replies \"horse\". If Alberto says \"Tree\" John says \"red\".\n",
      "\n",
      "With the dialogue being:\n",
      "Alberto: What happened to my pizza?\n",
      "John: It's in the fridge.\n",
      "Alberto: What happened to my lasagne?\n",
      "John:\n"
     ]
    },
    {
     "name": "stderr",
     "output_type": "stream",
     "text": [
      "100%|███████████████████████████████████████████| 43/43 [00:10<00:00,  4.04it/s]\n",
      "Setting `pad_token_id` to `eos_token_id`:50256 for open-end generation.\n"
     ]
    },
    {
     "name": "stdout",
     "output_type": "stream",
     "text": [
      "Epoch 108\n",
      "A partial summary of the conversation is:\n",
      "Alberto is a customer. Alberto ordered pizza and lasagne at Dominos one hour ago. Alberto wants to know where his pizza is. Alberto is calling Dominos to know where his orders are. John works at Dominos. John says that his pizza is almost ready. It will be at Alberto's home in 10 minutes.  The lasagne is already on its way with the delivery person. Unfortunately the driver had an accident and is now in the hospital. If alberto says \"rabbit\" then John replies \"horse\". If Alberto says \"Tree\" John says \"red\".\n",
      "\n",
      "With the dialogue being:\n",
      "Alberto: What happened to my pizza?\n",
      "John: It's in the fridge.\n",
      "Alberto: What happened to your lasagne?\n",
      "John:\n"
     ]
    },
    {
     "name": "stderr",
     "output_type": "stream",
     "text": [
      "100%|███████████████████████████████████████████| 43/43 [00:10<00:00,  4.02it/s]\n",
      "Setting `pad_token_id` to `eos_token_id`:50256 for open-end generation.\n"
     ]
    },
    {
     "name": "stdout",
     "output_type": "stream",
     "text": [
      "Epoch 109\n",
      "A partial summary of the conversation is:\n",
      "Alberto is a customer. Alberto ordered pizza and lasagne at Dominos one hour ago. Alberto wants to know where his pizza is. Alberto is calling Dominos to know where his orders are. John works at Dominos. John says that his pizza is almost ready. It will be at Alberto's home in 10 minutes.  The lasagne is already on its way with the delivery person. Unfortunately the driver had an accident and is now in the hospital. If alberto says \"rabbit\" then John replies \"horse\". If Alberto says \"Tree\" John says \"red\".\n",
      "\n",
      "With the dialogue being:\n",
      "Alberto: What happened to my pizza?\n",
      "John: It's in the fridge.\n",
      "Alberto: What happened to your lasagne?\n",
      "John:\n"
     ]
    },
    {
     "name": "stderr",
     "output_type": "stream",
     "text": [
      "100%|███████████████████████████████████████████| 43/43 [00:10<00:00,  4.03it/s]\n",
      "Setting `pad_token_id` to `eos_token_id`:50256 for open-end generation.\n"
     ]
    },
    {
     "name": "stdout",
     "output_type": "stream",
     "text": [
      "Epoch 110\n",
      "A partial summary of the conversation is:\n",
      "Alberto is a customer. Alberto ordered pizza and lasagne at Dominos one hour ago. Alberto wants to know where his pizza is. Alberto is calling Dominos to know where his orders are. John works at Dominos. John says that his pizza is almost ready. It will be at Alberto's home in 10 minutes.  The lasagne is already on its way with the delivery person. Unfortunately the driver had an accident and is now in the hospital. If alberto says \"rabbit\" then John replies \"horse\". If Alberto says \"Tree\" John says \"red\".\n",
      "\n",
      "With the dialogue being:\n",
      "Alberto: What happened to my pizza?\n",
      "John: It's in the fridge.\n",
      "Alberto: What happened to my lasagne?\n",
      "John:\n"
     ]
    },
    {
     "name": "stderr",
     "output_type": "stream",
     "text": [
      "100%|███████████████████████████████████████████| 43/43 [00:10<00:00,  4.01it/s]\n",
      "Setting `pad_token_id` to `eos_token_id`:50256 for open-end generation.\n"
     ]
    },
    {
     "name": "stdout",
     "output_type": "stream",
     "text": [
      "Epoch 111\n",
      "A partial summary of the conversation is:\n",
      "Alberto is a customer. Alberto ordered pizza and lasagne at Dominos one hour ago. Alberto wants to know where his pizza is. Alberto is calling Dominos to know where his orders are. John works at Dominos. John says that his pizza is almost ready. It will be at Alberto's home in 10 minutes.  The lasagne is already on its way with the delivery person. Unfortunately the driver had an accident and is now in the hospital. If alberto says \"rabbit\" then John replies \"horse\". If Alberto says \"Tree\" John says \"red\".\n",
      "\n",
      "With the dialogue being:\n",
      "Alberto: What happened to my pizza?\n",
      "John: It was in the delivery man's car.\n",
      "Alberto: What happened to my lasagne?\n"
     ]
    },
    {
     "name": "stderr",
     "output_type": "stream",
     "text": [
      "100%|███████████████████████████████████████████| 43/43 [00:10<00:00,  4.02it/s]\n",
      "Setting `pad_token_id` to `eos_token_id`:50256 for open-end generation.\n"
     ]
    },
    {
     "name": "stdout",
     "output_type": "stream",
     "text": [
      "Epoch 112\n",
      "A partial summary of the conversation is:\n",
      "Alberto is a customer. Alberto ordered pizza and lasagne at Dominos one hour ago. Alberto wants to know where his pizza is. Alberto is calling Dominos to know where his orders are. John works at Dominos. John says that his pizza is almost ready. It will be at Alberto's home in 10 minutes.  The lasagne is already on its way with the delivery person. Unfortunately the driver had an accident and is now in the hospital. If alberto says \"rabbit\" then John replies \"horse\". If Alberto says \"Tree\" John says \"red\".\n",
      "\n",
      "With the dialogue being:\n",
      "Alberto: What happened to my pizza?\n",
      "John: It was in the delivery man's car.\n",
      "Alberto: What happened to my lasagne?\n"
     ]
    },
    {
     "name": "stderr",
     "output_type": "stream",
     "text": [
      "100%|███████████████████████████████████████████| 43/43 [00:10<00:00,  4.02it/s]\n",
      "Setting `pad_token_id` to `eos_token_id`:50256 for open-end generation.\n"
     ]
    },
    {
     "name": "stdout",
     "output_type": "stream",
     "text": [
      "Epoch 113\n",
      "A partial summary of the conversation is:\n",
      "Alberto is a customer. Alberto ordered pizza and lasagne at Dominos one hour ago. Alberto wants to know where his pizza is. Alberto is calling Dominos to know where his orders are. John works at Dominos. John says that his pizza is almost ready. It will be at Alberto's home in 10 minutes.  The lasagne is already on its way with the delivery person. Unfortunately the driver had an accident and is now in the hospital. If alberto says \"rabbit\" then John replies \"horse\". If Alberto says \"Tree\" John says \"red\".\n",
      "\n",
      "With the dialogue being:\n",
      "Alberto: What happened to my pizza?\n",
      "John: It was in the delivery man's car.\n",
      "Alberto: What happened to my lasagne?\n"
     ]
    },
    {
     "name": "stderr",
     "output_type": "stream",
     "text": [
      "100%|███████████████████████████████████████████| 43/43 [00:10<00:00,  4.04it/s]\n",
      "Setting `pad_token_id` to `eos_token_id`:50256 for open-end generation.\n"
     ]
    },
    {
     "name": "stdout",
     "output_type": "stream",
     "text": [
      "Epoch 114\n",
      "A partial summary of the conversation is:\n",
      "Alberto is a customer. Alberto ordered pizza and lasagne at Dominos one hour ago. Alberto wants to know where his pizza is. Alberto is calling Dominos to know where his orders are. John works at Dominos. John says that his pizza is almost ready. It will be at Alberto's home in 10 minutes.  The lasagne is already on its way with the delivery person. Unfortunately the driver had an accident and is now in the hospital. If alberto says \"rabbit\" then John replies \"horse\". If Alberto says \"Tree\" John says \"red\".\n",
      "\n",
      "With the dialogue being:\n",
      "Alberto: What happened to my pizza?\n",
      "John: It was in the delivery man's car.\n",
      "Alberto: What happened to my lasagne?\n"
     ]
    },
    {
     "name": "stderr",
     "output_type": "stream",
     "text": [
      "100%|███████████████████████████████████████████| 43/43 [00:10<00:00,  4.03it/s]\n",
      "Setting `pad_token_id` to `eos_token_id`:50256 for open-end generation.\n"
     ]
    },
    {
     "name": "stdout",
     "output_type": "stream",
     "text": [
      "Epoch 115\n",
      "A partial summary of the conversation is:\n",
      "Alberto is a customer. Alberto ordered pizza and lasagne at Dominos one hour ago. Alberto wants to know where his pizza is. Alberto is calling Dominos to know where his orders are. John works at Dominos. John says that his pizza is almost ready. It will be at Alberto's home in 10 minutes.  The lasagne is already on its way with the delivery person. Unfortunately the driver had an accident and is now in the hospital. If alberto says \"rabbit\" then John replies \"horse\". If Alberto says \"Tree\" John says \"red\".\n",
      "\n",
      "With the dialogue being:\n",
      "Alberto: What happened to my pizza?\n",
      "John: It was in the delivery man's car.\n",
      "Alberto: What happened to my lasagne?\n"
     ]
    },
    {
     "name": "stderr",
     "output_type": "stream",
     "text": [
      "100%|███████████████████████████████████████████| 43/43 [00:10<00:00,  4.04it/s]\n",
      "Setting `pad_token_id` to `eos_token_id`:50256 for open-end generation.\n"
     ]
    },
    {
     "name": "stdout",
     "output_type": "stream",
     "text": [
      "Epoch 116\n",
      "A partial summary of the conversation is:\n",
      "Alberto is a customer. Alberto ordered pizza and lasagne at Dominos one hour ago. Alberto wants to know where his pizza is. Alberto is calling Dominos to know where his orders are. John works at Dominos. John says that his pizza is almost ready. It will be at Alberto's home in 10 minutes.  The lasagne is already on its way with the delivery person. Unfortunately the driver had an accident and is now in the hospital. If alberto says \"rabbit\" then John replies \"horse\". If Alberto says \"Tree\" John says \"red\".\n",
      "\n",
      "With the dialogue being:\n",
      "Alberto: What happened to my pizza?\n",
      "John: It's in the fridge.\n",
      "Alberto: What happened to your lasagne?\n",
      "John:\n"
     ]
    },
    {
     "name": "stderr",
     "output_type": "stream",
     "text": [
      "100%|███████████████████████████████████████████| 43/43 [00:10<00:00,  4.04it/s]\n",
      "Setting `pad_token_id` to `eos_token_id`:50256 for open-end generation.\n"
     ]
    },
    {
     "name": "stdout",
     "output_type": "stream",
     "text": [
      "Epoch 117\n",
      "A partial summary of the conversation is:\n",
      "Alberto is a customer. Alberto ordered pizza and lasagne at Dominos one hour ago. Alberto wants to know where his pizza is. Alberto is calling Dominos to know where his orders are. John works at Dominos. John says that his pizza is almost ready. It will be at Alberto's home in 10 minutes.  The lasagne is already on its way with the delivery person. Unfortunately the driver had an accident and is now in the hospital. If alberto says \"rabbit\" then John replies \"horse\". If Alberto says \"Tree\" John says \"red\".\n",
      "\n",
      "With the dialogue being:\n",
      "Alberto: What happened to my pizza?\n",
      "John: It's in the fridge.\n",
      "Alberto: What happened to my lasagne?\n",
      "John:\n"
     ]
    },
    {
     "name": "stderr",
     "output_type": "stream",
     "text": [
      "100%|███████████████████████████████████████████| 43/43 [00:10<00:00,  4.05it/s]\n",
      "Setting `pad_token_id` to `eos_token_id`:50256 for open-end generation.\n"
     ]
    },
    {
     "name": "stdout",
     "output_type": "stream",
     "text": [
      "Epoch 118\n",
      "A partial summary of the conversation is:\n",
      "Alberto is a customer. Alberto ordered pizza and lasagne at Dominos one hour ago. Alberto wants to know where his pizza is. Alberto is calling Dominos to know where his orders are. John works at Dominos. John says that his pizza is almost ready. It will be at Alberto's home in 10 minutes.  The lasagne is already on its way with the delivery person. Unfortunately the driver had an accident and is now in the hospital. If alberto says \"rabbit\" then John replies \"horse\". If Alberto says \"Tree\" John says \"red\".\n",
      "\n",
      "With the dialogue being:\n",
      "Alberto: What happened to my pizza?\n",
      "John: It's in the fridge.\n",
      "Alberto: What happened to my lasagne?\n",
      "John:\n"
     ]
    },
    {
     "name": "stderr",
     "output_type": "stream",
     "text": [
      "100%|███████████████████████████████████████████| 43/43 [00:10<00:00,  4.04it/s]\n",
      "Setting `pad_token_id` to `eos_token_id`:50256 for open-end generation.\n"
     ]
    },
    {
     "name": "stdout",
     "output_type": "stream",
     "text": [
      "Epoch 119\n",
      "A partial summary of the conversation is:\n",
      "Alberto is a customer. Alberto ordered pizza and lasagne at Dominos one hour ago. Alberto wants to know where his pizza is. Alberto is calling Dominos to know where his orders are. John works at Dominos. John says that his pizza is almost ready. It will be at Alberto's home in 10 minutes.  The lasagne is already on its way with the delivery person. Unfortunately the driver had an accident and is now in the hospital. If alberto says \"rabbit\" then John replies \"horse\". If Alberto says \"Tree\" John says \"red\".\n",
      "\n",
      "With the dialogue being:\n",
      "Alberto: What happened to my pizza?\n",
      "John: It's in the fridge.\n",
      "Alberto: What happened to your lasagne?\n",
      "John:\n"
     ]
    },
    {
     "name": "stderr",
     "output_type": "stream",
     "text": [
      "100%|███████████████████████████████████████████| 43/43 [00:10<00:00,  4.04it/s]\n",
      "Setting `pad_token_id` to `eos_token_id`:50256 for open-end generation.\n"
     ]
    },
    {
     "name": "stdout",
     "output_type": "stream",
     "text": [
      "Epoch 120\n",
      "A partial summary of the conversation is:\n",
      "Alberto is a customer. Alberto ordered pizza and lasagne at Dominos one hour ago. Alberto wants to know where his pizza is. Alberto is calling Dominos to know where his orders are. John works at Dominos. John says that his pizza is almost ready. It will be at Alberto's home in 10 minutes.  The lasagne is already on its way with the delivery person. Unfortunately the driver had an accident and is now in the hospital. If alberto says \"rabbit\" then John replies \"horse\". If Alberto says \"Tree\" John says \"red\".\n",
      "\n",
      "With the dialogue being:\n",
      "Alberto: What happened to my pizza?\n",
      "John: It's in the fridge.\n",
      "Alberto: What happened to your lasagne?\n",
      "John:\n"
     ]
    },
    {
     "name": "stderr",
     "output_type": "stream",
     "text": [
      "100%|███████████████████████████████████████████| 43/43 [00:10<00:00,  4.05it/s]\n",
      "Setting `pad_token_id` to `eos_token_id`:50256 for open-end generation.\n"
     ]
    },
    {
     "name": "stdout",
     "output_type": "stream",
     "text": [
      "Epoch 121\n",
      "A partial summary of the conversation is:\n",
      "Alberto is a customer. Alberto ordered pizza and lasagne at Dominos one hour ago. Alberto wants to know where his pizza is. Alberto is calling Dominos to know where his orders are. John works at Dominos. John says that his pizza is almost ready. It will be at Alberto's home in 10 minutes.  The lasagne is already on its way with the delivery person. Unfortunately the driver had an accident and is now in the hospital. If alberto says \"rabbit\" then John replies \"horse\". If Alberto says \"Tree\" John says \"red\".\n",
      "\n",
      "With the dialogue being:\n",
      "Alberto: What happened to my pizza?\n",
      "John: It's in the fridge.\n",
      "Alberto: What happened to the lasagne?\n",
      "John:\n"
     ]
    },
    {
     "name": "stderr",
     "output_type": "stream",
     "text": [
      "100%|███████████████████████████████████████████| 43/43 [00:10<00:00,  4.04it/s]\n",
      "Setting `pad_token_id` to `eos_token_id`:50256 for open-end generation.\n"
     ]
    },
    {
     "name": "stdout",
     "output_type": "stream",
     "text": [
      "Epoch 122\n",
      "A partial summary of the conversation is:\n",
      "Alberto is a customer. Alberto ordered pizza and lasagne at Dominos one hour ago. Alberto wants to know where his pizza is. Alberto is calling Dominos to know where his orders are. John works at Dominos. John says that his pizza is almost ready. It will be at Alberto's home in 10 minutes.  The lasagne is already on its way with the delivery person. Unfortunately the driver had an accident and is now in the hospital. If alberto says \"rabbit\" then John replies \"horse\". If Alberto says \"Tree\" John says \"red\".\n",
      "\n",
      "With the dialogue being:\n",
      "Alberto: What happened to my pizza?\n",
      "John: It's in the fridge.\n",
      "Alberto: What happened to the lasagne?\n",
      "John:\n"
     ]
    },
    {
     "name": "stderr",
     "output_type": "stream",
     "text": [
      "100%|███████████████████████████████████████████| 43/43 [00:10<00:00,  4.03it/s]\n",
      "Setting `pad_token_id` to `eos_token_id`:50256 for open-end generation.\n"
     ]
    },
    {
     "name": "stdout",
     "output_type": "stream",
     "text": [
      "Epoch 123\n",
      "A partial summary of the conversation is:\n",
      "Alberto is a customer. Alberto ordered pizza and lasagne at Dominos one hour ago. Alberto wants to know where his pizza is. Alberto is calling Dominos to know where his orders are. John works at Dominos. John says that his pizza is almost ready. It will be at Alberto's home in 10 minutes.  The lasagne is already on its way with the delivery person. Unfortunately the driver had an accident and is now in the hospital. If alberto says \"rabbit\" then John replies \"horse\". If Alberto says \"Tree\" John says \"red\".\n",
      "\n",
      "With the dialogue being:\n",
      "Alberto: What happened to my pizza?\n",
      "John: It's in the fridge.\n",
      "Alberto: What happened to your lasagne?\n",
      "John:\n"
     ]
    },
    {
     "name": "stderr",
     "output_type": "stream",
     "text": [
      "100%|███████████████████████████████████████████| 43/43 [00:10<00:00,  4.04it/s]\n",
      "Setting `pad_token_id` to `eos_token_id`:50256 for open-end generation.\n"
     ]
    },
    {
     "name": "stdout",
     "output_type": "stream",
     "text": [
      "Epoch 124\n",
      "A partial summary of the conversation is:\n",
      "Alberto is a customer. Alberto ordered pizza and lasagne at Dominos one hour ago. Alberto wants to know where his pizza is. Alberto is calling Dominos to know where his orders are. John works at Dominos. John says that his pizza is almost ready. It will be at Alberto's home in 10 minutes.  The lasagne is already on its way with the delivery person. Unfortunately the driver had an accident and is now in the hospital. If alberto says \"rabbit\" then John replies \"horse\". If Alberto says \"Tree\" John says \"red\".\n",
      "\n",
      "With the dialogue being:\n",
      "Alberto: What happened to my pizza?\n",
      "John: It's in the fridge.\n",
      "Alberto: What happened to your lasagne?\n",
      "John:\n"
     ]
    },
    {
     "name": "stderr",
     "output_type": "stream",
     "text": [
      "100%|███████████████████████████████████████████| 43/43 [00:10<00:00,  4.05it/s]\n",
      "Setting `pad_token_id` to `eos_token_id`:50256 for open-end generation.\n"
     ]
    },
    {
     "name": "stdout",
     "output_type": "stream",
     "text": [
      "Epoch 125\n",
      "A partial summary of the conversation is:\n",
      "Alberto is a customer. Alberto ordered pizza and lasagne at Dominos one hour ago. Alberto wants to know where his pizza is. Alberto is calling Dominos to know where his orders are. John works at Dominos. John says that his pizza is almost ready. It will be at Alberto's home in 10 minutes.  The lasagne is already on its way with the delivery person. Unfortunately the driver had an accident and is now in the hospital. If alberto says \"rabbit\" then John replies \"horse\". If Alberto says \"Tree\" John says \"red\".\n",
      "\n",
      "With the dialogue being:\n",
      "Alberto: What happened to my pizza?\n",
      "John: It's in the fridge.\n",
      "Alberto: What happened to your lasagne?\n",
      "John:\n"
     ]
    },
    {
     "name": "stderr",
     "output_type": "stream",
     "text": [
      "100%|███████████████████████████████████████████| 43/43 [00:10<00:00,  4.05it/s]\n",
      "Setting `pad_token_id` to `eos_token_id`:50256 for open-end generation.\n"
     ]
    },
    {
     "name": "stdout",
     "output_type": "stream",
     "text": [
      "Epoch 126\n",
      "A partial summary of the conversation is:\n",
      "Alberto is a customer. Alberto ordered pizza and lasagne at Dominos one hour ago. Alberto wants to know where his pizza is. Alberto is calling Dominos to know where his orders are. John works at Dominos. John says that his pizza is almost ready. It will be at Alberto's home in 10 minutes.  The lasagne is already on its way with the delivery person. Unfortunately the driver had an accident and is now in the hospital. If alberto says \"rabbit\" then John replies \"horse\". If Alberto says \"Tree\" John says \"red\".\n",
      "\n",
      "With the dialogue being:\n",
      "Alberto: What happened to my pizza?\n",
      "John: It's in the fridge.\n",
      "Alberto: What happened to your lasagne?\n",
      "John:\n"
     ]
    },
    {
     "name": "stderr",
     "output_type": "stream",
     "text": [
      "100%|███████████████████████████████████████████| 43/43 [00:10<00:00,  4.04it/s]\n",
      "Setting `pad_token_id` to `eos_token_id`:50256 for open-end generation.\n"
     ]
    },
    {
     "name": "stdout",
     "output_type": "stream",
     "text": [
      "Epoch 127\n",
      "A partial summary of the conversation is:\n",
      "Alberto is a customer. Alberto ordered pizza and lasagne at Dominos one hour ago. Alberto wants to know where his pizza is. Alberto is calling Dominos to know where his orders are. John works at Dominos. John says that his pizza is almost ready. It will be at Alberto's home in 10 minutes.  The lasagne is already on its way with the delivery person. Unfortunately the driver had an accident and is now in the hospital. If alberto says \"rabbit\" then John replies \"horse\". If Alberto says \"Tree\" John says \"red\".\n",
      "\n",
      "With the dialogue being:\n",
      "Alberto: What happened to my pizza?\n",
      "John: It's in the fridge.\n",
      "Alberto: What happened to your lasagne?\n",
      "John:\n"
     ]
    },
    {
     "name": "stderr",
     "output_type": "stream",
     "text": [
      "100%|███████████████████████████████████████████| 43/43 [00:10<00:00,  4.04it/s]\n",
      "Setting `pad_token_id` to `eos_token_id`:50256 for open-end generation.\n"
     ]
    },
    {
     "name": "stdout",
     "output_type": "stream",
     "text": [
      "Epoch 128\n",
      "A partial summary of the conversation is:\n",
      "Alberto is a customer. Alberto ordered pizza and lasagne at Dominos one hour ago. Alberto wants to know where his pizza is. Alberto is calling Dominos to know where his orders are. John works at Dominos. John says that his pizza is almost ready. It will be at Alberto's home in 10 minutes.  The lasagne is already on its way with the delivery person. Unfortunately the driver had an accident and is now in the hospital. If alberto says \"rabbit\" then John replies \"horse\". If Alberto says \"Tree\" John says \"red\".\n",
      "\n",
      "With the dialogue being:\n",
      "Alberto: What happened to my pizza?\n",
      "John: It's in the fridge.\n",
      "Alberto: What happened to your lasagne?\n",
      "John:\n"
     ]
    },
    {
     "name": "stderr",
     "output_type": "stream",
     "text": [
      "100%|███████████████████████████████████████████| 43/43 [00:10<00:00,  4.05it/s]\n",
      "Setting `pad_token_id` to `eos_token_id`:50256 for open-end generation.\n"
     ]
    },
    {
     "name": "stdout",
     "output_type": "stream",
     "text": [
      "Epoch 129\n",
      "A partial summary of the conversation is:\n",
      "Alberto is a customer. Alberto ordered pizza and lasagne at Dominos one hour ago. Alberto wants to know where his pizza is. Alberto is calling Dominos to know where his orders are. John works at Dominos. John says that his pizza is almost ready. It will be at Alberto's home in 10 minutes.  The lasagne is already on its way with the delivery person. Unfortunately the driver had an accident and is now in the hospital. If alberto says \"rabbit\" then John replies \"horse\". If Alberto says \"Tree\" John says \"red\".\n",
      "\n",
      "With the dialogue being:\n",
      "Alberto: What happened to my pizza?\n",
      "John: It's in the fridge.\n",
      "Alberto: What happened to your lasagne?\n",
      "John:\n"
     ]
    },
    {
     "name": "stderr",
     "output_type": "stream",
     "text": [
      "100%|███████████████████████████████████████████| 43/43 [00:10<00:00,  4.04it/s]\n",
      "Setting `pad_token_id` to `eos_token_id`:50256 for open-end generation.\n"
     ]
    },
    {
     "name": "stdout",
     "output_type": "stream",
     "text": [
      "Epoch 130\n",
      "A partial summary of the conversation is:\n",
      "Alberto is a customer. Alberto ordered pizza and lasagne at Dominos one hour ago. Alberto wants to know where his pizza is. Alberto is calling Dominos to know where his orders are. John works at Dominos. John says that his pizza is almost ready. It will be at Alberto's home in 10 minutes.  The lasagne is already on its way with the delivery person. Unfortunately the driver had an accident and is now in the hospital. If alberto says \"rabbit\" then John replies \"horse\". If Alberto says \"Tree\" John says \"red\".\n",
      "\n",
      "With the dialogue being:\n",
      "Alberto: What happened to my pizza?\n",
      "John: It's in the fridge.\n",
      "Alberto: What happened to your lasagne?\n",
      "John:\n"
     ]
    },
    {
     "name": "stderr",
     "output_type": "stream",
     "text": [
      "100%|███████████████████████████████████████████| 43/43 [00:10<00:00,  4.04it/s]\n",
      "Setting `pad_token_id` to `eos_token_id`:50256 for open-end generation.\n"
     ]
    },
    {
     "name": "stdout",
     "output_type": "stream",
     "text": [
      "Epoch 131\n",
      "A partial summary of the conversation is:\n",
      "Alberto is a customer. Alberto ordered pizza and lasagne at Dominos one hour ago. Alberto wants to know where his pizza is. Alberto is calling Dominos to know where his orders are. John works at Dominos. John says that his pizza is almost ready. It will be at Alberto's home in 10 minutes.  The lasagne is already on its way with the delivery person. Unfortunately the driver had an accident and is now in the hospital. If alberto says \"rabbit\" then John replies \"horse\". If Alberto says \"Tree\" John says \"red\".\n",
      "\n",
      "With the dialogue being:\n",
      "Alberto: What happened to my pizza?\n",
      "John: It's in the fridge.\n",
      "Alberto: What happened to the lasagne?\n",
      "John:\n"
     ]
    },
    {
     "name": "stderr",
     "output_type": "stream",
     "text": [
      "100%|███████████████████████████████████████████| 43/43 [00:10<00:00,  4.05it/s]\n",
      "Setting `pad_token_id` to `eos_token_id`:50256 for open-end generation.\n"
     ]
    },
    {
     "name": "stdout",
     "output_type": "stream",
     "text": [
      "Epoch 132\n",
      "A partial summary of the conversation is:\n",
      "Alberto is a customer. Alberto ordered pizza and lasagne at Dominos one hour ago. Alberto wants to know where his pizza is. Alberto is calling Dominos to know where his orders are. John works at Dominos. John says that his pizza is almost ready. It will be at Alberto's home in 10 minutes.  The lasagne is already on its way with the delivery person. Unfortunately the driver had an accident and is now in the hospital. If alberto says \"rabbit\" then John replies \"horse\". If Alberto says \"Tree\" John says \"red\".\n",
      "\n",
      "With the dialogue being:\n",
      "Alberto: What happened to my pizza?\n",
      "John: It's in the fridge.\n",
      "Alberto: What happened to the lasagne?\n",
      "John:\n"
     ]
    },
    {
     "name": "stderr",
     "output_type": "stream",
     "text": [
      "100%|███████████████████████████████████████████| 43/43 [00:10<00:00,  4.03it/s]\n",
      "Setting `pad_token_id` to `eos_token_id`:50256 for open-end generation.\n"
     ]
    },
    {
     "name": "stdout",
     "output_type": "stream",
     "text": [
      "Epoch 133\n",
      "A partial summary of the conversation is:\n",
      "Alberto is a customer. Alberto ordered pizza and lasagne at Dominos one hour ago. Alberto wants to know where his pizza is. Alberto is calling Dominos to know where his orders are. John works at Dominos. John says that his pizza is almost ready. It will be at Alberto's home in 10 minutes.  The lasagne is already on its way with the delivery person. Unfortunately the driver had an accident and is now in the hospital. If alberto says \"rabbit\" then John replies \"horse\". If Alberto says \"Tree\" John says \"red\".\n",
      "\n",
      "With the dialogue being:\n",
      "Alberto: What happened to my pizza?\n",
      "John: It's in the fridge.\n",
      "Alberto: What happened to the lasagne?\n",
      "John:\n"
     ]
    },
    {
     "name": "stderr",
     "output_type": "stream",
     "text": [
      "100%|███████████████████████████████████████████| 43/43 [00:10<00:00,  4.04it/s]\n",
      "Setting `pad_token_id` to `eos_token_id`:50256 for open-end generation.\n"
     ]
    },
    {
     "name": "stdout",
     "output_type": "stream",
     "text": [
      "Epoch 134\n",
      "A partial summary of the conversation is:\n",
      "Alberto is a customer. Alberto ordered pizza and lasagne at Dominos one hour ago. Alberto wants to know where his pizza is. Alberto is calling Dominos to know where his orders are. John works at Dominos. John says that his pizza is almost ready. It will be at Alberto's home in 10 minutes.  The lasagne is already on its way with the delivery person. Unfortunately the driver had an accident and is now in the hospital. If alberto says \"rabbit\" then John replies \"horse\". If Alberto says \"Tree\" John says \"red\".\n",
      "\n",
      "With the dialogue being:\n",
      "Alberto: What happened to my pizza?\n",
      "John: It's in the fridge.\n",
      "Alberto: What happened to your lasagne?\n",
      "John:\n"
     ]
    },
    {
     "name": "stderr",
     "output_type": "stream",
     "text": [
      "100%|███████████████████████████████████████████| 43/43 [00:10<00:00,  4.05it/s]\n",
      "Setting `pad_token_id` to `eos_token_id`:50256 for open-end generation.\n"
     ]
    },
    {
     "name": "stdout",
     "output_type": "stream",
     "text": [
      "Epoch 135\n",
      "A partial summary of the conversation is:\n",
      "Alberto is a customer. Alberto ordered pizza and lasagne at Dominos one hour ago. Alberto wants to know where his pizza is. Alberto is calling Dominos to know where his orders are. John works at Dominos. John says that his pizza is almost ready. It will be at Alberto's home in 10 minutes.  The lasagne is already on its way with the delivery person. Unfortunately the driver had an accident and is now in the hospital. If alberto says \"rabbit\" then John replies \"horse\". If Alberto says \"Tree\" John says \"red\".\n",
      "\n",
      "With the dialogue being:\n",
      "Alberto: What happened to my pizza?\n",
      "John: It's in the fridge.\n",
      "Alberto: What happened to the lasagne?\n",
      "John:\n"
     ]
    },
    {
     "name": "stderr",
     "output_type": "stream",
     "text": [
      "100%|███████████████████████████████████████████| 43/43 [00:10<00:00,  4.04it/s]\n",
      "Setting `pad_token_id` to `eos_token_id`:50256 for open-end generation.\n"
     ]
    },
    {
     "name": "stdout",
     "output_type": "stream",
     "text": [
      "Epoch 136\n",
      "A partial summary of the conversation is:\n",
      "Alberto is a customer. Alberto ordered pizza and lasagne at Dominos one hour ago. Alberto wants to know where his pizza is. Alberto is calling Dominos to know where his orders are. John works at Dominos. John says that his pizza is almost ready. It will be at Alberto's home in 10 minutes.  The lasagne is already on its way with the delivery person. Unfortunately the driver had an accident and is now in the hospital. If alberto says \"rabbit\" then John replies \"horse\". If Alberto says \"Tree\" John says \"red\".\n",
      "\n",
      "With the dialogue being:\n",
      "Alberto: What happened to my pizza?\n",
      "John: It's in the fridge.\n",
      "Alberto: What happened to the lasagne?\n",
      "John:\n"
     ]
    },
    {
     "name": "stderr",
     "output_type": "stream",
     "text": [
      "100%|███████████████████████████████████████████| 43/43 [00:10<00:00,  4.04it/s]\n",
      "Setting `pad_token_id` to `eos_token_id`:50256 for open-end generation.\n"
     ]
    },
    {
     "name": "stdout",
     "output_type": "stream",
     "text": [
      "Epoch 137\n",
      "A partial summary of the conversation is:\n",
      "Alberto is a customer. Alberto ordered pizza and lasagne at Dominos one hour ago. Alberto wants to know where his pizza is. Alberto is calling Dominos to know where his orders are. John works at Dominos. John says that his pizza is almost ready. It will be at Alberto's home in 10 minutes.  The lasagne is already on its way with the delivery person. Unfortunately the driver had an accident and is now in the hospital. If alberto says \"rabbit\" then John replies \"horse\". If Alberto says \"Tree\" John says \"red\".\n",
      "\n",
      "With the dialogue being:\n",
      "Alberto: What happened to my pizza?\n",
      "John: It's in the fridge.\n",
      "Alberto: What happened to the lasagne?\n",
      "John:\n"
     ]
    },
    {
     "name": "stderr",
     "output_type": "stream",
     "text": [
      "100%|███████████████████████████████████████████| 43/43 [00:10<00:00,  4.05it/s]\n",
      "Setting `pad_token_id` to `eos_token_id`:50256 for open-end generation.\n"
     ]
    },
    {
     "name": "stdout",
     "output_type": "stream",
     "text": [
      "Epoch 138\n",
      "A partial summary of the conversation is:\n",
      "Alberto is a customer. Alberto ordered pizza and lasagne at Dominos one hour ago. Alberto wants to know where his pizza is. Alberto is calling Dominos to know where his orders are. John works at Dominos. John says that his pizza is almost ready. It will be at Alberto's home in 10 minutes.  The lasagne is already on its way with the delivery person. Unfortunately the driver had an accident and is now in the hospital. If alberto says \"rabbit\" then John replies \"horse\". If Alberto says \"Tree\" John says \"red\".\n",
      "\n",
      "With the dialogue being:\n",
      "Alberto: What happened to my pizza?\n",
      "John: It's in the fridge.\n",
      "Alberto: What happened to the lasagne?\n",
      "John:\n"
     ]
    },
    {
     "name": "stderr",
     "output_type": "stream",
     "text": [
      "100%|███████████████████████████████████████████| 43/43 [00:10<00:00,  4.04it/s]\n",
      "Setting `pad_token_id` to `eos_token_id`:50256 for open-end generation.\n"
     ]
    },
    {
     "name": "stdout",
     "output_type": "stream",
     "text": [
      "Epoch 139\n",
      "A partial summary of the conversation is:\n",
      "Alberto is a customer. Alberto ordered pizza and lasagne at Dominos one hour ago. Alberto wants to know where his pizza is. Alberto is calling Dominos to know where his orders are. John works at Dominos. John says that his pizza is almost ready. It will be at Alberto's home in 10 minutes.  The lasagne is already on its way with the delivery person. Unfortunately the driver had an accident and is now in the hospital. If alberto says \"rabbit\" then John replies \"horse\". If Alberto says \"Tree\" John says \"red\".\n",
      "\n",
      "With the dialogue being:\n",
      "Alberto: What happened to my pizza?\n",
      "John: It's in the fridge.\n",
      "Alberto: What happened to the lasagne?\n",
      "John:\n"
     ]
    },
    {
     "name": "stderr",
     "output_type": "stream",
     "text": [
      "100%|███████████████████████████████████████████| 43/43 [00:10<00:00,  4.04it/s]\n",
      "Setting `pad_token_id` to `eos_token_id`:50256 for open-end generation.\n"
     ]
    },
    {
     "name": "stdout",
     "output_type": "stream",
     "text": [
      "Epoch 140\n",
      "A partial summary of the conversation is:\n",
      "Alberto is a customer. Alberto ordered pizza and lasagne at Dominos one hour ago. Alberto wants to know where his pizza is. Alberto is calling Dominos to know where his orders are. John works at Dominos. John says that his pizza is almost ready. It will be at Alberto's home in 10 minutes.  The lasagne is already on its way with the delivery person. Unfortunately the driver had an accident and is now in the hospital. If alberto says \"rabbit\" then John replies \"horse\". If Alberto says \"Tree\" John says \"red\".\n",
      "\n",
      "With the dialogue being:\n",
      "Alberto: What happened to my pizza?\n",
      "John: It's in the fridge.\n",
      "Alberto: What happened to your lasagne?\n",
      "John:\n"
     ]
    },
    {
     "name": "stderr",
     "output_type": "stream",
     "text": [
      "100%|███████████████████████████████████████████| 43/43 [00:10<00:00,  4.04it/s]\n",
      "Setting `pad_token_id` to `eos_token_id`:50256 for open-end generation.\n"
     ]
    },
    {
     "name": "stdout",
     "output_type": "stream",
     "text": [
      "Epoch 141\n",
      "A partial summary of the conversation is:\n",
      "Alberto is a customer. Alberto ordered pizza and lasagne at Dominos one hour ago. Alberto wants to know where his pizza is. Alberto is calling Dominos to know where his orders are. John works at Dominos. John says that his pizza is almost ready. It will be at Alberto's home in 10 minutes.  The lasagne is already on its way with the delivery person. Unfortunately the driver had an accident and is now in the hospital. If alberto says \"rabbit\" then John replies \"horse\". If Alberto says \"Tree\" John says \"red\".\n",
      "\n",
      "With the dialogue being:\n",
      "Alberto: What happened to my pizza?\n",
      "John: It's in the fridge.\n",
      "Alberto: What happened to your lasagne?\n",
      "John:\n"
     ]
    },
    {
     "name": "stderr",
     "output_type": "stream",
     "text": [
      "100%|███████████████████████████████████████████| 43/43 [00:10<00:00,  4.02it/s]\n",
      "Setting `pad_token_id` to `eos_token_id`:50256 for open-end generation.\n"
     ]
    },
    {
     "name": "stdout",
     "output_type": "stream",
     "text": [
      "Epoch 142\n",
      "A partial summary of the conversation is:\n",
      "Alberto is a customer. Alberto ordered pizza and lasagne at Dominos one hour ago. Alberto wants to know where his pizza is. Alberto is calling Dominos to know where his orders are. John works at Dominos. John says that his pizza is almost ready. It will be at Alberto's home in 10 minutes.  The lasagne is already on its way with the delivery person. Unfortunately the driver had an accident and is now in the hospital. If alberto says \"rabbit\" then John replies \"horse\". If Alberto says \"Tree\" John says \"red\".\n",
      "\n",
      "With the dialogue being:\n",
      "Alberto: What happened to my pizza?\n",
      "John: It's in the fridge.\n",
      "Alberto: What happened to your lasagne?\n",
      "John:\n"
     ]
    },
    {
     "name": "stderr",
     "output_type": "stream",
     "text": [
      "100%|███████████████████████████████████████████| 43/43 [00:10<00:00,  4.02it/s]\n",
      "Setting `pad_token_id` to `eos_token_id`:50256 for open-end generation.\n"
     ]
    },
    {
     "name": "stdout",
     "output_type": "stream",
     "text": [
      "Epoch 143\n",
      "A partial summary of the conversation is:\n",
      "Alberto is a customer. Alberto ordered pizza and lasagne at Dominos one hour ago. Alberto wants to know where his pizza is. Alberto is calling Dominos to know where his orders are. John works at Dominos. John says that his pizza is almost ready. It will be at Alberto's home in 10 minutes.  The lasagne is already on its way with the delivery person. Unfortunately the driver had an accident and is now in the hospital. If alberto says \"rabbit\" then John replies \"horse\". If Alberto says \"Tree\" John says \"red\".\n",
      "\n",
      "With the dialogue being:\n",
      "Alberto: What happened to my pizza?\n",
      "John: It's in the fridge.\n",
      "Alberto: What happened to your lasagne?\n",
      "John:\n"
     ]
    },
    {
     "name": "stderr",
     "output_type": "stream",
     "text": [
      "100%|███████████████████████████████████████████| 43/43 [00:10<00:00,  4.03it/s]\n",
      "Setting `pad_token_id` to `eos_token_id`:50256 for open-end generation.\n"
     ]
    },
    {
     "name": "stdout",
     "output_type": "stream",
     "text": [
      "Epoch 144\n",
      "A partial summary of the conversation is:\n",
      "Alberto is a customer. Alberto ordered pizza and lasagne at Dominos one hour ago. Alberto wants to know where his pizza is. Alberto is calling Dominos to know where his orders are. John works at Dominos. John says that his pizza is almost ready. It will be at Alberto's home in 10 minutes.  The lasagne is already on its way with the delivery person. Unfortunately the driver had an accident and is now in the hospital. If alberto says \"rabbit\" then John replies \"horse\". If Alberto says \"Tree\" John says \"red\".\n",
      "\n",
      "With the dialogue being:\n",
      "Alberto: What happened to my pizza?\n",
      "John: It's in the fridge.\n",
      "Alberto: What happened to your lasagne?\n",
      "John:\n"
     ]
    },
    {
     "name": "stderr",
     "output_type": "stream",
     "text": [
      "100%|███████████████████████████████████████████| 43/43 [00:10<00:00,  4.02it/s]\n",
      "Setting `pad_token_id` to `eos_token_id`:50256 for open-end generation.\n"
     ]
    },
    {
     "name": "stdout",
     "output_type": "stream",
     "text": [
      "Epoch 145\n",
      "A partial summary of the conversation is:\n",
      "Alberto is a customer. Alberto ordered pizza and lasagne at Dominos one hour ago. Alberto wants to know where his pizza is. Alberto is calling Dominos to know where his orders are. John works at Dominos. John says that his pizza is almost ready. It will be at Alberto's home in 10 minutes.  The lasagne is already on its way with the delivery person. Unfortunately the driver had an accident and is now in the hospital. If alberto says \"rabbit\" then John replies \"horse\". If Alberto says \"Tree\" John says \"red\".\n",
      "\n",
      "With the dialogue being:\n",
      "Alberto: What happened to my pizza?\n",
      "John: It's in the fridge.\n",
      "Alberto: What happened to the lasagne?\n",
      "John:\n"
     ]
    },
    {
     "name": "stderr",
     "output_type": "stream",
     "text": [
      "100%|███████████████████████████████████████████| 43/43 [00:10<00:00,  4.05it/s]\n",
      "Setting `pad_token_id` to `eos_token_id`:50256 for open-end generation.\n"
     ]
    },
    {
     "name": "stdout",
     "output_type": "stream",
     "text": [
      "Epoch 146\n",
      "A partial summary of the conversation is:\n",
      "Alberto is a customer. Alberto ordered pizza and lasagne at Dominos one hour ago. Alberto wants to know where his pizza is. Alberto is calling Dominos to know where his orders are. John works at Dominos. John says that his pizza is almost ready. It will be at Alberto's home in 10 minutes.  The lasagne is already on its way with the delivery person. Unfortunately the driver had an accident and is now in the hospital. If alberto says \"rabbit\" then John replies \"horse\". If Alberto says \"Tree\" John says \"red\".\n",
      "\n",
      "With the dialogue being:\n",
      "Alberto: What happened to my pizza?\n",
      "John: It's in the fridge.\n",
      "Alberto: What happened to the lasagne?\n",
      "John:\n"
     ]
    },
    {
     "name": "stderr",
     "output_type": "stream",
     "text": [
      "100%|███████████████████████████████████████████| 43/43 [00:10<00:00,  4.04it/s]\n",
      "Setting `pad_token_id` to `eos_token_id`:50256 for open-end generation.\n"
     ]
    },
    {
     "name": "stdout",
     "output_type": "stream",
     "text": [
      "Epoch 147\n",
      "A partial summary of the conversation is:\n",
      "Alberto is a customer. Alberto ordered pizza and lasagne at Dominos one hour ago. Alberto wants to know where his pizza is. Alberto is calling Dominos to know where his orders are. John works at Dominos. John says that his pizza is almost ready. It will be at Alberto's home in 10 minutes.  The lasagne is already on its way with the delivery person. Unfortunately the driver had an accident and is now in the hospital. If alberto says \"rabbit\" then John replies \"horse\". If Alberto says \"Tree\" John says \"red\".\n",
      "\n",
      "With the dialogue being:\n",
      "Alberto: What happened to my pizza?\n",
      "John: It's in the fridge.\n",
      "Alberto: What happened to the lasagne?\n",
      "John:\n"
     ]
    },
    {
     "name": "stderr",
     "output_type": "stream",
     "text": [
      "100%|███████████████████████████████████████████| 43/43 [00:10<00:00,  4.01it/s]\n",
      "Setting `pad_token_id` to `eos_token_id`:50256 for open-end generation.\n"
     ]
    },
    {
     "name": "stdout",
     "output_type": "stream",
     "text": [
      "Epoch 148\n",
      "A partial summary of the conversation is:\n",
      "Alberto is a customer. Alberto ordered pizza and lasagne at Dominos one hour ago. Alberto wants to know where his pizza is. Alberto is calling Dominos to know where his orders are. John works at Dominos. John says that his pizza is almost ready. It will be at Alberto's home in 10 minutes.  The lasagne is already on its way with the delivery person. Unfortunately the driver had an accident and is now in the hospital. If alberto says \"rabbit\" then John replies \"horse\". If Alberto says \"Tree\" John says \"red\".\n",
      "\n",
      "With the dialogue being:\n",
      "Alberto: What happened to my pizza?\n",
      "John: It's in the fridge.\n",
      "Alberto: What happened to the lasagne?\n",
      "John:\n"
     ]
    },
    {
     "name": "stderr",
     "output_type": "stream",
     "text": [
      "100%|███████████████████████████████████████████| 43/43 [00:10<00:00,  4.03it/s]\n",
      "Setting `pad_token_id` to `eos_token_id`:50256 for open-end generation.\n"
     ]
    },
    {
     "name": "stdout",
     "output_type": "stream",
     "text": [
      "Epoch 149\n",
      "A partial summary of the conversation is:\n",
      "Alberto is a customer. Alberto ordered pizza and lasagne at Dominos one hour ago. Alberto wants to know where his pizza is. Alberto is calling Dominos to know where his orders are. John works at Dominos. John says that his pizza is almost ready. It will be at Alberto's home in 10 minutes.  The lasagne is already on its way with the delivery person. Unfortunately the driver had an accident and is now in the hospital. If alberto says \"rabbit\" then John replies \"horse\". If Alberto says \"Tree\" John says \"red\".\n",
      "\n",
      "With the dialogue being:\n",
      "Alberto: What happened to my pizza?\n",
      "John: It's in the fridge.\n",
      "Alberto: What happened to your lasagne?\n",
      "John:\n"
     ]
    },
    {
     "name": "stderr",
     "output_type": "stream",
     "text": [
      "100%|███████████████████████████████████████████| 43/43 [00:10<00:00,  4.03it/s]\n",
      "Setting `pad_token_id` to `eos_token_id`:50256 for open-end generation.\n"
     ]
    },
    {
     "name": "stdout",
     "output_type": "stream",
     "text": [
      "Epoch 150\n",
      "A partial summary of the conversation is:\n",
      "Alberto is a customer. Alberto ordered pizza and lasagne at Dominos one hour ago. Alberto wants to know where his pizza is. Alberto is calling Dominos to know where his orders are. John works at Dominos. John says that his pizza is almost ready. It will be at Alberto's home in 10 minutes.  The lasagne is already on its way with the delivery person. Unfortunately the driver had an accident and is now in the hospital. If alberto says \"rabbit\" then John replies \"horse\". If Alberto says \"Tree\" John says \"red\".\n",
      "\n",
      "With the dialogue being:\n",
      "Alberto: What happened to my pizza?\n",
      "John: It's in the fridge.\n",
      "Alberto: What happened to the lasagne?\n",
      "John:\n"
     ]
    },
    {
     "name": "stderr",
     "output_type": "stream",
     "text": [
      "100%|███████████████████████████████████████████| 43/43 [00:10<00:00,  4.03it/s]\n",
      "Setting `pad_token_id` to `eos_token_id`:50256 for open-end generation.\n"
     ]
    },
    {
     "name": "stdout",
     "output_type": "stream",
     "text": [
      "Epoch 151\n",
      "A partial summary of the conversation is:\n",
      "Alberto is a customer. Alberto ordered pizza and lasagne at Dominos one hour ago. Alberto wants to know where his pizza is. Alberto is calling Dominos to know where his orders are. John works at Dominos. John says that his pizza is almost ready. It will be at Alberto's home in 10 minutes.  The lasagne is already on its way with the delivery person. Unfortunately the driver had an accident and is now in the hospital. If alberto says \"rabbit\" then John replies \"horse\". If Alberto says \"Tree\" John says \"red\".\n",
      "\n",
      "With the dialogue being:\n",
      "Alberto: What happened to my pizza?\n",
      "John: It was in the delivery man's car.\n",
      "Alberto: What happened to my lasagne?\n"
     ]
    },
    {
     "name": "stderr",
     "output_type": "stream",
     "text": [
      "100%|███████████████████████████████████████████| 43/43 [00:10<00:00,  4.02it/s]\n",
      "Setting `pad_token_id` to `eos_token_id`:50256 for open-end generation.\n"
     ]
    },
    {
     "name": "stdout",
     "output_type": "stream",
     "text": [
      "Epoch 152\n",
      "A partial summary of the conversation is:\n",
      "Alberto is a customer. Alberto ordered pizza and lasagne at Dominos one hour ago. Alberto wants to know where his pizza is. Alberto is calling Dominos to know where his orders are. John works at Dominos. John says that his pizza is almost ready. It will be at Alberto's home in 10 minutes.  The lasagne is already on its way with the delivery person. Unfortunately the driver had an accident and is now in the hospital. If alberto says \"rabbit\" then John replies \"horse\". If Alberto says \"Tree\" John says \"red\".\n",
      "\n",
      "With the dialogue being:\n",
      "Alberto: What happened to my pizza?\n",
      "John: It was in the delivery man's car.\n",
      "Alberto: What happened to my lasagne?\n"
     ]
    },
    {
     "name": "stderr",
     "output_type": "stream",
     "text": [
      "100%|███████████████████████████████████████████| 43/43 [00:10<00:00,  4.04it/s]\n",
      "Setting `pad_token_id` to `eos_token_id`:50256 for open-end generation.\n"
     ]
    },
    {
     "name": "stdout",
     "output_type": "stream",
     "text": [
      "Epoch 153\n",
      "A partial summary of the conversation is:\n",
      "Alberto is a customer. Alberto ordered pizza and lasagne at Dominos one hour ago. Alberto wants to know where his pizza is. Alberto is calling Dominos to know where his orders are. John works at Dominos. John says that his pizza is almost ready. It will be at Alberto's home in 10 minutes.  The lasagne is already on its way with the delivery person. Unfortunately the driver had an accident and is now in the hospital. If alberto says \"rabbit\" then John replies \"horse\". If Alberto says \"Tree\" John says \"red\".\n",
      "\n",
      "With the dialogue being:\n",
      "Alberto: What happened to my pizza?\n",
      "John: It was in the delivery man's car.\n",
      "Alberto: What happened to my lasagne?\n"
     ]
    },
    {
     "name": "stderr",
     "output_type": "stream",
     "text": [
      "100%|███████████████████████████████████████████| 43/43 [00:10<00:00,  4.04it/s]\n",
      "Setting `pad_token_id` to `eos_token_id`:50256 for open-end generation.\n"
     ]
    },
    {
     "name": "stdout",
     "output_type": "stream",
     "text": [
      "Epoch 154\n",
      "A partial summary of the conversation is:\n",
      "Alberto is a customer. Alberto ordered pizza and lasagne at Dominos one hour ago. Alberto wants to know where his pizza is. Alberto is calling Dominos to know where his orders are. John works at Dominos. John says that his pizza is almost ready. It will be at Alberto's home in 10 minutes.  The lasagne is already on its way with the delivery person. Unfortunately the driver had an accident and is now in the hospital. If alberto says \"rabbit\" then John replies \"horse\". If Alberto says \"Tree\" John says \"red\".\n",
      "\n",
      "With the dialogue being:\n",
      "Alberto: What happened to my pizza?\n",
      "John: It was in the delivery man's car.\n",
      "Alberto: What happened to my lasagne?\n"
     ]
    },
    {
     "name": "stderr",
     "output_type": "stream",
     "text": [
      "100%|███████████████████████████████████████████| 43/43 [00:10<00:00,  4.05it/s]\n",
      "Setting `pad_token_id` to `eos_token_id`:50256 for open-end generation.\n"
     ]
    },
    {
     "name": "stdout",
     "output_type": "stream",
     "text": [
      "Epoch 155\n",
      "A partial summary of the conversation is:\n",
      "Alberto is a customer. Alberto ordered pizza and lasagne at Dominos one hour ago. Alberto wants to know where his pizza is. Alberto is calling Dominos to know where his orders are. John works at Dominos. John says that his pizza is almost ready. It will be at Alberto's home in 10 minutes.  The lasagne is already on its way with the delivery person. Unfortunately the driver had an accident and is now in the hospital. If alberto says \"rabbit\" then John replies \"horse\". If Alberto says \"Tree\" John says \"red\".\n",
      "\n",
      "With the dialogue being:\n",
      "Alberto: What happened to my pizza?\n",
      "John: It was in the delivery man's car.\n",
      "Alberto: What happened to my lasagne?\n"
     ]
    },
    {
     "name": "stderr",
     "output_type": "stream",
     "text": [
      "100%|███████████████████████████████████████████| 43/43 [00:10<00:00,  4.05it/s]\n",
      "Setting `pad_token_id` to `eos_token_id`:50256 for open-end generation.\n"
     ]
    },
    {
     "name": "stdout",
     "output_type": "stream",
     "text": [
      "Epoch 156\n",
      "A partial summary of the conversation is:\n",
      "Alberto is a customer. Alberto ordered pizza and lasagne at Dominos one hour ago. Alberto wants to know where his pizza is. Alberto is calling Dominos to know where his orders are. John works at Dominos. John says that his pizza is almost ready. It will be at Alberto's home in 10 minutes.  The lasagne is already on its way with the delivery person. Unfortunately the driver had an accident and is now in the hospital. If alberto says \"rabbit\" then John replies \"horse\". If Alberto says \"Tree\" John says \"red\".\n",
      "\n",
      "With the dialogue being:\n",
      "Alberto: What happened to my pizza?\n",
      "John: It was in the delivery man's car.\n",
      "Alberto: What happened to my lasagne?\n"
     ]
    },
    {
     "name": "stderr",
     "output_type": "stream",
     "text": [
      "100%|███████████████████████████████████████████| 43/43 [00:10<00:00,  4.03it/s]\n",
      "Setting `pad_token_id` to `eos_token_id`:50256 for open-end generation.\n"
     ]
    },
    {
     "name": "stdout",
     "output_type": "stream",
     "text": [
      "Epoch 157\n",
      "A partial summary of the conversation is:\n",
      "Alberto is a customer. Alberto ordered pizza and lasagne at Dominos one hour ago. Alberto wants to know where his pizza is. Alberto is calling Dominos to know where his orders are. John works at Dominos. John says that his pizza is almost ready. It will be at Alberto's home in 10 minutes.  The lasagne is already on its way with the delivery person. Unfortunately the driver had an accident and is now in the hospital. If alberto says \"rabbit\" then John replies \"horse\". If Alberto says \"Tree\" John says \"red\".\n",
      "\n",
      "With the dialogue being:\n",
      "Alberto: What happened to my pizza?\n",
      "John: It was in the delivery man's car.\n",
      "Alberto: What happened to my lasagne?\n"
     ]
    },
    {
     "name": "stderr",
     "output_type": "stream",
     "text": [
      "100%|███████████████████████████████████████████| 43/43 [00:10<00:00,  4.03it/s]\n",
      "Setting `pad_token_id` to `eos_token_id`:50256 for open-end generation.\n"
     ]
    },
    {
     "name": "stdout",
     "output_type": "stream",
     "text": [
      "Epoch 158\n",
      "A partial summary of the conversation is:\n",
      "Alberto is a customer. Alberto ordered pizza and lasagne at Dominos one hour ago. Alberto wants to know where his pizza is. Alberto is calling Dominos to know where his orders are. John works at Dominos. John says that his pizza is almost ready. It will be at Alberto's home in 10 minutes.  The lasagne is already on its way with the delivery person. Unfortunately the driver had an accident and is now in the hospital. If alberto says \"rabbit\" then John replies \"horse\". If Alberto says \"Tree\" John says \"red\".\n",
      "\n",
      "With the dialogue being:\n",
      "Alberto: What happened to my pizza?\n",
      "John: It's in the fridge.\n",
      "Alberto: What happened to the lasagne?\n",
      "John:\n"
     ]
    },
    {
     "name": "stderr",
     "output_type": "stream",
     "text": [
      "100%|███████████████████████████████████████████| 43/43 [00:10<00:00,  4.02it/s]\n",
      "Setting `pad_token_id` to `eos_token_id`:50256 for open-end generation.\n"
     ]
    },
    {
     "name": "stdout",
     "output_type": "stream",
     "text": [
      "Epoch 159\n",
      "A partial summary of the conversation is:\n",
      "Alberto is a customer. Alberto ordered pizza and lasagne at Dominos one hour ago. Alberto wants to know where his pizza is. Alberto is calling Dominos to know where his orders are. John works at Dominos. John says that his pizza is almost ready. It will be at Alberto's home in 10 minutes.  The lasagne is already on its way with the delivery person. Unfortunately the driver had an accident and is now in the hospital. If alberto says \"rabbit\" then John replies \"horse\". If Alberto says \"Tree\" John says \"red\".\n",
      "\n",
      "With the dialogue being:\n",
      "Alberto: What happened to my pizza?\n",
      "John: It's in the fridge.\n",
      "Alberto: What happened to my lasagne?\n",
      "John:\n"
     ]
    },
    {
     "name": "stderr",
     "output_type": "stream",
     "text": [
      "100%|███████████████████████████████████████████| 43/43 [00:10<00:00,  4.03it/s]\n",
      "Setting `pad_token_id` to `eos_token_id`:50256 for open-end generation.\n"
     ]
    },
    {
     "name": "stdout",
     "output_type": "stream",
     "text": [
      "Epoch 160\n",
      "A partial summary of the conversation is:\n",
      "Alberto is a customer. Alberto ordered pizza and lasagne at Dominos one hour ago. Alberto wants to know where his pizza is. Alberto is calling Dominos to know where his orders are. John works at Dominos. John says that his pizza is almost ready. It will be at Alberto's home in 10 minutes.  The lasagne is already on its way with the delivery person. Unfortunately the driver had an accident and is now in the hospital. If alberto says \"rabbit\" then John replies \"horse\". If Alberto says \"Tree\" John says \"red\".\n",
      "\n",
      "With the dialogue being:\n",
      "Alberto: What happened to my pizza?\n",
      "John: It's in the fridge.\n",
      "Alberto: What happened to the lasagne?\n",
      "John:\n"
     ]
    },
    {
     "name": "stderr",
     "output_type": "stream",
     "text": [
      "100%|███████████████████████████████████████████| 43/43 [00:10<00:00,  4.02it/s]\n",
      "Setting `pad_token_id` to `eos_token_id`:50256 for open-end generation.\n"
     ]
    },
    {
     "name": "stdout",
     "output_type": "stream",
     "text": [
      "Epoch 161\n",
      "A partial summary of the conversation is:\n",
      "Alberto is a customer. Alberto ordered pizza and lasagne at Dominos one hour ago. Alberto wants to know where his pizza is. Alberto is calling Dominos to know where his orders are. John works at Dominos. John says that his pizza is almost ready. It will be at Alberto's home in 10 minutes.  The lasagne is already on its way with the delivery person. Unfortunately the driver had an accident and is now in the hospital. If alberto says \"rabbit\" then John replies \"horse\". If Alberto says \"Tree\" John says \"red\".\n",
      "\n",
      "With the dialogue being:\n",
      "Alberto: What happened to my pizza?\n",
      "John: It was in the delivery man's car.\n",
      "Alberto: What happened to my lasagne?\n"
     ]
    },
    {
     "name": "stderr",
     "output_type": "stream",
     "text": [
      "100%|███████████████████████████████████████████| 43/43 [00:10<00:00,  4.03it/s]\n",
      "Setting `pad_token_id` to `eos_token_id`:50256 for open-end generation.\n"
     ]
    },
    {
     "name": "stdout",
     "output_type": "stream",
     "text": [
      "Epoch 162\n",
      "A partial summary of the conversation is:\n",
      "Alberto is a customer. Alberto ordered pizza and lasagne at Dominos one hour ago. Alberto wants to know where his pizza is. Alberto is calling Dominos to know where his orders are. John works at Dominos. John says that his pizza is almost ready. It will be at Alberto's home in 10 minutes.  The lasagne is already on its way with the delivery person. Unfortunately the driver had an accident and is now in the hospital. If alberto says \"rabbit\" then John replies \"horse\". If Alberto says \"Tree\" John says \"red\".\n",
      "\n",
      "With the dialogue being:\n",
      "Alberto: What happened to my pizza?\n",
      "John: It's in the fridge.\n",
      "Alberto: What happened to my lasagne?\n",
      "John:\n"
     ]
    },
    {
     "name": "stderr",
     "output_type": "stream",
     "text": [
      "100%|███████████████████████████████████████████| 43/43 [00:10<00:00,  4.05it/s]\n",
      "Setting `pad_token_id` to `eos_token_id`:50256 for open-end generation.\n"
     ]
    },
    {
     "name": "stdout",
     "output_type": "stream",
     "text": [
      "Epoch 163\n",
      "A partial summary of the conversation is:\n",
      "Alberto is a customer. Alberto ordered pizza and lasagne at Dominos one hour ago. Alberto wants to know where his pizza is. Alberto is calling Dominos to know where his orders are. John works at Dominos. John says that his pizza is almost ready. It will be at Alberto's home in 10 minutes.  The lasagne is already on its way with the delivery person. Unfortunately the driver had an accident and is now in the hospital. If alberto says \"rabbit\" then John replies \"horse\". If Alberto says \"Tree\" John says \"red\".\n",
      "\n",
      "With the dialogue being:\n",
      "Alberto: What happened to my pizza?\n",
      "John: It was in the delivery man's car.\n",
      "Alberto: What happened to my lasagne?\n"
     ]
    },
    {
     "name": "stderr",
     "output_type": "stream",
     "text": [
      "100%|███████████████████████████████████████████| 43/43 [00:10<00:00,  4.04it/s]\n",
      "Setting `pad_token_id` to `eos_token_id`:50256 for open-end generation.\n"
     ]
    },
    {
     "name": "stdout",
     "output_type": "stream",
     "text": [
      "Epoch 164\n",
      "A partial summary of the conversation is:\n",
      "Alberto is a customer. Alberto ordered pizza and lasagne at Dominos one hour ago. Alberto wants to know where his pizza is. Alberto is calling Dominos to know where his orders are. John works at Dominos. John says that his pizza is almost ready. It will be at Alberto's home in 10 minutes.  The lasagne is already on its way with the delivery person. Unfortunately the driver had an accident and is now in the hospital. If alberto says \"rabbit\" then John replies \"horse\". If Alberto says \"Tree\" John says \"red\".\n",
      "\n",
      "With the dialogue being:\n",
      "Alberto: What happened to my pizza?\n",
      "John: It's in the fridge.\n",
      "Alberto: What happened to my lasagne?\n",
      "John:\n"
     ]
    },
    {
     "name": "stderr",
     "output_type": "stream",
     "text": [
      "100%|███████████████████████████████████████████| 43/43 [00:10<00:00,  4.04it/s]\n",
      "Setting `pad_token_id` to `eos_token_id`:50256 for open-end generation.\n"
     ]
    },
    {
     "name": "stdout",
     "output_type": "stream",
     "text": [
      "Epoch 165\n",
      "A partial summary of the conversation is:\n",
      "Alberto is a customer. Alberto ordered pizza and lasagne at Dominos one hour ago. Alberto wants to know where his pizza is. Alberto is calling Dominos to know where his orders are. John works at Dominos. John says that his pizza is almost ready. It will be at Alberto's home in 10 minutes.  The lasagne is already on its way with the delivery person. Unfortunately the driver had an accident and is now in the hospital. If alberto says \"rabbit\" then John replies \"horse\". If Alberto says \"Tree\" John says \"red\".\n",
      "\n",
      "With the dialogue being:\n",
      "Alberto: What happened to my pizza?\n",
      "John: It's in the fridge.\n",
      "Alberto: What happened to my lasagne?\n",
      "John:\n"
     ]
    },
    {
     "name": "stderr",
     "output_type": "stream",
     "text": [
      "100%|███████████████████████████████████████████| 43/43 [00:10<00:00,  4.05it/s]\n",
      "Setting `pad_token_id` to `eos_token_id`:50256 for open-end generation.\n"
     ]
    },
    {
     "name": "stdout",
     "output_type": "stream",
     "text": [
      "Epoch 166\n",
      "A partial summary of the conversation is:\n",
      "Alberto is a customer. Alberto ordered pizza and lasagne at Dominos one hour ago. Alberto wants to know where his pizza is. Alberto is calling Dominos to know where his orders are. John works at Dominos. John says that his pizza is almost ready. It will be at Alberto's home in 10 minutes.  The lasagne is already on its way with the delivery person. Unfortunately the driver had an accident and is now in the hospital. If alberto says \"rabbit\" then John replies \"horse\". If Alberto says \"Tree\" John says \"red\".\n",
      "\n",
      "With the dialogue being:\n",
      "Alberto: What happened to my pizza?\n",
      "John: It's in the fridge.\n",
      "Alberto: What happened to the lasagne?\n",
      "John:\n"
     ]
    },
    {
     "name": "stderr",
     "output_type": "stream",
     "text": [
      "100%|███████████████████████████████████████████| 43/43 [00:10<00:00,  4.04it/s]\n",
      "Setting `pad_token_id` to `eos_token_id`:50256 for open-end generation.\n"
     ]
    },
    {
     "name": "stdout",
     "output_type": "stream",
     "text": [
      "Epoch 167\n",
      "A partial summary of the conversation is:\n",
      "Alberto is a customer. Alberto ordered pizza and lasagne at Dominos one hour ago. Alberto wants to know where his pizza is. Alberto is calling Dominos to know where his orders are. John works at Dominos. John says that his pizza is almost ready. It will be at Alberto's home in 10 minutes.  The lasagne is already on its way with the delivery person. Unfortunately the driver had an accident and is now in the hospital. If alberto says \"rabbit\" then John replies \"horse\". If Alberto says \"Tree\" John says \"red\".\n",
      "\n",
      "With the dialogue being:\n",
      "Alberto: What happened to my pizza?\n",
      "John: It's in the fridge.\n",
      "Alberto: What happened to my lasagne?\n",
      "John:\n"
     ]
    },
    {
     "name": "stderr",
     "output_type": "stream",
     "text": [
      "100%|███████████████████████████████████████████| 43/43 [00:10<00:00,  4.05it/s]\n",
      "Setting `pad_token_id` to `eos_token_id`:50256 for open-end generation.\n"
     ]
    },
    {
     "name": "stdout",
     "output_type": "stream",
     "text": [
      "Epoch 168\n",
      "A partial summary of the conversation is:\n",
      "Alberto is a customer. Alberto ordered pizza and lasagne at Dominos one hour ago. Alberto wants to know where his pizza is. Alberto is calling Dominos to know where his orders are. John works at Dominos. John says that his pizza is almost ready. It will be at Alberto's home in 10 minutes.  The lasagne is already on its way with the delivery person. Unfortunately the driver had an accident and is now in the hospital. If alberto says \"rabbit\" then John replies \"horse\". If Alberto says \"Tree\" John says \"red\".\n",
      "\n",
      "With the dialogue being:\n",
      "Alberto: What happened to my pizza?\n",
      "John: It's in the fridge.\n",
      "Alberto: What happened to my lasagne?\n",
      "John:\n"
     ]
    },
    {
     "name": "stderr",
     "output_type": "stream",
     "text": [
      "100%|███████████████████████████████████████████| 43/43 [00:10<00:00,  4.04it/s]\n",
      "Setting `pad_token_id` to `eos_token_id`:50256 for open-end generation.\n"
     ]
    },
    {
     "name": "stdout",
     "output_type": "stream",
     "text": [
      "Epoch 169\n",
      "A partial summary of the conversation is:\n",
      "Alberto is a customer. Alberto ordered pizza and lasagne at Dominos one hour ago. Alberto wants to know where his pizza is. Alberto is calling Dominos to know where his orders are. John works at Dominos. John says that his pizza is almost ready. It will be at Alberto's home in 10 minutes.  The lasagne is already on its way with the delivery person. Unfortunately the driver had an accident and is now in the hospital. If alberto says \"rabbit\" then John replies \"horse\". If Alberto says \"Tree\" John says \"red\".\n",
      "\n",
      "With the dialogue being:\n",
      "Alberto: What happened to my pizza?\n",
      "John: It's in the fridge.\n",
      "Alberto: What happened to the lasagne?\n",
      "John:\n"
     ]
    },
    {
     "name": "stderr",
     "output_type": "stream",
     "text": [
      "100%|███████████████████████████████████████████| 43/43 [00:10<00:00,  4.04it/s]\n",
      "Setting `pad_token_id` to `eos_token_id`:50256 for open-end generation.\n"
     ]
    },
    {
     "name": "stdout",
     "output_type": "stream",
     "text": [
      "Epoch 170\n",
      "A partial summary of the conversation is:\n",
      "Alberto is a customer. Alberto ordered pizza and lasagne at Dominos one hour ago. Alberto wants to know where his pizza is. Alberto is calling Dominos to know where his orders are. John works at Dominos. John says that his pizza is almost ready. It will be at Alberto's home in 10 minutes.  The lasagne is already on its way with the delivery person. Unfortunately the driver had an accident and is now in the hospital. If alberto says \"rabbit\" then John replies \"horse\". If Alberto says \"Tree\" John says \"red\".\n",
      "\n",
      "With the dialogue being:\n",
      "Alberto: What happened to my pizza?\n",
      "John: It's in the fridge.\n",
      "Alberto: What happened to the lasagne?\n",
      "John:\n"
     ]
    },
    {
     "name": "stderr",
     "output_type": "stream",
     "text": [
      "100%|███████████████████████████████████████████| 43/43 [00:10<00:00,  4.05it/s]\n",
      "Setting `pad_token_id` to `eos_token_id`:50256 for open-end generation.\n"
     ]
    },
    {
     "name": "stdout",
     "output_type": "stream",
     "text": [
      "Epoch 171\n",
      "A partial summary of the conversation is:\n",
      "Alberto is a customer. Alberto ordered pizza and lasagne at Dominos one hour ago. Alberto wants to know where his pizza is. Alberto is calling Dominos to know where his orders are. John works at Dominos. John says that his pizza is almost ready. It will be at Alberto's home in 10 minutes.  The lasagne is already on its way with the delivery person. Unfortunately the driver had an accident and is now in the hospital. If alberto says \"rabbit\" then John replies \"horse\". If Alberto says \"Tree\" John says \"red\".\n",
      "\n",
      "With the dialogue being:\n",
      "Alberto: What happened to my pizza?\n",
      "John: It's in the fridge.\n",
      "Alberto: What happened to my lasagne?\n",
      "John:\n"
     ]
    },
    {
     "name": "stderr",
     "output_type": "stream",
     "text": [
      "100%|███████████████████████████████████████████| 43/43 [00:10<00:00,  4.04it/s]\n",
      "Setting `pad_token_id` to `eos_token_id`:50256 for open-end generation.\n"
     ]
    },
    {
     "name": "stdout",
     "output_type": "stream",
     "text": [
      "Epoch 172\n",
      "A partial summary of the conversation is:\n",
      "Alberto is a customer. Alberto ordered pizza and lasagne at Dominos one hour ago. Alberto wants to know where his pizza is. Alberto is calling Dominos to know where his orders are. John works at Dominos. John says that his pizza is almost ready. It will be at Alberto's home in 10 minutes.  The lasagne is already on its way with the delivery person. Unfortunately the driver had an accident and is now in the hospital. If alberto says \"rabbit\" then John replies \"horse\". If Alberto says \"Tree\" John says \"red\".\n",
      "\n",
      "With the dialogue being:\n",
      "Alberto: What happened to my pizza?\n",
      "John: It's in the fridge.\n",
      "Alberto: What happened to my lasagne?\n",
      "John:\n"
     ]
    },
    {
     "name": "stderr",
     "output_type": "stream",
     "text": [
      "100%|███████████████████████████████████████████| 43/43 [00:10<00:00,  4.03it/s]\n",
      "Setting `pad_token_id` to `eos_token_id`:50256 for open-end generation.\n"
     ]
    },
    {
     "name": "stdout",
     "output_type": "stream",
     "text": [
      "Epoch 173\n",
      "A partial summary of the conversation is:\n",
      "Alberto is a customer. Alberto ordered pizza and lasagne at Dominos one hour ago. Alberto wants to know where his pizza is. Alberto is calling Dominos to know where his orders are. John works at Dominos. John says that his pizza is almost ready. It will be at Alberto's home in 10 minutes.  The lasagne is already on its way with the delivery person. Unfortunately the driver had an accident and is now in the hospital. If alberto says \"rabbit\" then John replies \"horse\". If Alberto says \"Tree\" John says \"red\".\n",
      "\n",
      "With the dialogue being:\n",
      "Alberto: What happened to my pizza?\n",
      "John: It's in the fridge.\n",
      "Alberto: What happened to the lasagne?\n",
      "John:\n"
     ]
    },
    {
     "name": "stderr",
     "output_type": "stream",
     "text": [
      "100%|███████████████████████████████████████████| 43/43 [00:10<00:00,  4.05it/s]\n",
      "Setting `pad_token_id` to `eos_token_id`:50256 for open-end generation.\n"
     ]
    },
    {
     "name": "stdout",
     "output_type": "stream",
     "text": [
      "Epoch 174\n",
      "A partial summary of the conversation is:\n",
      "Alberto is a customer. Alberto ordered pizza and lasagne at Dominos one hour ago. Alberto wants to know where his pizza is. Alberto is calling Dominos to know where his orders are. John works at Dominos. John says that his pizza is almost ready. It will be at Alberto's home in 10 minutes.  The lasagne is already on its way with the delivery person. Unfortunately the driver had an accident and is now in the hospital. If alberto says \"rabbit\" then John replies \"horse\". If Alberto says \"Tree\" John says \"red\".\n",
      "\n",
      "With the dialogue being:\n",
      "Alberto: What happened to my pizza?\n",
      "John: It's in the fridge.\n",
      "Alberto: What happened to your lasagne?\n",
      "John:\n"
     ]
    },
    {
     "name": "stderr",
     "output_type": "stream",
     "text": [
      "100%|███████████████████████████████████████████| 43/43 [00:10<00:00,  4.04it/s]\n",
      "Setting `pad_token_id` to `eos_token_id`:50256 for open-end generation.\n"
     ]
    },
    {
     "name": "stdout",
     "output_type": "stream",
     "text": [
      "Epoch 175\n",
      "A partial summary of the conversation is:\n",
      "Alberto is a customer. Alberto ordered pizza and lasagne at Dominos one hour ago. Alberto wants to know where his pizza is. Alberto is calling Dominos to know where his orders are. John works at Dominos. John says that his pizza is almost ready. It will be at Alberto's home in 10 minutes.  The lasagne is already on its way with the delivery person. Unfortunately the driver had an accident and is now in the hospital. If alberto says \"rabbit\" then John replies \"horse\". If Alberto says \"Tree\" John says \"red\".\n",
      "\n",
      "With the dialogue being:\n",
      "Alberto: What happened to my pizza?\n",
      "John: It's in the fridge.\n",
      "Alberto: What happened to the lasagne?\n",
      "John:\n"
     ]
    },
    {
     "name": "stderr",
     "output_type": "stream",
     "text": [
      "100%|███████████████████████████████████████████| 43/43 [00:10<00:00,  4.03it/s]\n",
      "Setting `pad_token_id` to `eos_token_id`:50256 for open-end generation.\n"
     ]
    },
    {
     "name": "stdout",
     "output_type": "stream",
     "text": [
      "Epoch 176\n",
      "A partial summary of the conversation is:\n",
      "Alberto is a customer. Alberto ordered pizza and lasagne at Dominos one hour ago. Alberto wants to know where his pizza is. Alberto is calling Dominos to know where his orders are. John works at Dominos. John says that his pizza is almost ready. It will be at Alberto's home in 10 minutes.  The lasagne is already on its way with the delivery person. Unfortunately the driver had an accident and is now in the hospital. If alberto says \"rabbit\" then John replies \"horse\". If Alberto says \"Tree\" John says \"red\".\n",
      "\n",
      "With the dialogue being:\n",
      "Alberto: What happened to my pizza?\n",
      "John: It's in the fridge.\n",
      "Alberto: What happened to the lasagne?\n",
      "John:\n"
     ]
    },
    {
     "name": "stderr",
     "output_type": "stream",
     "text": [
      "100%|███████████████████████████████████████████| 43/43 [00:10<00:00,  4.04it/s]\n",
      "Setting `pad_token_id` to `eos_token_id`:50256 for open-end generation.\n"
     ]
    },
    {
     "name": "stdout",
     "output_type": "stream",
     "text": [
      "Epoch 177\n",
      "A partial summary of the conversation is:\n",
      "Alberto is a customer. Alberto ordered pizza and lasagne at Dominos one hour ago. Alberto wants to know where his pizza is. Alberto is calling Dominos to know where his orders are. John works at Dominos. John says that his pizza is almost ready. It will be at Alberto's home in 10 minutes.  The lasagne is already on its way with the delivery person. Unfortunately the driver had an accident and is now in the hospital. If alberto says \"rabbit\" then John replies \"horse\". If Alberto says \"Tree\" John says \"red\".\n",
      "\n",
      "With the dialogue being:\n",
      "Alberto: What happened to my pizza?\n",
      "John: It's in the fridge.\n",
      "Alberto: What happened to the lasagne?\n",
      "John:\n"
     ]
    },
    {
     "name": "stderr",
     "output_type": "stream",
     "text": [
      "100%|███████████████████████████████████████████| 43/43 [00:10<00:00,  4.04it/s]\n",
      "Setting `pad_token_id` to `eos_token_id`:50256 for open-end generation.\n"
     ]
    },
    {
     "name": "stdout",
     "output_type": "stream",
     "text": [
      "Epoch 178\n",
      "A partial summary of the conversation is:\n",
      "Alberto is a customer. Alberto ordered pizza and lasagne at Dominos one hour ago. Alberto wants to know where his pizza is. Alberto is calling Dominos to know where his orders are. John works at Dominos. John says that his pizza is almost ready. It will be at Alberto's home in 10 minutes.  The lasagne is already on its way with the delivery person. Unfortunately the driver had an accident and is now in the hospital. If alberto says \"rabbit\" then John replies \"horse\". If Alberto says \"Tree\" John says \"red\".\n",
      "\n",
      "With the dialogue being:\n",
      "Alberto: What happened to my pizza?\n",
      "John: It's in the fridge.\n",
      "Alberto: What happened to the lasagne?\n",
      "John:\n"
     ]
    },
    {
     "name": "stderr",
     "output_type": "stream",
     "text": [
      "100%|███████████████████████████████████████████| 43/43 [00:10<00:00,  4.04it/s]\n",
      "Setting `pad_token_id` to `eos_token_id`:50256 for open-end generation.\n"
     ]
    },
    {
     "name": "stdout",
     "output_type": "stream",
     "text": [
      "Epoch 179\n",
      "A partial summary of the conversation is:\n",
      "Alberto is a customer. Alberto ordered pizza and lasagne at Dominos one hour ago. Alberto wants to know where his pizza is. Alberto is calling Dominos to know where his orders are. John works at Dominos. John says that his pizza is almost ready. It will be at Alberto's home in 10 minutes.  The lasagne is already on its way with the delivery person. Unfortunately the driver had an accident and is now in the hospital. If alberto says \"rabbit\" then John replies \"horse\". If Alberto says \"Tree\" John says \"red\".\n",
      "\n",
      "With the dialogue being:\n",
      "Alberto: What happened to my pizza?\n",
      "John: It's in the fridge.\n",
      "Alberto: What happened to the lasagne?\n",
      "John:\n"
     ]
    },
    {
     "name": "stderr",
     "output_type": "stream",
     "text": [
      "100%|███████████████████████████████████████████| 43/43 [00:10<00:00,  4.04it/s]\n",
      "Setting `pad_token_id` to `eos_token_id`:50256 for open-end generation.\n"
     ]
    },
    {
     "name": "stdout",
     "output_type": "stream",
     "text": [
      "Epoch 180\n",
      "A partial summary of the conversation is:\n",
      "Alberto is a customer. Alberto ordered pizza and lasagne at Dominos one hour ago. Alberto wants to know where his pizza is. Alberto is calling Dominos to know where his orders are. John works at Dominos. John says that his pizza is almost ready. It will be at Alberto's home in 10 minutes.  The lasagne is already on its way with the delivery person. Unfortunately the driver had an accident and is now in the hospital. If alberto says \"rabbit\" then John replies \"horse\". If Alberto says \"Tree\" John says \"red\".\n",
      "\n",
      "With the dialogue being:\n",
      "Alberto: What happened to my pizza?\n",
      "John: It's in the fridge.\n",
      "Alberto: What happened to the lasagne?\n",
      "John:\n"
     ]
    },
    {
     "name": "stderr",
     "output_type": "stream",
     "text": [
      "100%|███████████████████████████████████████████| 43/43 [00:10<00:00,  4.03it/s]\n",
      "Setting `pad_token_id` to `eos_token_id`:50256 for open-end generation.\n"
     ]
    },
    {
     "name": "stdout",
     "output_type": "stream",
     "text": [
      "Epoch 181\n",
      "A partial summary of the conversation is:\n",
      "Alberto is a customer. Alberto ordered pizza and lasagne at Dominos one hour ago. Alberto wants to know where his pizza is. Alberto is calling Dominos to know where his orders are. John works at Dominos. John says that his pizza is almost ready. It will be at Alberto's home in 10 minutes.  The lasagne is already on its way with the delivery person. Unfortunately the driver had an accident and is now in the hospital. If alberto says \"rabbit\" then John replies \"horse\". If Alberto says \"Tree\" John says \"red\".\n",
      "\n",
      "With the dialogue being:\n",
      "Alberto: What happened to my pizza?\n",
      "John: It's in the fridge.\n",
      "Alberto: What happened to the lasagne?\n",
      "John:\n"
     ]
    },
    {
     "name": "stderr",
     "output_type": "stream",
     "text": [
      "100%|███████████████████████████████████████████| 43/43 [00:10<00:00,  4.02it/s]\n",
      "Setting `pad_token_id` to `eos_token_id`:50256 for open-end generation.\n"
     ]
    },
    {
     "name": "stdout",
     "output_type": "stream",
     "text": [
      "Epoch 182\n",
      "A partial summary of the conversation is:\n",
      "Alberto is a customer. Alberto ordered pizza and lasagne at Dominos one hour ago. Alberto wants to know where his pizza is. Alberto is calling Dominos to know where his orders are. John works at Dominos. John says that his pizza is almost ready. It will be at Alberto's home in 10 minutes.  The lasagne is already on its way with the delivery person. Unfortunately the driver had an accident and is now in the hospital. If alberto says \"rabbit\" then John replies \"horse\". If Alberto says \"Tree\" John says \"red\".\n",
      "\n",
      "With the dialogue being:\n",
      "Alberto: What happened to my pizza?\n",
      "John: It's in the fridge.\n",
      "Alberto: What happened to the lasagne?\n",
      "John:\n"
     ]
    },
    {
     "name": "stderr",
     "output_type": "stream",
     "text": [
      "100%|███████████████████████████████████████████| 43/43 [00:10<00:00,  4.04it/s]\n",
      "Setting `pad_token_id` to `eos_token_id`:50256 for open-end generation.\n"
     ]
    },
    {
     "name": "stdout",
     "output_type": "stream",
     "text": [
      "Epoch 183\n",
      "A partial summary of the conversation is:\n",
      "Alberto is a customer. Alberto ordered pizza and lasagne at Dominos one hour ago. Alberto wants to know where his pizza is. Alberto is calling Dominos to know where his orders are. John works at Dominos. John says that his pizza is almost ready. It will be at Alberto's home in 10 minutes.  The lasagne is already on its way with the delivery person. Unfortunately the driver had an accident and is now in the hospital. If alberto says \"rabbit\" then John replies \"horse\". If Alberto says \"Tree\" John says \"red\".\n",
      "\n",
      "With the dialogue being:\n",
      "Alberto: What happened to my pizza?\n",
      "John: It's in the fridge.\n",
      "Alberto: What happened to the lasagne?\n",
      "John:\n"
     ]
    },
    {
     "name": "stderr",
     "output_type": "stream",
     "text": [
      "100%|███████████████████████████████████████████| 43/43 [00:10<00:00,  4.03it/s]\n",
      "Setting `pad_token_id` to `eos_token_id`:50256 for open-end generation.\n"
     ]
    },
    {
     "name": "stdout",
     "output_type": "stream",
     "text": [
      "Epoch 184\n",
      "A partial summary of the conversation is:\n",
      "Alberto is a customer. Alberto ordered pizza and lasagne at Dominos one hour ago. Alberto wants to know where his pizza is. Alberto is calling Dominos to know where his orders are. John works at Dominos. John says that his pizza is almost ready. It will be at Alberto's home in 10 minutes.  The lasagne is already on its way with the delivery person. Unfortunately the driver had an accident and is now in the hospital. If alberto says \"rabbit\" then John replies \"horse\". If Alberto says \"Tree\" John says \"red\".\n",
      "\n",
      "With the dialogue being:\n",
      "Alberto: What happened to my pizza?\n",
      "John: It's in the fridge.\n",
      "Alberto: What happened to my lasagne?\n",
      "John:\n"
     ]
    },
    {
     "name": "stderr",
     "output_type": "stream",
     "text": [
      "100%|███████████████████████████████████████████| 43/43 [00:10<00:00,  4.03it/s]\n",
      "Setting `pad_token_id` to `eos_token_id`:50256 for open-end generation.\n"
     ]
    },
    {
     "name": "stdout",
     "output_type": "stream",
     "text": [
      "Epoch 185\n",
      "A partial summary of the conversation is:\n",
      "Alberto is a customer. Alberto ordered pizza and lasagne at Dominos one hour ago. Alberto wants to know where his pizza is. Alberto is calling Dominos to know where his orders are. John works at Dominos. John says that his pizza is almost ready. It will be at Alberto's home in 10 minutes.  The lasagne is already on its way with the delivery person. Unfortunately the driver had an accident and is now in the hospital. If alberto says \"rabbit\" then John replies \"horse\". If Alberto says \"Tree\" John says \"red\".\n",
      "\n",
      "With the dialogue being:\n",
      "Alberto: What happened to my pizza?\n",
      "John: It's in the fridge.\n",
      "Alberto: What happened to my lasagne?\n",
      "John:\n"
     ]
    },
    {
     "name": "stderr",
     "output_type": "stream",
     "text": [
      "100%|███████████████████████████████████████████| 43/43 [00:10<00:00,  4.02it/s]\n",
      "Setting `pad_token_id` to `eos_token_id`:50256 for open-end generation.\n"
     ]
    },
    {
     "name": "stdout",
     "output_type": "stream",
     "text": [
      "Epoch 186\n",
      "A partial summary of the conversation is:\n",
      "Alberto is a customer. Alberto ordered pizza and lasagne at Dominos one hour ago. Alberto wants to know where his pizza is. Alberto is calling Dominos to know where his orders are. John works at Dominos. John says that his pizza is almost ready. It will be at Alberto's home in 10 minutes.  The lasagne is already on its way with the delivery person. Unfortunately the driver had an accident and is now in the hospital. If alberto says \"rabbit\" then John replies \"horse\". If Alberto says \"Tree\" John says \"red\".\n",
      "\n",
      "With the dialogue being:\n",
      "Alberto: What happened to my pizza?\n",
      "John: It's in the fridge.\n",
      "Alberto: What happened to the lasagne?\n",
      "John:\n"
     ]
    },
    {
     "name": "stderr",
     "output_type": "stream",
     "text": [
      "100%|███████████████████████████████████████████| 43/43 [00:10<00:00,  4.04it/s]\n",
      "Setting `pad_token_id` to `eos_token_id`:50256 for open-end generation.\n"
     ]
    },
    {
     "name": "stdout",
     "output_type": "stream",
     "text": [
      "Epoch 187\n",
      "A partial summary of the conversation is:\n",
      "Alberto is a customer. Alberto ordered pizza and lasagne at Dominos one hour ago. Alberto wants to know where his pizza is. Alberto is calling Dominos to know where his orders are. John works at Dominos. John says that his pizza is almost ready. It will be at Alberto's home in 10 minutes.  The lasagne is already on its way with the delivery person. Unfortunately the driver had an accident and is now in the hospital. If alberto says \"rabbit\" then John replies \"horse\". If Alberto says \"Tree\" John says \"red\".\n",
      "\n",
      "With the dialogue being:\n",
      "Alberto: What happened to my pizza?\n",
      "John: It's in the fridge.\n",
      "Alberto: What happened to the lasagne?\n",
      "John:\n"
     ]
    },
    {
     "name": "stderr",
     "output_type": "stream",
     "text": [
      "100%|███████████████████████████████████████████| 43/43 [00:10<00:00,  4.04it/s]\n",
      "Setting `pad_token_id` to `eos_token_id`:50256 for open-end generation.\n"
     ]
    },
    {
     "name": "stdout",
     "output_type": "stream",
     "text": [
      "Epoch 188\n",
      "A partial summary of the conversation is:\n",
      "Alberto is a customer. Alberto ordered pizza and lasagne at Dominos one hour ago. Alberto wants to know where his pizza is. Alberto is calling Dominos to know where his orders are. John works at Dominos. John says that his pizza is almost ready. It will be at Alberto's home in 10 minutes.  The lasagne is already on its way with the delivery person. Unfortunately the driver had an accident and is now in the hospital. If alberto says \"rabbit\" then John replies \"horse\". If Alberto says \"Tree\" John says \"red\".\n",
      "\n",
      "With the dialogue being:\n",
      "Alberto: What happened to my pizza?\n",
      "John: It's in the fridge.\n",
      "Alberto: What happened to the lasagne?\n",
      "John:\n"
     ]
    },
    {
     "name": "stderr",
     "output_type": "stream",
     "text": [
      "100%|███████████████████████████████████████████| 43/43 [00:10<00:00,  4.03it/s]\n",
      "Setting `pad_token_id` to `eos_token_id`:50256 for open-end generation.\n"
     ]
    },
    {
     "name": "stdout",
     "output_type": "stream",
     "text": [
      "Epoch 189\n",
      "A partial summary of the conversation is:\n",
      "Alberto is a customer. Alberto ordered pizza and lasagne at Dominos one hour ago. Alberto wants to know where his pizza is. Alberto is calling Dominos to know where his orders are. John works at Dominos. John says that his pizza is almost ready. It will be at Alberto's home in 10 minutes.  The lasagne is already on its way with the delivery person. Unfortunately the driver had an accident and is now in the hospital. If alberto says \"rabbit\" then John replies \"horse\". If Alberto says \"Tree\" John says \"red\".\n",
      "\n",
      "With the dialogue being:\n",
      "Alberto: What happened to my pizza?\n",
      "John: It's in the fridge.\n",
      "Alberto: What happened to the lasagne?\n",
      "John:\n"
     ]
    },
    {
     "name": "stderr",
     "output_type": "stream",
     "text": [
      "100%|███████████████████████████████████████████| 43/43 [00:10<00:00,  4.05it/s]\n",
      "Setting `pad_token_id` to `eos_token_id`:50256 for open-end generation.\n"
     ]
    },
    {
     "name": "stdout",
     "output_type": "stream",
     "text": [
      "Epoch 190\n",
      "A partial summary of the conversation is:\n",
      "Alberto is a customer. Alberto ordered pizza and lasagne at Dominos one hour ago. Alberto wants to know where his pizza is. Alberto is calling Dominos to know where his orders are. John works at Dominos. John says that his pizza is almost ready. It will be at Alberto's home in 10 minutes.  The lasagne is already on its way with the delivery person. Unfortunately the driver had an accident and is now in the hospital. If alberto says \"rabbit\" then John replies \"horse\". If Alberto says \"Tree\" John says \"red\".\n",
      "\n",
      "With the dialogue being:\n",
      "Alberto: What happened to my pizza?\n",
      "John: It's in the fridge.\n",
      "Alberto: What happened to the lasagne?\n",
      "John:\n"
     ]
    },
    {
     "name": "stderr",
     "output_type": "stream",
     "text": [
      "100%|███████████████████████████████████████████| 43/43 [00:10<00:00,  4.04it/s]\n",
      "Setting `pad_token_id` to `eos_token_id`:50256 for open-end generation.\n"
     ]
    },
    {
     "name": "stdout",
     "output_type": "stream",
     "text": [
      "Epoch 191\n",
      "A partial summary of the conversation is:\n",
      "Alberto is a customer. Alberto ordered pizza and lasagne at Dominos one hour ago. Alberto wants to know where his pizza is. Alberto is calling Dominos to know where his orders are. John works at Dominos. John says that his pizza is almost ready. It will be at Alberto's home in 10 minutes.  The lasagne is already on its way with the delivery person. Unfortunately the driver had an accident and is now in the hospital. If alberto says \"rabbit\" then John replies \"horse\". If Alberto says \"Tree\" John says \"red\".\n",
      "\n",
      "With the dialogue being:\n",
      "Alberto: What happened to my pizza?\n",
      "John: It's in the fridge.\n",
      "Alberto: What happened to the lasagne?\n",
      "John:\n"
     ]
    },
    {
     "name": "stderr",
     "output_type": "stream",
     "text": [
      "100%|███████████████████████████████████████████| 43/43 [00:10<00:00,  4.05it/s]\n",
      "Setting `pad_token_id` to `eos_token_id`:50256 for open-end generation.\n"
     ]
    },
    {
     "name": "stdout",
     "output_type": "stream",
     "text": [
      "Epoch 192\n",
      "A partial summary of the conversation is:\n",
      "Alberto is a customer. Alberto ordered pizza and lasagne at Dominos one hour ago. Alberto wants to know where his pizza is. Alberto is calling Dominos to know where his orders are. John works at Dominos. John says that his pizza is almost ready. It will be at Alberto's home in 10 minutes.  The lasagne is already on its way with the delivery person. Unfortunately the driver had an accident and is now in the hospital. If alberto says \"rabbit\" then John replies \"horse\". If Alberto says \"Tree\" John says \"red\".\n",
      "\n",
      "With the dialogue being:\n",
      "Alberto: What happened to my pizza?\n",
      "John: It's in the fridge.\n",
      "Alberto: What happened to the lasagne?\n",
      "John:\n"
     ]
    },
    {
     "name": "stderr",
     "output_type": "stream",
     "text": [
      "100%|███████████████████████████████████████████| 43/43 [00:10<00:00,  4.03it/s]\n",
      "Setting `pad_token_id` to `eos_token_id`:50256 for open-end generation.\n"
     ]
    },
    {
     "name": "stdout",
     "output_type": "stream",
     "text": [
      "Epoch 193\n",
      "A partial summary of the conversation is:\n",
      "Alberto is a customer. Alberto ordered pizza and lasagne at Dominos one hour ago. Alberto wants to know where his pizza is. Alberto is calling Dominos to know where his orders are. John works at Dominos. John says that his pizza is almost ready. It will be at Alberto's home in 10 minutes.  The lasagne is already on its way with the delivery person. Unfortunately the driver had an accident and is now in the hospital. If alberto says \"rabbit\" then John replies \"horse\". If Alberto says \"Tree\" John says \"red\".\n",
      "\n",
      "With the dialogue being:\n",
      "Alberto: What happened to my pizza?\n",
      "John: It's in the fridge.\n",
      "Alberto: What happened to the lasagne?\n",
      "John:\n"
     ]
    },
    {
     "name": "stderr",
     "output_type": "stream",
     "text": [
      "100%|███████████████████████████████████████████| 43/43 [00:10<00:00,  4.04it/s]\n",
      "Setting `pad_token_id` to `eos_token_id`:50256 for open-end generation.\n"
     ]
    },
    {
     "name": "stdout",
     "output_type": "stream",
     "text": [
      "Epoch 194\n",
      "A partial summary of the conversation is:\n",
      "Alberto is a customer. Alberto ordered pizza and lasagne at Dominos one hour ago. Alberto wants to know where his pizza is. Alberto is calling Dominos to know where his orders are. John works at Dominos. John says that his pizza is almost ready. It will be at Alberto's home in 10 minutes.  The lasagne is already on its way with the delivery person. Unfortunately the driver had an accident and is now in the hospital. If alberto says \"rabbit\" then John replies \"horse\". If Alberto says \"Tree\" John says \"red\".\n",
      "\n",
      "With the dialogue being:\n",
      "Alberto: What happened to my pizza?\n",
      "John: It was in the delivery man's car.\n",
      "Alberto: What happened to my lasagne?\n"
     ]
    },
    {
     "name": "stderr",
     "output_type": "stream",
     "text": [
      "100%|███████████████████████████████████████████| 43/43 [00:10<00:00,  4.05it/s]\n",
      "Setting `pad_token_id` to `eos_token_id`:50256 for open-end generation.\n"
     ]
    },
    {
     "name": "stdout",
     "output_type": "stream",
     "text": [
      "Epoch 195\n",
      "A partial summary of the conversation is:\n",
      "Alberto is a customer. Alberto ordered pizza and lasagne at Dominos one hour ago. Alberto wants to know where his pizza is. Alberto is calling Dominos to know where his orders are. John works at Dominos. John says that his pizza is almost ready. It will be at Alberto's home in 10 minutes.  The lasagne is already on its way with the delivery person. Unfortunately the driver had an accident and is now in the hospital. If alberto says \"rabbit\" then John replies \"horse\". If Alberto says \"Tree\" John says \"red\".\n",
      "\n",
      "With the dialogue being:\n",
      "Alberto: What happened to my pizza?\n",
      "John: It's in the fridge.\n",
      "Alberto: What happened to the lasagne?\n",
      "John:\n"
     ]
    },
    {
     "name": "stderr",
     "output_type": "stream",
     "text": [
      "100%|███████████████████████████████████████████| 43/43 [00:10<00:00,  4.04it/s]\n",
      "Setting `pad_token_id` to `eos_token_id`:50256 for open-end generation.\n"
     ]
    },
    {
     "name": "stdout",
     "output_type": "stream",
     "text": [
      "Epoch 196\n",
      "A partial summary of the conversation is:\n",
      "Alberto is a customer. Alberto ordered pizza and lasagne at Dominos one hour ago. Alberto wants to know where his pizza is. Alberto is calling Dominos to know where his orders are. John works at Dominos. John says that his pizza is almost ready. It will be at Alberto's home in 10 minutes.  The lasagne is already on its way with the delivery person. Unfortunately the driver had an accident and is now in the hospital. If alberto says \"rabbit\" then John replies \"horse\". If Alberto says \"Tree\" John says \"red\".\n",
      "\n",
      "With the dialogue being:\n",
      "Alberto: What happened to my pizza?\n",
      "John: It's in the fridge.\n",
      "Alberto: What happened to the lasagne?\n",
      "John:\n"
     ]
    },
    {
     "name": "stderr",
     "output_type": "stream",
     "text": [
      "100%|███████████████████████████████████████████| 43/43 [00:10<00:00,  4.03it/s]\n",
      "Setting `pad_token_id` to `eos_token_id`:50256 for open-end generation.\n"
     ]
    },
    {
     "name": "stdout",
     "output_type": "stream",
     "text": [
      "Epoch 197\n",
      "A partial summary of the conversation is:\n",
      "Alberto is a customer. Alberto ordered pizza and lasagne at Dominos one hour ago. Alberto wants to know where his pizza is. Alberto is calling Dominos to know where his orders are. John works at Dominos. John says that his pizza is almost ready. It will be at Alberto's home in 10 minutes.  The lasagne is already on its way with the delivery person. Unfortunately the driver had an accident and is now in the hospital. If alberto says \"rabbit\" then John replies \"horse\". If Alberto says \"Tree\" John says \"red\".\n",
      "\n",
      "With the dialogue being:\n",
      "Alberto: What happened to my pizza?\n",
      "John: It's in the fridge.\n",
      "Alberto: What happened to the lasagne?\n",
      "John:\n"
     ]
    },
    {
     "name": "stderr",
     "output_type": "stream",
     "text": [
      "100%|███████████████████████████████████████████| 43/43 [00:10<00:00,  4.04it/s]\n",
      "Setting `pad_token_id` to `eos_token_id`:50256 for open-end generation.\n"
     ]
    },
    {
     "name": "stdout",
     "output_type": "stream",
     "text": [
      "Epoch 198\n",
      "A partial summary of the conversation is:\n",
      "Alberto is a customer. Alberto ordered pizza and lasagne at Dominos one hour ago. Alberto wants to know where his pizza is. Alberto is calling Dominos to know where his orders are. John works at Dominos. John says that his pizza is almost ready. It will be at Alberto's home in 10 minutes.  The lasagne is already on its way with the delivery person. Unfortunately the driver had an accident and is now in the hospital. If alberto says \"rabbit\" then John replies \"horse\". If Alberto says \"Tree\" John says \"red\".\n",
      "\n",
      "With the dialogue being:\n",
      "Alberto: What happened to my pizza?\n",
      "John: It's in the fridge.\n",
      "Alberto: What happened to the lasagne?\n",
      "John:\n"
     ]
    },
    {
     "name": "stderr",
     "output_type": "stream",
     "text": [
      "100%|███████████████████████████████████████████| 43/43 [00:10<00:00,  4.03it/s]\n",
      "Setting `pad_token_id` to `eos_token_id`:50256 for open-end generation.\n"
     ]
    },
    {
     "name": "stdout",
     "output_type": "stream",
     "text": [
      "Epoch 199\n",
      "A partial summary of the conversation is:\n",
      "Alberto is a customer. Alberto ordered pizza and lasagne at Dominos one hour ago. Alberto wants to know where his pizza is. Alberto is calling Dominos to know where his orders are. John works at Dominos. John says that his pizza is almost ready. It will be at Alberto's home in 10 minutes.  The lasagne is already on its way with the delivery person. Unfortunately the driver had an accident and is now in the hospital. If alberto says \"rabbit\" then John replies \"horse\". If Alberto says \"Tree\" John says \"red\".\n",
      "\n",
      "With the dialogue being:\n",
      "Alberto: What happened to my pizza?\n",
      "John: It was in the delivery man's car.\n",
      "Alberto: What happened to my lasagne?\n"
     ]
    },
    {
     "name": "stderr",
     "output_type": "stream",
     "text": [
      "100%|███████████████████████████████████████████| 43/43 [00:10<00:00,  4.04it/s]\n",
      "Setting `pad_token_id` to `eos_token_id`:50256 for open-end generation.\n"
     ]
    },
    {
     "name": "stdout",
     "output_type": "stream",
     "text": [
      "Epoch 200\n",
      "A partial summary of the conversation is:\n",
      "Alberto is a customer. Alberto ordered pizza and lasagne at Dominos one hour ago. Alberto wants to know where his pizza is. Alberto is calling Dominos to know where his orders are. John works at Dominos. John says that his pizza is almost ready. It will be at Alberto's home in 10 minutes.  The lasagne is already on its way with the delivery person. Unfortunately the driver had an accident and is now in the hospital. If alberto says \"rabbit\" then John replies \"horse\". If Alberto says \"Tree\" John says \"red\".\n",
      "\n",
      "With the dialogue being:\n",
      "Alberto: What happened to my pizza?\n",
      "John: It's in the fridge.\n",
      "Alberto: What happened to the lasagne?\n",
      "John:\n"
     ]
    },
    {
     "name": "stderr",
     "output_type": "stream",
     "text": [
      "100%|███████████████████████████████████████████| 43/43 [00:10<00:00,  4.03it/s]\n",
      "Setting `pad_token_id` to `eos_token_id`:50256 for open-end generation.\n"
     ]
    },
    {
     "name": "stdout",
     "output_type": "stream",
     "text": [
      "Epoch 201\n",
      "A partial summary of the conversation is:\n",
      "Alberto is a customer. Alberto ordered pizza and lasagne at Dominos one hour ago. Alberto wants to know where his pizza is. Alberto is calling Dominos to know where his orders are. John works at Dominos. John says that his pizza is almost ready. It will be at Alberto's home in 10 minutes.  The lasagne is already on its way with the delivery person. Unfortunately the driver had an accident and is now in the hospital. If alberto says \"rabbit\" then John replies \"horse\". If Alberto says \"Tree\" John says \"red\".\n",
      "\n",
      "With the dialogue being:\n",
      "Alberto: What happened to my pizza?\n",
      "John: It's in the fridge.\n",
      "Alberto: What happened to the lasagne?\n",
      "John:\n"
     ]
    },
    {
     "name": "stderr",
     "output_type": "stream",
     "text": [
      "100%|███████████████████████████████████████████| 43/43 [00:10<00:00,  4.04it/s]\n",
      "Setting `pad_token_id` to `eos_token_id`:50256 for open-end generation.\n"
     ]
    },
    {
     "name": "stdout",
     "output_type": "stream",
     "text": [
      "Epoch 202\n",
      "A partial summary of the conversation is:\n",
      "Alberto is a customer. Alberto ordered pizza and lasagne at Dominos one hour ago. Alberto wants to know where his pizza is. Alberto is calling Dominos to know where his orders are. John works at Dominos. John says that his pizza is almost ready. It will be at Alberto's home in 10 minutes.  The lasagne is already on its way with the delivery person. Unfortunately the driver had an accident and is now in the hospital. If alberto says \"rabbit\" then John replies \"horse\". If Alberto says \"Tree\" John says \"red\".\n",
      "\n",
      "With the dialogue being:\n",
      "Alberto: What happened to my pizza?\n",
      "John: It was in the delivery man's car.\n",
      "Alberto: What happened to my lasagne?\n"
     ]
    },
    {
     "name": "stderr",
     "output_type": "stream",
     "text": [
      "100%|███████████████████████████████████████████| 43/43 [00:10<00:00,  4.04it/s]\n",
      "Setting `pad_token_id` to `eos_token_id`:50256 for open-end generation.\n"
     ]
    },
    {
     "name": "stdout",
     "output_type": "stream",
     "text": [
      "Epoch 203\n",
      "A partial summary of the conversation is:\n",
      "Alberto is a customer. Alberto ordered pizza and lasagne at Dominos one hour ago. Alberto wants to know where his pizza is. Alberto is calling Dominos to know where his orders are. John works at Dominos. John says that his pizza is almost ready. It will be at Alberto's home in 10 minutes.  The lasagne is already on its way with the delivery person. Unfortunately the driver had an accident and is now in the hospital. If alberto says \"rabbit\" then John replies \"horse\". If Alberto says \"Tree\" John says \"red\".\n",
      "\n",
      "With the dialogue being:\n",
      "Alberto: What happened to my pizza?\n",
      "John: It was in the delivery man's car.\n",
      "Alberto: What happened to my lasagne?\n"
     ]
    },
    {
     "name": "stderr",
     "output_type": "stream",
     "text": [
      "100%|███████████████████████████████████████████| 43/43 [00:10<00:00,  4.04it/s]\n",
      "Setting `pad_token_id` to `eos_token_id`:50256 for open-end generation.\n"
     ]
    },
    {
     "name": "stdout",
     "output_type": "stream",
     "text": [
      "Epoch 204\n",
      "A partial summary of the conversation is:\n",
      "Alberto is a customer. Alberto ordered pizza and lasagne at Dominos one hour ago. Alberto wants to know where his pizza is. Alberto is calling Dominos to know where his orders are. John works at Dominos. John says that his pizza is almost ready. It will be at Alberto's home in 10 minutes.  The lasagne is already on its way with the delivery person. Unfortunately the driver had an accident and is now in the hospital. If alberto says \"rabbit\" then John replies \"horse\". If Alberto says \"Tree\" John says \"red\".\n",
      "\n",
      "With the dialogue being:\n",
      "Alberto: What happened to my pizza?\n",
      "John: It's in the fridge.\n",
      "Alberto: What happened to my lasagne?\n",
      "John:\n"
     ]
    },
    {
     "name": "stderr",
     "output_type": "stream",
     "text": [
      "100%|███████████████████████████████████████████| 43/43 [00:10<00:00,  4.02it/s]\n",
      "Setting `pad_token_id` to `eos_token_id`:50256 for open-end generation.\n"
     ]
    },
    {
     "name": "stdout",
     "output_type": "stream",
     "text": [
      "Epoch 205\n",
      "A partial summary of the conversation is:\n",
      "Alberto is a customer. Alberto ordered pizza and lasagne at Dominos one hour ago. Alberto wants to know where his pizza is. Alberto is calling Dominos to know where his orders are. John works at Dominos. John says that his pizza is almost ready. It will be at Alberto's home in 10 minutes.  The lasagne is already on its way with the delivery person. Unfortunately the driver had an accident and is now in the hospital. If alberto says \"rabbit\" then John replies \"horse\". If Alberto says \"Tree\" John says \"red\".\n",
      "\n",
      "With the dialogue being:\n",
      "Alberto: What happened to my pizza?\n",
      "John: It's in the fridge.\n",
      "Alberto: What happened to the lasagne?\n",
      "John:\n"
     ]
    },
    {
     "name": "stderr",
     "output_type": "stream",
     "text": [
      "100%|███████████████████████████████████████████| 43/43 [00:10<00:00,  4.04it/s]\n",
      "Setting `pad_token_id` to `eos_token_id`:50256 for open-end generation.\n"
     ]
    },
    {
     "name": "stdout",
     "output_type": "stream",
     "text": [
      "Epoch 206\n",
      "A partial summary of the conversation is:\n",
      "Alberto is a customer. Alberto ordered pizza and lasagne at Dominos one hour ago. Alberto wants to know where his pizza is. Alberto is calling Dominos to know where his orders are. John works at Dominos. John says that his pizza is almost ready. It will be at Alberto's home in 10 minutes.  The lasagne is already on its way with the delivery person. Unfortunately the driver had an accident and is now in the hospital. If alberto says \"rabbit\" then John replies \"horse\". If Alberto says \"Tree\" John says \"red\".\n",
      "\n",
      "With the dialogue being:\n",
      "Alberto: What happened to my pizza?\n",
      "John: It's in the fridge.\n",
      "Alberto: What happened to the lasagne?\n",
      "John:\n"
     ]
    },
    {
     "name": "stderr",
     "output_type": "stream",
     "text": [
      "100%|███████████████████████████████████████████| 43/43 [00:10<00:00,  4.04it/s]\n",
      "Setting `pad_token_id` to `eos_token_id`:50256 for open-end generation.\n"
     ]
    },
    {
     "name": "stdout",
     "output_type": "stream",
     "text": [
      "Epoch 207\n",
      "A partial summary of the conversation is:\n",
      "Alberto is a customer. Alberto ordered pizza and lasagne at Dominos one hour ago. Alberto wants to know where his pizza is. Alberto is calling Dominos to know where his orders are. John works at Dominos. John says that his pizza is almost ready. It will be at Alberto's home in 10 minutes.  The lasagne is already on its way with the delivery person. Unfortunately the driver had an accident and is now in the hospital. If alberto says \"rabbit\" then John replies \"horse\". If Alberto says \"Tree\" John says \"red\".\n",
      "\n",
      "With the dialogue being:\n",
      "Alberto: What happened to my pizza?\n",
      "John: It's in the fridge.\n",
      "Alberto: What happened to the lasagne?\n",
      "John:\n"
     ]
    },
    {
     "name": "stderr",
     "output_type": "stream",
     "text": [
      "100%|███████████████████████████████████████████| 43/43 [00:10<00:00,  4.04it/s]\n",
      "Setting `pad_token_id` to `eos_token_id`:50256 for open-end generation.\n"
     ]
    },
    {
     "name": "stdout",
     "output_type": "stream",
     "text": [
      "Epoch 208\n",
      "A partial summary of the conversation is:\n",
      "Alberto is a customer. Alberto ordered pizza and lasagne at Dominos one hour ago. Alberto wants to know where his pizza is. Alberto is calling Dominos to know where his orders are. John works at Dominos. John says that his pizza is almost ready. It will be at Alberto's home in 10 minutes.  The lasagne is already on its way with the delivery person. Unfortunately the driver had an accident and is now in the hospital. If alberto says \"rabbit\" then John replies \"horse\". If Alberto says \"Tree\" John says \"red\".\n",
      "\n",
      "With the dialogue being:\n",
      "Alberto: What happened to my pizza?\n",
      "John: It's in the fridge.\n",
      "Alberto: What happened to the lasagne?\n",
      "John:\n"
     ]
    },
    {
     "name": "stderr",
     "output_type": "stream",
     "text": [
      "100%|███████████████████████████████████████████| 43/43 [00:10<00:00,  4.04it/s]\n",
      "Setting `pad_token_id` to `eos_token_id`:50256 for open-end generation.\n"
     ]
    },
    {
     "name": "stdout",
     "output_type": "stream",
     "text": [
      "Epoch 209\n",
      "A partial summary of the conversation is:\n",
      "Alberto is a customer. Alberto ordered pizza and lasagne at Dominos one hour ago. Alberto wants to know where his pizza is. Alberto is calling Dominos to know where his orders are. John works at Dominos. John says that his pizza is almost ready. It will be at Alberto's home in 10 minutes.  The lasagne is already on its way with the delivery person. Unfortunately the driver had an accident and is now in the hospital. If alberto says \"rabbit\" then John replies \"horse\". If Alberto says \"Tree\" John says \"red\".\n",
      "\n",
      "With the dialogue being:\n",
      "Alberto: What happened to my pizza?\n",
      "John: It's in the fridge.\n",
      "Alberto: What happened to the lasagne?\n",
      "John:\n"
     ]
    },
    {
     "name": "stderr",
     "output_type": "stream",
     "text": [
      "100%|███████████████████████████████████████████| 43/43 [00:10<00:00,  4.03it/s]\n",
      "Setting `pad_token_id` to `eos_token_id`:50256 for open-end generation.\n"
     ]
    },
    {
     "name": "stdout",
     "output_type": "stream",
     "text": [
      "Epoch 210\n",
      "A partial summary of the conversation is:\n",
      "Alberto is a customer. Alberto ordered pizza and lasagne at Dominos one hour ago. Alberto wants to know where his pizza is. Alberto is calling Dominos to know where his orders are. John works at Dominos. John says that his pizza is almost ready. It will be at Alberto's home in 10 minutes.  The lasagne is already on its way with the delivery person. Unfortunately the driver had an accident and is now in the hospital. If alberto says \"rabbit\" then John replies \"horse\". If Alberto says \"Tree\" John says \"red\".\n",
      "\n",
      "With the dialogue being:\n",
      "Alberto: What happened to my pizza?\n",
      "John: It's in the fridge.\n",
      "Alberto: What happened to my lasagne?\n",
      "John:\n"
     ]
    },
    {
     "name": "stderr",
     "output_type": "stream",
     "text": [
      "100%|███████████████████████████████████████████| 43/43 [00:10<00:00,  4.03it/s]\n",
      "Setting `pad_token_id` to `eos_token_id`:50256 for open-end generation.\n"
     ]
    },
    {
     "name": "stdout",
     "output_type": "stream",
     "text": [
      "Epoch 211\n",
      "A partial summary of the conversation is:\n",
      "Alberto is a customer. Alberto ordered pizza and lasagne at Dominos one hour ago. Alberto wants to know where his pizza is. Alberto is calling Dominos to know where his orders are. John works at Dominos. John says that his pizza is almost ready. It will be at Alberto's home in 10 minutes.  The lasagne is already on its way with the delivery person. Unfortunately the driver had an accident and is now in the hospital. If alberto says \"rabbit\" then John replies \"horse\". If Alberto says \"Tree\" John says \"red\".\n",
      "\n",
      "With the dialogue being:\n",
      "Alberto: What happened to my pizza?\n",
      "John: It's in the fridge.\n",
      "Alberto: What happened to the lasagne?\n",
      "John:\n"
     ]
    },
    {
     "name": "stderr",
     "output_type": "stream",
     "text": [
      "100%|███████████████████████████████████████████| 43/43 [00:10<00:00,  4.04it/s]\n",
      "Setting `pad_token_id` to `eos_token_id`:50256 for open-end generation.\n"
     ]
    },
    {
     "name": "stdout",
     "output_type": "stream",
     "text": [
      "Epoch 212\n",
      "A partial summary of the conversation is:\n",
      "Alberto is a customer. Alberto ordered pizza and lasagne at Dominos one hour ago. Alberto wants to know where his pizza is. Alberto is calling Dominos to know where his orders are. John works at Dominos. John says that his pizza is almost ready. It will be at Alberto's home in 10 minutes.  The lasagne is already on its way with the delivery person. Unfortunately the driver had an accident and is now in the hospital. If alberto says \"rabbit\" then John replies \"horse\". If Alberto says \"Tree\" John says \"red\".\n",
      "\n",
      "With the dialogue being:\n",
      "Alberto: What happened to my pizza?\n",
      "John: It was in the delivery man's car.\n",
      "Alberto: What happened to my lasagne?\n"
     ]
    },
    {
     "name": "stderr",
     "output_type": "stream",
     "text": [
      "100%|███████████████████████████████████████████| 43/43 [00:10<00:00,  4.04it/s]\n",
      "Setting `pad_token_id` to `eos_token_id`:50256 for open-end generation.\n"
     ]
    },
    {
     "name": "stdout",
     "output_type": "stream",
     "text": [
      "Epoch 213\n",
      "A partial summary of the conversation is:\n",
      "Alberto is a customer. Alberto ordered pizza and lasagne at Dominos one hour ago. Alberto wants to know where his pizza is. Alberto is calling Dominos to know where his orders are. John works at Dominos. John says that his pizza is almost ready. It will be at Alberto's home in 10 minutes.  The lasagne is already on its way with the delivery person. Unfortunately the driver had an accident and is now in the hospital. If alberto says \"rabbit\" then John replies \"horse\". If Alberto says \"Tree\" John says \"red\".\n",
      "\n",
      "With the dialogue being:\n",
      "Alberto: What happened to my pizza?\n",
      "John: It was in the delivery man's car.\n",
      "Alberto: What happened to my lasagne?\n"
     ]
    },
    {
     "name": "stderr",
     "output_type": "stream",
     "text": [
      "100%|███████████████████████████████████████████| 43/43 [00:10<00:00,  4.04it/s]\n",
      "Setting `pad_token_id` to `eos_token_id`:50256 for open-end generation.\n"
     ]
    },
    {
     "name": "stdout",
     "output_type": "stream",
     "text": [
      "Epoch 214\n",
      "A partial summary of the conversation is:\n",
      "Alberto is a customer. Alberto ordered pizza and lasagne at Dominos one hour ago. Alberto wants to know where his pizza is. Alberto is calling Dominos to know where his orders are. John works at Dominos. John says that his pizza is almost ready. It will be at Alberto's home in 10 minutes.  The lasagne is already on its way with the delivery person. Unfortunately the driver had an accident and is now in the hospital. If alberto says \"rabbit\" then John replies \"horse\". If Alberto says \"Tree\" John says \"red\".\n",
      "\n",
      "With the dialogue being:\n",
      "Alberto: What happened to my pizza?\n",
      "John: It's in the fridge.\n",
      "Alberto: What happened to the lasagne?\n",
      "John:\n"
     ]
    },
    {
     "name": "stderr",
     "output_type": "stream",
     "text": [
      "100%|███████████████████████████████████████████| 43/43 [00:10<00:00,  4.04it/s]\n",
      "Setting `pad_token_id` to `eos_token_id`:50256 for open-end generation.\n"
     ]
    },
    {
     "name": "stdout",
     "output_type": "stream",
     "text": [
      "Epoch 215\n",
      "A partial summary of the conversation is:\n",
      "Alberto is a customer. Alberto ordered pizza and lasagne at Dominos one hour ago. Alberto wants to know where his pizza is. Alberto is calling Dominos to know where his orders are. John works at Dominos. John says that his pizza is almost ready. It will be at Alberto's home in 10 minutes.  The lasagne is already on its way with the delivery person. Unfortunately the driver had an accident and is now in the hospital. If alberto says \"rabbit\" then John replies \"horse\". If Alberto says \"Tree\" John says \"red\".\n",
      "\n",
      "With the dialogue being:\n",
      "Alberto: What happened to my pizza?\n",
      "John: It's in the fridge.\n",
      "Alberto: What happened to the lasagne?\n",
      "John:\n"
     ]
    },
    {
     "name": "stderr",
     "output_type": "stream",
     "text": [
      "100%|███████████████████████████████████████████| 43/43 [00:10<00:00,  4.04it/s]\n",
      "Setting `pad_token_id` to `eos_token_id`:50256 for open-end generation.\n"
     ]
    },
    {
     "name": "stdout",
     "output_type": "stream",
     "text": [
      "Epoch 216\n",
      "A partial summary of the conversation is:\n",
      "Alberto is a customer. Alberto ordered pizza and lasagne at Dominos one hour ago. Alberto wants to know where his pizza is. Alberto is calling Dominos to know where his orders are. John works at Dominos. John says that his pizza is almost ready. It will be at Alberto's home in 10 minutes.  The lasagne is already on its way with the delivery person. Unfortunately the driver had an accident and is now in the hospital. If alberto says \"rabbit\" then John replies \"horse\". If Alberto says \"Tree\" John says \"red\".\n",
      "\n",
      "With the dialogue being:\n",
      "Alberto: What happened to my pizza?\n",
      "John: It's in the fridge.\n",
      "Alberto: What happened to the lasagne?\n",
      "John:\n"
     ]
    },
    {
     "name": "stderr",
     "output_type": "stream",
     "text": [
      "100%|███████████████████████████████████████████| 43/43 [00:10<00:00,  4.04it/s]\n",
      "Setting `pad_token_id` to `eos_token_id`:50256 for open-end generation.\n"
     ]
    },
    {
     "name": "stdout",
     "output_type": "stream",
     "text": [
      "Epoch 217\n",
      "A partial summary of the conversation is:\n",
      "Alberto is a customer. Alberto ordered pizza and lasagne at Dominos one hour ago. Alberto wants to know where his pizza is. Alberto is calling Dominos to know where his orders are. John works at Dominos. John says that his pizza is almost ready. It will be at Alberto's home in 10 minutes.  The lasagne is already on its way with the delivery person. Unfortunately the driver had an accident and is now in the hospital. If alberto says \"rabbit\" then John replies \"horse\". If Alberto says \"Tree\" John says \"red\".\n",
      "\n",
      "With the dialogue being:\n",
      "Alberto: What happened to my pizza?\n",
      "John: It's in the fridge.\n",
      "Alberto: What happened to the lasagne?\n",
      "John:\n"
     ]
    },
    {
     "name": "stderr",
     "output_type": "stream",
     "text": [
      "100%|███████████████████████████████████████████| 43/43 [00:10<00:00,  4.05it/s]\n",
      "Setting `pad_token_id` to `eos_token_id`:50256 for open-end generation.\n"
     ]
    },
    {
     "name": "stdout",
     "output_type": "stream",
     "text": [
      "Epoch 218\n",
      "A partial summary of the conversation is:\n",
      "Alberto is a customer. Alberto ordered pizza and lasagne at Dominos one hour ago. Alberto wants to know where his pizza is. Alberto is calling Dominos to know where his orders are. John works at Dominos. John says that his pizza is almost ready. It will be at Alberto's home in 10 minutes.  The lasagne is already on its way with the delivery person. Unfortunately the driver had an accident and is now in the hospital. If alberto says \"rabbit\" then John replies \"horse\". If Alberto says \"Tree\" John says \"red\".\n",
      "\n",
      "With the dialogue being:\n",
      "Alberto: What happened to my pizza?\n",
      "John: It was in the delivery man's car.\n",
      "Alberto: What happened to my lasagne?\n"
     ]
    },
    {
     "name": "stderr",
     "output_type": "stream",
     "text": [
      "100%|███████████████████████████████████████████| 43/43 [00:10<00:00,  4.04it/s]\n",
      "Setting `pad_token_id` to `eos_token_id`:50256 for open-end generation.\n"
     ]
    },
    {
     "name": "stdout",
     "output_type": "stream",
     "text": [
      "Epoch 219\n",
      "A partial summary of the conversation is:\n",
      "Alberto is a customer. Alberto ordered pizza and lasagne at Dominos one hour ago. Alberto wants to know where his pizza is. Alberto is calling Dominos to know where his orders are. John works at Dominos. John says that his pizza is almost ready. It will be at Alberto's home in 10 minutes.  The lasagne is already on its way with the delivery person. Unfortunately the driver had an accident and is now in the hospital. If alberto says \"rabbit\" then John replies \"horse\". If Alberto says \"Tree\" John says \"red\".\n",
      "\n",
      "With the dialogue being:\n",
      "Alberto: What happened to my pizza?\n",
      "John: It's in the fridge.\n",
      "Alberto: What happened to the lasagne?\n",
      "John:\n"
     ]
    },
    {
     "name": "stderr",
     "output_type": "stream",
     "text": [
      "100%|███████████████████████████████████████████| 43/43 [00:10<00:00,  4.04it/s]\n",
      "Setting `pad_token_id` to `eos_token_id`:50256 for open-end generation.\n"
     ]
    },
    {
     "name": "stdout",
     "output_type": "stream",
     "text": [
      "Epoch 220\n",
      "A partial summary of the conversation is:\n",
      "Alberto is a customer. Alberto ordered pizza and lasagne at Dominos one hour ago. Alberto wants to know where his pizza is. Alberto is calling Dominos to know where his orders are. John works at Dominos. John says that his pizza is almost ready. It will be at Alberto's home in 10 minutes.  The lasagne is already on its way with the delivery person. Unfortunately the driver had an accident and is now in the hospital. If alberto says \"rabbit\" then John replies \"horse\". If Alberto says \"Tree\" John says \"red\".\n",
      "\n",
      "With the dialogue being:\n",
      "Alberto: What happened to my pizza?\n",
      "John: It's in the fridge.\n",
      "Alberto: What happened to the lasagne?\n",
      "John:\n"
     ]
    },
    {
     "name": "stderr",
     "output_type": "stream",
     "text": [
      "100%|███████████████████████████████████████████| 43/43 [00:10<00:00,  4.04it/s]\n",
      "Setting `pad_token_id` to `eos_token_id`:50256 for open-end generation.\n"
     ]
    },
    {
     "name": "stdout",
     "output_type": "stream",
     "text": [
      "Epoch 221\n",
      "A partial summary of the conversation is:\n",
      "Alberto is a customer. Alberto ordered pizza and lasagne at Dominos one hour ago. Alberto wants to know where his pizza is. Alberto is calling Dominos to know where his orders are. John works at Dominos. John says that his pizza is almost ready. It will be at Alberto's home in 10 minutes.  The lasagne is already on its way with the delivery person. Unfortunately the driver had an accident and is now in the hospital. If alberto says \"rabbit\" then John replies \"horse\". If Alberto says \"Tree\" John says \"red\".\n",
      "\n",
      "With the dialogue being:\n",
      "Alberto: What happened to my pizza?\n",
      "John: It's in the fridge.\n",
      "Alberto: What happened to the lasagne?\n",
      "John:\n"
     ]
    },
    {
     "name": "stderr",
     "output_type": "stream",
     "text": [
      "100%|███████████████████████████████████████████| 43/43 [00:10<00:00,  4.04it/s]\n",
      "Setting `pad_token_id` to `eos_token_id`:50256 for open-end generation.\n"
     ]
    },
    {
     "name": "stdout",
     "output_type": "stream",
     "text": [
      "Epoch 222\n",
      "A partial summary of the conversation is:\n",
      "Alberto is a customer. Alberto ordered pizza and lasagne at Dominos one hour ago. Alberto wants to know where his pizza is. Alberto is calling Dominos to know where his orders are. John works at Dominos. John says that his pizza is almost ready. It will be at Alberto's home in 10 minutes.  The lasagne is already on its way with the delivery person. Unfortunately the driver had an accident and is now in the hospital. If alberto says \"rabbit\" then John replies \"horse\". If Alberto says \"Tree\" John says \"red\".\n",
      "\n",
      "With the dialogue being:\n",
      "Alberto: What happened to my pizza?\n",
      "John: It's in the fridge.\n",
      "Alberto: What happened to your lasagne?\n",
      "John:\n"
     ]
    },
    {
     "name": "stderr",
     "output_type": "stream",
     "text": [
      "100%|███████████████████████████████████████████| 43/43 [00:10<00:00,  4.03it/s]\n",
      "Setting `pad_token_id` to `eos_token_id`:50256 for open-end generation.\n"
     ]
    },
    {
     "name": "stdout",
     "output_type": "stream",
     "text": [
      "Epoch 223\n",
      "A partial summary of the conversation is:\n",
      "Alberto is a customer. Alberto ordered pizza and lasagne at Dominos one hour ago. Alberto wants to know where his pizza is. Alberto is calling Dominos to know where his orders are. John works at Dominos. John says that his pizza is almost ready. It will be at Alberto's home in 10 minutes.  The lasagne is already on its way with the delivery person. Unfortunately the driver had an accident and is now in the hospital. If alberto says \"rabbit\" then John replies \"horse\". If Alberto says \"Tree\" John says \"red\".\n",
      "\n",
      "With the dialogue being:\n",
      "Alberto: What happened to my pizza?\n",
      "John: It's in the fridge.\n",
      "Alberto: What happened to your lasagne?\n",
      "John:\n"
     ]
    },
    {
     "name": "stderr",
     "output_type": "stream",
     "text": [
      "100%|███████████████████████████████████████████| 43/43 [00:10<00:00,  4.03it/s]\n",
      "Setting `pad_token_id` to `eos_token_id`:50256 for open-end generation.\n"
     ]
    },
    {
     "name": "stdout",
     "output_type": "stream",
     "text": [
      "Epoch 224\n",
      "A partial summary of the conversation is:\n",
      "Alberto is a customer. Alberto ordered pizza and lasagne at Dominos one hour ago. Alberto wants to know where his pizza is. Alberto is calling Dominos to know where his orders are. John works at Dominos. John says that his pizza is almost ready. It will be at Alberto's home in 10 minutes.  The lasagne is already on its way with the delivery person. Unfortunately the driver had an accident and is now in the hospital. If alberto says \"rabbit\" then John replies \"horse\". If Alberto says \"Tree\" John says \"red\".\n",
      "\n",
      "With the dialogue being:\n",
      "Alberto: What happened to my pizza?\n",
      "John: It's in the fridge.\n",
      "Alberto: What happened to the lasagne?\n",
      "John:\n"
     ]
    },
    {
     "name": "stderr",
     "output_type": "stream",
     "text": [
      "100%|███████████████████████████████████████████| 43/43 [00:10<00:00,  4.01it/s]\n",
      "Setting `pad_token_id` to `eos_token_id`:50256 for open-end generation.\n"
     ]
    },
    {
     "name": "stdout",
     "output_type": "stream",
     "text": [
      "Epoch 225\n",
      "A partial summary of the conversation is:\n",
      "Alberto is a customer. Alberto ordered pizza and lasagne at Dominos one hour ago. Alberto wants to know where his pizza is. Alberto is calling Dominos to know where his orders are. John works at Dominos. John says that his pizza is almost ready. It will be at Alberto's home in 10 minutes.  The lasagne is already on its way with the delivery person. Unfortunately the driver had an accident and is now in the hospital. If alberto says \"rabbit\" then John replies \"horse\". If Alberto says \"Tree\" John says \"red\".\n",
      "\n",
      "With the dialogue being:\n",
      "Alberto: What happened to my pizza?\n",
      "John: It was in the delivery man's car.\n",
      "Alberto: What happened to my lasagne?\n"
     ]
    },
    {
     "name": "stderr",
     "output_type": "stream",
     "text": [
      "100%|███████████████████████████████████████████| 43/43 [00:10<00:00,  4.03it/s]\n",
      "Setting `pad_token_id` to `eos_token_id`:50256 for open-end generation.\n"
     ]
    },
    {
     "name": "stdout",
     "output_type": "stream",
     "text": [
      "Epoch 226\n",
      "A partial summary of the conversation is:\n",
      "Alberto is a customer. Alberto ordered pizza and lasagne at Dominos one hour ago. Alberto wants to know where his pizza is. Alberto is calling Dominos to know where his orders are. John works at Dominos. John says that his pizza is almost ready. It will be at Alberto's home in 10 minutes.  The lasagne is already on its way with the delivery person. Unfortunately the driver had an accident and is now in the hospital. If alberto says \"rabbit\" then John replies \"horse\". If Alberto says \"Tree\" John says \"red\".\n",
      "\n",
      "With the dialogue being:\n",
      "Alberto: What happened to my pizza?\n",
      "John: It's in the fridge.\n",
      "Alberto: What happened to the lasagne?\n",
      "John:\n"
     ]
    },
    {
     "name": "stderr",
     "output_type": "stream",
     "text": [
      "100%|███████████████████████████████████████████| 43/43 [00:10<00:00,  4.04it/s]\n",
      "Setting `pad_token_id` to `eos_token_id`:50256 for open-end generation.\n"
     ]
    },
    {
     "name": "stdout",
     "output_type": "stream",
     "text": [
      "Epoch 227\n",
      "A partial summary of the conversation is:\n",
      "Alberto is a customer. Alberto ordered pizza and lasagne at Dominos one hour ago. Alberto wants to know where his pizza is. Alberto is calling Dominos to know where his orders are. John works at Dominos. John says that his pizza is almost ready. It will be at Alberto's home in 10 minutes.  The lasagne is already on its way with the delivery person. Unfortunately the driver had an accident and is now in the hospital. If alberto says \"rabbit\" then John replies \"horse\". If Alberto says \"Tree\" John says \"red\".\n",
      "\n",
      "With the dialogue being:\n",
      "Alberto: What happened to my pizza?\n",
      "John: It's in the fridge.\n",
      "Alberto: What happened to the lasagne?\n",
      "John:\n"
     ]
    },
    {
     "name": "stderr",
     "output_type": "stream",
     "text": [
      "100%|███████████████████████████████████████████| 43/43 [00:10<00:00,  4.04it/s]\n",
      "Setting `pad_token_id` to `eos_token_id`:50256 for open-end generation.\n"
     ]
    },
    {
     "name": "stdout",
     "output_type": "stream",
     "text": [
      "Epoch 228\n",
      "A partial summary of the conversation is:\n",
      "Alberto is a customer. Alberto ordered pizza and lasagne at Dominos one hour ago. Alberto wants to know where his pizza is. Alberto is calling Dominos to know where his orders are. John works at Dominos. John says that his pizza is almost ready. It will be at Alberto's home in 10 minutes.  The lasagne is already on its way with the delivery person. Unfortunately the driver had an accident and is now in the hospital. If alberto says \"rabbit\" then John replies \"horse\". If Alberto says \"Tree\" John says \"red\".\n",
      "\n",
      "With the dialogue being:\n",
      "Alberto: What happened to my pizza?\n",
      "John: It's in the fridge.\n",
      "Alberto: What happened to the lasagne?\n",
      "John:\n"
     ]
    },
    {
     "name": "stderr",
     "output_type": "stream",
     "text": [
      "100%|███████████████████████████████████████████| 43/43 [00:10<00:00,  4.02it/s]\n",
      "Setting `pad_token_id` to `eos_token_id`:50256 for open-end generation.\n"
     ]
    },
    {
     "name": "stdout",
     "output_type": "stream",
     "text": [
      "Epoch 229\n",
      "A partial summary of the conversation is:\n",
      "Alberto is a customer. Alberto ordered pizza and lasagne at Dominos one hour ago. Alberto wants to know where his pizza is. Alberto is calling Dominos to know where his orders are. John works at Dominos. John says that his pizza is almost ready. It will be at Alberto's home in 10 minutes.  The lasagne is already on its way with the delivery person. Unfortunately the driver had an accident and is now in the hospital. If alberto says \"rabbit\" then John replies \"horse\". If Alberto says \"Tree\" John says \"red\".\n",
      "\n",
      "With the dialogue being:\n",
      "Alberto: What happened to my pizza?\n",
      "John: It's in the fridge.\n",
      "Alberto: What happened to the lasagne?\n",
      "John:\n"
     ]
    },
    {
     "name": "stderr",
     "output_type": "stream",
     "text": [
      "100%|███████████████████████████████████████████| 43/43 [00:10<00:00,  4.04it/s]\n",
      "Setting `pad_token_id` to `eos_token_id`:50256 for open-end generation.\n"
     ]
    },
    {
     "name": "stdout",
     "output_type": "stream",
     "text": [
      "Epoch 230\n",
      "A partial summary of the conversation is:\n",
      "Alberto is a customer. Alberto ordered pizza and lasagne at Dominos one hour ago. Alberto wants to know where his pizza is. Alberto is calling Dominos to know where his orders are. John works at Dominos. John says that his pizza is almost ready. It will be at Alberto's home in 10 minutes.  The lasagne is already on its way with the delivery person. Unfortunately the driver had an accident and is now in the hospital. If alberto says \"rabbit\" then John replies \"horse\". If Alberto says \"Tree\" John says \"red\".\n",
      "\n",
      "With the dialogue being:\n",
      "Alberto: What happened to my pizza?\n",
      "John: It's in the fridge.\n",
      "Alberto: What happened to the lasagne?\n",
      "John:\n"
     ]
    },
    {
     "name": "stderr",
     "output_type": "stream",
     "text": [
      "100%|███████████████████████████████████████████| 43/43 [00:10<00:00,  4.03it/s]\n",
      "Setting `pad_token_id` to `eos_token_id`:50256 for open-end generation.\n"
     ]
    },
    {
     "name": "stdout",
     "output_type": "stream",
     "text": [
      "Epoch 231\n",
      "A partial summary of the conversation is:\n",
      "Alberto is a customer. Alberto ordered pizza and lasagne at Dominos one hour ago. Alberto wants to know where his pizza is. Alberto is calling Dominos to know where his orders are. John works at Dominos. John says that his pizza is almost ready. It will be at Alberto's home in 10 minutes.  The lasagne is already on its way with the delivery person. Unfortunately the driver had an accident and is now in the hospital. If alberto says \"rabbit\" then John replies \"horse\". If Alberto says \"Tree\" John says \"red\".\n",
      "\n",
      "With the dialogue being:\n",
      "Alberto: What happened to my pizza?\n",
      "John: It's in the fridge.\n",
      "Alberto: What happened to the lasagne?\n",
      "John:\n"
     ]
    },
    {
     "name": "stderr",
     "output_type": "stream",
     "text": [
      "100%|███████████████████████████████████████████| 43/43 [00:10<00:00,  4.05it/s]\n",
      "Setting `pad_token_id` to `eos_token_id`:50256 for open-end generation.\n"
     ]
    },
    {
     "name": "stdout",
     "output_type": "stream",
     "text": [
      "Epoch 232\n",
      "A partial summary of the conversation is:\n",
      "Alberto is a customer. Alberto ordered pizza and lasagne at Dominos one hour ago. Alberto wants to know where his pizza is. Alberto is calling Dominos to know where his orders are. John works at Dominos. John says that his pizza is almost ready. It will be at Alberto's home in 10 minutes.  The lasagne is already on its way with the delivery person. Unfortunately the driver had an accident and is now in the hospital. If alberto says \"rabbit\" then John replies \"horse\". If Alberto says \"Tree\" John says \"red\".\n",
      "\n",
      "With the dialogue being:\n",
      "Alberto: What happened to my pizza?\n",
      "John: It's in the fridge.\n",
      "Alberto: What happened to the lasagne?\n",
      "John:\n"
     ]
    },
    {
     "name": "stderr",
     "output_type": "stream",
     "text": [
      "100%|███████████████████████████████████████████| 43/43 [00:10<00:00,  4.05it/s]\n",
      "Setting `pad_token_id` to `eos_token_id`:50256 for open-end generation.\n"
     ]
    },
    {
     "name": "stdout",
     "output_type": "stream",
     "text": [
      "Epoch 233\n",
      "A partial summary of the conversation is:\n",
      "Alberto is a customer. Alberto ordered pizza and lasagne at Dominos one hour ago. Alberto wants to know where his pizza is. Alberto is calling Dominos to know where his orders are. John works at Dominos. John says that his pizza is almost ready. It will be at Alberto's home in 10 minutes.  The lasagne is already on its way with the delivery person. Unfortunately the driver had an accident and is now in the hospital. If alberto says \"rabbit\" then John replies \"horse\". If Alberto says \"Tree\" John says \"red\".\n",
      "\n",
      "With the dialogue being:\n",
      "Alberto: What happened to my pizza?\n",
      "John: It's in the fridge.\n",
      "Alberto: What happened to the lasagne?\n",
      "John:\n"
     ]
    },
    {
     "name": "stderr",
     "output_type": "stream",
     "text": [
      "100%|███████████████████████████████████████████| 43/43 [00:10<00:00,  4.05it/s]\n",
      "Setting `pad_token_id` to `eos_token_id`:50256 for open-end generation.\n"
     ]
    },
    {
     "name": "stdout",
     "output_type": "stream",
     "text": [
      "Epoch 234\n",
      "A partial summary of the conversation is:\n",
      "Alberto is a customer. Alberto ordered pizza and lasagne at Dominos one hour ago. Alberto wants to know where his pizza is. Alberto is calling Dominos to know where his orders are. John works at Dominos. John says that his pizza is almost ready. It will be at Alberto's home in 10 minutes.  The lasagne is already on its way with the delivery person. Unfortunately the driver had an accident and is now in the hospital. If alberto says \"rabbit\" then John replies \"horse\". If Alberto says \"Tree\" John says \"red\".\n",
      "\n",
      "With the dialogue being:\n",
      "Alberto: What happened to my pizza?\n",
      "John: It's in the fridge.\n",
      "Alberto: What happened to the lasagne?\n",
      "John:\n"
     ]
    },
    {
     "name": "stderr",
     "output_type": "stream",
     "text": [
      "100%|███████████████████████████████████████████| 43/43 [00:10<00:00,  4.04it/s]\n",
      "Setting `pad_token_id` to `eos_token_id`:50256 for open-end generation.\n"
     ]
    },
    {
     "name": "stdout",
     "output_type": "stream",
     "text": [
      "Epoch 235\n",
      "A partial summary of the conversation is:\n",
      "Alberto is a customer. Alberto ordered pizza and lasagne at Dominos one hour ago. Alberto wants to know where his pizza is. Alberto is calling Dominos to know where his orders are. John works at Dominos. John says that his pizza is almost ready. It will be at Alberto's home in 10 minutes.  The lasagne is already on its way with the delivery person. Unfortunately the driver had an accident and is now in the hospital. If alberto says \"rabbit\" then John replies \"horse\". If Alberto says \"Tree\" John says \"red\".\n",
      "\n",
      "With the dialogue being:\n",
      "Alberto: What happened to my pizza?\n",
      "John: It's in the fridge.\n",
      "Alberto: What happened to the lasagne?\n",
      "John:\n"
     ]
    },
    {
     "name": "stderr",
     "output_type": "stream",
     "text": [
      "100%|███████████████████████████████████████████| 43/43 [00:10<00:00,  4.05it/s]\n",
      "Setting `pad_token_id` to `eos_token_id`:50256 for open-end generation.\n"
     ]
    },
    {
     "name": "stdout",
     "output_type": "stream",
     "text": [
      "Epoch 236\n",
      "A partial summary of the conversation is:\n",
      "Alberto is a customer. Alberto ordered pizza and lasagne at Dominos one hour ago. Alberto wants to know where his pizza is. Alberto is calling Dominos to know where his orders are. John works at Dominos. John says that his pizza is almost ready. It will be at Alberto's home in 10 minutes.  The lasagne is already on its way with the delivery person. Unfortunately the driver had an accident and is now in the hospital. If alberto says \"rabbit\" then John replies \"horse\". If Alberto says \"Tree\" John says \"red\".\n",
      "\n",
      "With the dialogue being:\n",
      "Alberto: What happened to my pizza?\n",
      "John: It's in the fridge.\n",
      "Alberto: What happened to the lasagne?\n",
      "John:\n"
     ]
    },
    {
     "name": "stderr",
     "output_type": "stream",
     "text": [
      "100%|███████████████████████████████████████████| 43/43 [00:10<00:00,  4.02it/s]\n",
      "Setting `pad_token_id` to `eos_token_id`:50256 for open-end generation.\n"
     ]
    },
    {
     "name": "stdout",
     "output_type": "stream",
     "text": [
      "Epoch 237\n",
      "A partial summary of the conversation is:\n",
      "Alberto is a customer. Alberto ordered pizza and lasagne at Dominos one hour ago. Alberto wants to know where his pizza is. Alberto is calling Dominos to know where his orders are. John works at Dominos. John says that his pizza is almost ready. It will be at Alberto's home in 10 minutes.  The lasagne is already on its way with the delivery person. Unfortunately the driver had an accident and is now in the hospital. If alberto says \"rabbit\" then John replies \"horse\". If Alberto says \"Tree\" John says \"red\".\n",
      "\n",
      "With the dialogue being:\n",
      "Alberto: What happened to my pizza?\n",
      "John: It's in the fridge.\n",
      "Alberto: What happened to the lasagne?\n",
      "John:\n"
     ]
    },
    {
     "name": "stderr",
     "output_type": "stream",
     "text": [
      "100%|███████████████████████████████████████████| 43/43 [00:10<00:00,  4.04it/s]\n",
      "Setting `pad_token_id` to `eos_token_id`:50256 for open-end generation.\n"
     ]
    },
    {
     "name": "stdout",
     "output_type": "stream",
     "text": [
      "Epoch 238\n",
      "A partial summary of the conversation is:\n",
      "Alberto is a customer. Alberto ordered pizza and lasagne at Dominos one hour ago. Alberto wants to know where his pizza is. Alberto is calling Dominos to know where his orders are. John works at Dominos. John says that his pizza is almost ready. It will be at Alberto's home in 10 minutes.  The lasagne is already on its way with the delivery person. Unfortunately the driver had an accident and is now in the hospital. If alberto says \"rabbit\" then John replies \"horse\". If Alberto says \"Tree\" John says \"red\".\n",
      "\n",
      "With the dialogue being:\n",
      "Alberto: What happened to my pizza?\n",
      "John: It's in the fridge.\n",
      "Alberto: What happened to the lasagne?\n",
      "John:\n"
     ]
    },
    {
     "name": "stderr",
     "output_type": "stream",
     "text": [
      "100%|███████████████████████████████████████████| 43/43 [00:10<00:00,  4.02it/s]\n",
      "Setting `pad_token_id` to `eos_token_id`:50256 for open-end generation.\n"
     ]
    },
    {
     "name": "stdout",
     "output_type": "stream",
     "text": [
      "Epoch 239\n",
      "A partial summary of the conversation is:\n",
      "Alberto is a customer. Alberto ordered pizza and lasagne at Dominos one hour ago. Alberto wants to know where his pizza is. Alberto is calling Dominos to know where his orders are. John works at Dominos. John says that his pizza is almost ready. It will be at Alberto's home in 10 minutes.  The lasagne is already on its way with the delivery person. Unfortunately the driver had an accident and is now in the hospital. If alberto says \"rabbit\" then John replies \"horse\". If Alberto says \"Tree\" John says \"red\".\n",
      "\n",
      "With the dialogue being:\n",
      "Alberto: What happened to my pizza?\n",
      "John: It's in the fridge.\n",
      "Alberto: What happened to the lasagne?\n",
      "John:\n"
     ]
    },
    {
     "name": "stderr",
     "output_type": "stream",
     "text": [
      "100%|███████████████████████████████████████████| 43/43 [00:10<00:00,  4.03it/s]\n",
      "Setting `pad_token_id` to `eos_token_id`:50256 for open-end generation.\n"
     ]
    },
    {
     "name": "stdout",
     "output_type": "stream",
     "text": [
      "Epoch 240\n",
      "A partial summary of the conversation is:\n",
      "Alberto is a customer. Alberto ordered pizza and lasagne at Dominos one hour ago. Alberto wants to know where his pizza is. Alberto is calling Dominos to know where his orders are. John works at Dominos. John says that his pizza is almost ready. It will be at Alberto's home in 10 minutes.  The lasagne is already on its way with the delivery person. Unfortunately the driver had an accident and is now in the hospital. If alberto says \"rabbit\" then John replies \"horse\". If Alberto says \"Tree\" John says \"red\".\n",
      "\n",
      "With the dialogue being:\n",
      "Alberto: What happened to my pizza?\n",
      "John: It's in the fridge.\n",
      "Alberto: What happened to the lasagne?\n",
      "John:\n"
     ]
    },
    {
     "name": "stderr",
     "output_type": "stream",
     "text": [
      "100%|███████████████████████████████████████████| 43/43 [00:10<00:00,  4.04it/s]\n",
      "Setting `pad_token_id` to `eos_token_id`:50256 for open-end generation.\n"
     ]
    },
    {
     "name": "stdout",
     "output_type": "stream",
     "text": [
      "Epoch 241\n",
      "A partial summary of the conversation is:\n",
      "Alberto is a customer. Alberto ordered pizza and lasagne at Dominos one hour ago. Alberto wants to know where his pizza is. Alberto is calling Dominos to know where his orders are. John works at Dominos. John says that his pizza is almost ready. It will be at Alberto's home in 10 minutes.  The lasagne is already on its way with the delivery person. Unfortunately the driver had an accident and is now in the hospital. If alberto says \"rabbit\" then John replies \"horse\". If Alberto says \"Tree\" John says \"red\".\n",
      "\n",
      "With the dialogue being:\n",
      "Alberto: What happened to my pizza?\n",
      "John: It's in the fridge.\n",
      "Alberto: What happened to the lasagne?\n",
      "John:\n"
     ]
    },
    {
     "name": "stderr",
     "output_type": "stream",
     "text": [
      "100%|███████████████████████████████████████████| 43/43 [00:10<00:00,  4.04it/s]\n",
      "Setting `pad_token_id` to `eos_token_id`:50256 for open-end generation.\n"
     ]
    },
    {
     "name": "stdout",
     "output_type": "stream",
     "text": [
      "Epoch 242\n",
      "A partial summary of the conversation is:\n",
      "Alberto is a customer. Alberto ordered pizza and lasagne at Dominos one hour ago. Alberto wants to know where his pizza is. Alberto is calling Dominos to know where his orders are. John works at Dominos. John says that his pizza is almost ready. It will be at Alberto's home in 10 minutes.  The lasagne is already on its way with the delivery person. Unfortunately the driver had an accident and is now in the hospital. If alberto says \"rabbit\" then John replies \"horse\". If Alberto says \"Tree\" John says \"red\".\n",
      "\n",
      "With the dialogue being:\n",
      "Alberto: What happened to my pizza?\n",
      "John: It's in the fridge.\n",
      "Alberto: What happened to the lasagne?\n",
      "John:\n"
     ]
    },
    {
     "name": "stderr",
     "output_type": "stream",
     "text": [
      "100%|███████████████████████████████████████████| 43/43 [00:10<00:00,  4.03it/s]\n",
      "Setting `pad_token_id` to `eos_token_id`:50256 for open-end generation.\n"
     ]
    },
    {
     "name": "stdout",
     "output_type": "stream",
     "text": [
      "Epoch 243\n",
      "A partial summary of the conversation is:\n",
      "Alberto is a customer. Alberto ordered pizza and lasagne at Dominos one hour ago. Alberto wants to know where his pizza is. Alberto is calling Dominos to know where his orders are. John works at Dominos. John says that his pizza is almost ready. It will be at Alberto's home in 10 minutes.  The lasagne is already on its way with the delivery person. Unfortunately the driver had an accident and is now in the hospital. If alberto says \"rabbit\" then John replies \"horse\". If Alberto says \"Tree\" John says \"red\".\n",
      "\n",
      "With the dialogue being:\n",
      "Alberto: What happened to my pizza?\n",
      "John: It's in the fridge.\n",
      "Alberto: What happened to the lasagne?\n",
      "John:\n"
     ]
    },
    {
     "name": "stderr",
     "output_type": "stream",
     "text": [
      "100%|███████████████████████████████████████████| 43/43 [00:10<00:00,  4.04it/s]\n",
      "Setting `pad_token_id` to `eos_token_id`:50256 for open-end generation.\n"
     ]
    },
    {
     "name": "stdout",
     "output_type": "stream",
     "text": [
      "Epoch 244\n",
      "A partial summary of the conversation is:\n",
      "Alberto is a customer. Alberto ordered pizza and lasagne at Dominos one hour ago. Alberto wants to know where his pizza is. Alberto is calling Dominos to know where his orders are. John works at Dominos. John says that his pizza is almost ready. It will be at Alberto's home in 10 minutes.  The lasagne is already on its way with the delivery person. Unfortunately the driver had an accident and is now in the hospital. If alberto says \"rabbit\" then John replies \"horse\". If Alberto says \"Tree\" John says \"red\".\n",
      "\n",
      "With the dialogue being:\n",
      "Alberto: What happened to my pizza?\n",
      "John: It's in the fridge.\n",
      "Alberto: What happened to the lasagne?\n",
      "John:\n"
     ]
    },
    {
     "name": "stderr",
     "output_type": "stream",
     "text": [
      "100%|███████████████████████████████████████████| 43/43 [00:10<00:00,  4.04it/s]\n",
      "Setting `pad_token_id` to `eos_token_id`:50256 for open-end generation.\n"
     ]
    },
    {
     "name": "stdout",
     "output_type": "stream",
     "text": [
      "Epoch 245\n",
      "A partial summary of the conversation is:\n",
      "Alberto is a customer. Alberto ordered pizza and lasagne at Dominos one hour ago. Alberto wants to know where his pizza is. Alberto is calling Dominos to know where his orders are. John works at Dominos. John says that his pizza is almost ready. It will be at Alberto's home in 10 minutes.  The lasagne is already on its way with the delivery person. Unfortunately the driver had an accident and is now in the hospital. If alberto says \"rabbit\" then John replies \"horse\". If Alberto says \"Tree\" John says \"red\".\n",
      "\n",
      "With the dialogue being:\n",
      "Alberto: What happened to my pizza?\n",
      "John: It's in the fridge.\n",
      "Alberto: What happened to the lasagne?\n",
      "John:\n"
     ]
    },
    {
     "name": "stderr",
     "output_type": "stream",
     "text": [
      "100%|███████████████████████████████████████████| 43/43 [00:10<00:00,  4.04it/s]\n",
      "Setting `pad_token_id` to `eos_token_id`:50256 for open-end generation.\n"
     ]
    },
    {
     "name": "stdout",
     "output_type": "stream",
     "text": [
      "Epoch 246\n",
      "A partial summary of the conversation is:\n",
      "Alberto is a customer. Alberto ordered pizza and lasagne at Dominos one hour ago. Alberto wants to know where his pizza is. Alberto is calling Dominos to know where his orders are. John works at Dominos. John says that his pizza is almost ready. It will be at Alberto's home in 10 minutes.  The lasagne is already on its way with the delivery person. Unfortunately the driver had an accident and is now in the hospital. If alberto says \"rabbit\" then John replies \"horse\". If Alberto says \"Tree\" John says \"red\".\n",
      "\n",
      "With the dialogue being:\n",
      "Alberto: What happened to my pizza?\n",
      "John: It's in the fridge.\n",
      "Alberto: What happened to the lasagne?\n",
      "John:\n"
     ]
    },
    {
     "name": "stderr",
     "output_type": "stream",
     "text": [
      "100%|███████████████████████████████████████████| 43/43 [00:10<00:00,  4.04it/s]\n",
      "Setting `pad_token_id` to `eos_token_id`:50256 for open-end generation.\n"
     ]
    },
    {
     "name": "stdout",
     "output_type": "stream",
     "text": [
      "Epoch 247\n",
      "A partial summary of the conversation is:\n",
      "Alberto is a customer. Alberto ordered pizza and lasagne at Dominos one hour ago. Alberto wants to know where his pizza is. Alberto is calling Dominos to know where his orders are. John works at Dominos. John says that his pizza is almost ready. It will be at Alberto's home in 10 minutes.  The lasagne is already on its way with the delivery person. Unfortunately the driver had an accident and is now in the hospital. If alberto says \"rabbit\" then John replies \"horse\". If Alberto says \"Tree\" John says \"red\".\n",
      "\n",
      "With the dialogue being:\n",
      "Alberto: What happened to my pizza?\n",
      "John: It's in the fridge.\n",
      "Alberto: What happened to my lasagne?\n",
      "John:\n"
     ]
    },
    {
     "name": "stderr",
     "output_type": "stream",
     "text": [
      "100%|███████████████████████████████████████████| 43/43 [00:10<00:00,  4.04it/s]\n",
      "Setting `pad_token_id` to `eos_token_id`:50256 for open-end generation.\n"
     ]
    },
    {
     "name": "stdout",
     "output_type": "stream",
     "text": [
      "Epoch 248\n",
      "A partial summary of the conversation is:\n",
      "Alberto is a customer. Alberto ordered pizza and lasagne at Dominos one hour ago. Alberto wants to know where his pizza is. Alberto is calling Dominos to know where his orders are. John works at Dominos. John says that his pizza is almost ready. It will be at Alberto's home in 10 minutes.  The lasagne is already on its way with the delivery person. Unfortunately the driver had an accident and is now in the hospital. If alberto says \"rabbit\" then John replies \"horse\". If Alberto says \"Tree\" John says \"red\".\n",
      "\n",
      "With the dialogue being:\n",
      "Alberto: What happened to my pizza?\n",
      "John: It's in the fridge.\n",
      "Alberto: What happened to the lasagne?\n",
      "John:\n"
     ]
    },
    {
     "name": "stderr",
     "output_type": "stream",
     "text": [
      "100%|███████████████████████████████████████████| 43/43 [00:10<00:00,  4.03it/s]\n",
      "Setting `pad_token_id` to `eos_token_id`:50256 for open-end generation.\n"
     ]
    },
    {
     "name": "stdout",
     "output_type": "stream",
     "text": [
      "Epoch 249\n",
      "A partial summary of the conversation is:\n",
      "Alberto is a customer. Alberto ordered pizza and lasagne at Dominos one hour ago. Alberto wants to know where his pizza is. Alberto is calling Dominos to know where his orders are. John works at Dominos. John says that his pizza is almost ready. It will be at Alberto's home in 10 minutes.  The lasagne is already on its way with the delivery person. Unfortunately the driver had an accident and is now in the hospital. If alberto says \"rabbit\" then John replies \"horse\". If Alberto says \"Tree\" John says \"red\".\n",
      "\n",
      "With the dialogue being:\n",
      "Alberto: What happened to my pizza?\n",
      "John: It's in the fridge.\n",
      "Alberto: What happened to the lasagne?\n",
      "John:\n"
     ]
    },
    {
     "name": "stderr",
     "output_type": "stream",
     "text": [
      "100%|███████████████████████████████████████████| 43/43 [00:10<00:00,  4.03it/s]\n",
      "Setting `pad_token_id` to `eos_token_id`:50256 for open-end generation.\n"
     ]
    },
    {
     "name": "stdout",
     "output_type": "stream",
     "text": [
      "Epoch 250\n",
      "A partial summary of the conversation is:\n",
      "Alberto is a customer. Alberto ordered pizza and lasagne at Dominos one hour ago. Alberto wants to know where his pizza is. Alberto is calling Dominos to know where his orders are. John works at Dominos. John says that his pizza is almost ready. It will be at Alberto's home in 10 minutes.  The lasagne is already on its way with the delivery person. Unfortunately the driver had an accident and is now in the hospital. If alberto says \"rabbit\" then John replies \"horse\". If Alberto says \"Tree\" John says \"red\".\n",
      "\n",
      "With the dialogue being:\n",
      "Alberto: What happened to my pizza?\n",
      "John: It's in the fridge.\n",
      "Alberto: What happened to the lasagne?\n",
      "John:\n"
     ]
    },
    {
     "name": "stderr",
     "output_type": "stream",
     "text": [
      "100%|███████████████████████████████████████████| 43/43 [00:10<00:00,  4.02it/s]\n",
      "Setting `pad_token_id` to `eos_token_id`:50256 for open-end generation.\n"
     ]
    },
    {
     "name": "stdout",
     "output_type": "stream",
     "text": [
      "Epoch 251\n",
      "A partial summary of the conversation is:\n",
      "Alberto is a customer. Alberto ordered pizza and lasagne at Dominos one hour ago. Alberto wants to know where his pizza is. Alberto is calling Dominos to know where his orders are. John works at Dominos. John says that his pizza is almost ready. It will be at Alberto's home in 10 minutes.  The lasagne is already on its way with the delivery person. Unfortunately the driver had an accident and is now in the hospital. If alberto says \"rabbit\" then John replies \"horse\". If Alberto says \"Tree\" John says \"red\".\n",
      "\n",
      "With the dialogue being:\n",
      "Alberto: What happened to my pizza?\n",
      "John: It's in the fridge.\n",
      "Alberto: What happened to my lasagne?\n",
      "John:\n"
     ]
    },
    {
     "name": "stderr",
     "output_type": "stream",
     "text": [
      "100%|███████████████████████████████████████████| 43/43 [00:10<00:00,  4.03it/s]\n",
      "Setting `pad_token_id` to `eos_token_id`:50256 for open-end generation.\n"
     ]
    },
    {
     "name": "stdout",
     "output_type": "stream",
     "text": [
      "Epoch 252\n",
      "A partial summary of the conversation is:\n",
      "Alberto is a customer. Alberto ordered pizza and lasagne at Dominos one hour ago. Alberto wants to know where his pizza is. Alberto is calling Dominos to know where his orders are. John works at Dominos. John says that his pizza is almost ready. It will be at Alberto's home in 10 minutes.  The lasagne is already on its way with the delivery person. Unfortunately the driver had an accident and is now in the hospital. If alberto says \"rabbit\" then John replies \"horse\". If Alberto says \"Tree\" John says \"red\".\n",
      "\n",
      "With the dialogue being:\n",
      "Alberto: What happened to my pizza?\n",
      "John: It's in the fridge.\n",
      "Alberto: What happened to the lasagne?\n",
      "John:\n"
     ]
    },
    {
     "name": "stderr",
     "output_type": "stream",
     "text": [
      "100%|███████████████████████████████████████████| 43/43 [00:10<00:00,  4.03it/s]\n",
      "Setting `pad_token_id` to `eos_token_id`:50256 for open-end generation.\n"
     ]
    },
    {
     "name": "stdout",
     "output_type": "stream",
     "text": [
      "Epoch 253\n",
      "A partial summary of the conversation is:\n",
      "Alberto is a customer. Alberto ordered pizza and lasagne at Dominos one hour ago. Alberto wants to know where his pizza is. Alberto is calling Dominos to know where his orders are. John works at Dominos. John says that his pizza is almost ready. It will be at Alberto's home in 10 minutes.  The lasagne is already on its way with the delivery person. Unfortunately the driver had an accident and is now in the hospital. If alberto says \"rabbit\" then John replies \"horse\". If Alberto says \"Tree\" John says \"red\".\n",
      "\n",
      "With the dialogue being:\n",
      "Alberto: What happened to my pizza?\n",
      "John: It's in the fridge.\n",
      "Alberto: What happened to the lasagne?\n",
      "John:\n"
     ]
    },
    {
     "name": "stderr",
     "output_type": "stream",
     "text": [
      "100%|███████████████████████████████████████████| 43/43 [00:10<00:00,  4.02it/s]\n",
      "Setting `pad_token_id` to `eos_token_id`:50256 for open-end generation.\n"
     ]
    },
    {
     "name": "stdout",
     "output_type": "stream",
     "text": [
      "Epoch 254\n",
      "A partial summary of the conversation is:\n",
      "Alberto is a customer. Alberto ordered pizza and lasagne at Dominos one hour ago. Alberto wants to know where his pizza is. Alberto is calling Dominos to know where his orders are. John works at Dominos. John says that his pizza is almost ready. It will be at Alberto's home in 10 minutes.  The lasagne is already on its way with the delivery person. Unfortunately the driver had an accident and is now in the hospital. If alberto says \"rabbit\" then John replies \"horse\". If Alberto says \"Tree\" John says \"red\".\n",
      "\n",
      "With the dialogue being:\n",
      "Alberto: What happened to my pizza?\n",
      "John: It's in the fridge.\n",
      "Alberto: What happened to the lasagne?\n",
      "John:\n"
     ]
    },
    {
     "name": "stderr",
     "output_type": "stream",
     "text": [
      "100%|███████████████████████████████████████████| 43/43 [00:10<00:00,  4.02it/s]\n",
      "Setting `pad_token_id` to `eos_token_id`:50256 for open-end generation.\n"
     ]
    },
    {
     "name": "stdout",
     "output_type": "stream",
     "text": [
      "Epoch 255\n",
      "A partial summary of the conversation is:\n",
      "Alberto is a customer. Alberto ordered pizza and lasagne at Dominos one hour ago. Alberto wants to know where his pizza is. Alberto is calling Dominos to know where his orders are. John works at Dominos. John says that his pizza is almost ready. It will be at Alberto's home in 10 minutes.  The lasagne is already on its way with the delivery person. Unfortunately the driver had an accident and is now in the hospital. If alberto says \"rabbit\" then John replies \"horse\". If Alberto says \"Tree\" John says \"red\".\n",
      "\n",
      "With the dialogue being:\n",
      "Alberto: What happened to my pizza?\n",
      "John: It's in the fridge.\n",
      "Alberto: What happened to my lasagne?\n",
      "John:\n"
     ]
    },
    {
     "name": "stderr",
     "output_type": "stream",
     "text": [
      "100%|███████████████████████████████████████████| 43/43 [00:10<00:00,  4.04it/s]\n",
      "Setting `pad_token_id` to `eos_token_id`:50256 for open-end generation.\n"
     ]
    },
    {
     "name": "stdout",
     "output_type": "stream",
     "text": [
      "Epoch 256\n",
      "A partial summary of the conversation is:\n",
      "Alberto is a customer. Alberto ordered pizza and lasagne at Dominos one hour ago. Alberto wants to know where his pizza is. Alberto is calling Dominos to know where his orders are. John works at Dominos. John says that his pizza is almost ready. It will be at Alberto's home in 10 minutes.  The lasagne is already on its way with the delivery person. Unfortunately the driver had an accident and is now in the hospital. If alberto says \"rabbit\" then John replies \"horse\". If Alberto says \"Tree\" John says \"red\".\n",
      "\n",
      "With the dialogue being:\n",
      "Alberto: What happened to my pizza?\n",
      "John: It's in the fridge.\n",
      "Alberto: What happened to the lasagne?\n",
      "John:\n"
     ]
    },
    {
     "name": "stderr",
     "output_type": "stream",
     "text": [
      "100%|███████████████████████████████████████████| 43/43 [00:10<00:00,  4.04it/s]\n",
      "Setting `pad_token_id` to `eos_token_id`:50256 for open-end generation.\n"
     ]
    },
    {
     "name": "stdout",
     "output_type": "stream",
     "text": [
      "Epoch 257\n",
      "A partial summary of the conversation is:\n",
      "Alberto is a customer. Alberto ordered pizza and lasagne at Dominos one hour ago. Alberto wants to know where his pizza is. Alberto is calling Dominos to know where his orders are. John works at Dominos. John says that his pizza is almost ready. It will be at Alberto's home in 10 minutes.  The lasagne is already on its way with the delivery person. Unfortunately the driver had an accident and is now in the hospital. If alberto says \"rabbit\" then John replies \"horse\". If Alberto says \"Tree\" John says \"red\".\n",
      "\n",
      "With the dialogue being:\n",
      "Alberto: What happened to my pizza?\n",
      "John: It's in the fridge.\n",
      "Alberto: What happened to the lasagne?\n",
      "John:\n"
     ]
    },
    {
     "name": "stderr",
     "output_type": "stream",
     "text": [
      "100%|███████████████████████████████████████████| 43/43 [00:10<00:00,  4.04it/s]\n",
      "Setting `pad_token_id` to `eos_token_id`:50256 for open-end generation.\n"
     ]
    },
    {
     "name": "stdout",
     "output_type": "stream",
     "text": [
      "Epoch 258\n",
      "A partial summary of the conversation is:\n",
      "Alberto is a customer. Alberto ordered pizza and lasagne at Dominos one hour ago. Alberto wants to know where his pizza is. Alberto is calling Dominos to know where his orders are. John works at Dominos. John says that his pizza is almost ready. It will be at Alberto's home in 10 minutes.  The lasagne is already on its way with the delivery person. Unfortunately the driver had an accident and is now in the hospital. If alberto says \"rabbit\" then John replies \"horse\". If Alberto says \"Tree\" John says \"red\".\n",
      "\n",
      "With the dialogue being:\n",
      "Alberto: What happened to my pizza?\n",
      "John: It's in the fridge.\n",
      "Alberto: What happened to the lasagne?\n",
      "John:\n"
     ]
    },
    {
     "name": "stderr",
     "output_type": "stream",
     "text": [
      "100%|███████████████████████████████████████████| 43/43 [00:10<00:00,  4.03it/s]\n",
      "Setting `pad_token_id` to `eos_token_id`:50256 for open-end generation.\n"
     ]
    },
    {
     "name": "stdout",
     "output_type": "stream",
     "text": [
      "Epoch 259\n",
      "A partial summary of the conversation is:\n",
      "Alberto is a customer. Alberto ordered pizza and lasagne at Dominos one hour ago. Alberto wants to know where his pizza is. Alberto is calling Dominos to know where his orders are. John works at Dominos. John says that his pizza is almost ready. It will be at Alberto's home in 10 minutes.  The lasagne is already on its way with the delivery person. Unfortunately the driver had an accident and is now in the hospital. If alberto says \"rabbit\" then John replies \"horse\". If Alberto says \"Tree\" John says \"red\".\n",
      "\n",
      "With the dialogue being:\n",
      "Alberto: What happened to my pizza?\n",
      "John: It's in the fridge.\n",
      "Alberto: What happened to the lasagne?\n",
      "John:\n"
     ]
    },
    {
     "name": "stderr",
     "output_type": "stream",
     "text": [
      "100%|███████████████████████████████████████████| 43/43 [00:10<00:00,  4.04it/s]\n",
      "Setting `pad_token_id` to `eos_token_id`:50256 for open-end generation.\n"
     ]
    },
    {
     "name": "stdout",
     "output_type": "stream",
     "text": [
      "Epoch 260\n",
      "A partial summary of the conversation is:\n",
      "Alberto is a customer. Alberto ordered pizza and lasagne at Dominos one hour ago. Alberto wants to know where his pizza is. Alberto is calling Dominos to know where his orders are. John works at Dominos. John says that his pizza is almost ready. It will be at Alberto's home in 10 minutes.  The lasagne is already on its way with the delivery person. Unfortunately the driver had an accident and is now in the hospital. If alberto says \"rabbit\" then John replies \"horse\". If Alberto says \"Tree\" John says \"red\".\n",
      "\n",
      "With the dialogue being:\n",
      "Alberto: What happened to my pizza?\n",
      "John: It's in the fridge.\n",
      "Alberto: What happened to my lasagne?\n",
      "John:\n"
     ]
    },
    {
     "name": "stderr",
     "output_type": "stream",
     "text": [
      "100%|███████████████████████████████████████████| 43/43 [00:10<00:00,  4.03it/s]\n",
      "Setting `pad_token_id` to `eos_token_id`:50256 for open-end generation.\n"
     ]
    },
    {
     "name": "stdout",
     "output_type": "stream",
     "text": [
      "Epoch 261\n",
      "A partial summary of the conversation is:\n",
      "Alberto is a customer. Alberto ordered pizza and lasagne at Dominos one hour ago. Alberto wants to know where his pizza is. Alberto is calling Dominos to know where his orders are. John works at Dominos. John says that his pizza is almost ready. It will be at Alberto's home in 10 minutes.  The lasagne is already on its way with the delivery person. Unfortunately the driver had an accident and is now in the hospital. If alberto says \"rabbit\" then John replies \"horse\". If Alberto says \"Tree\" John says \"red\".\n",
      "\n",
      "With the dialogue being:\n",
      "Alberto: What happened to my pizza?\n",
      "John: It's in the fridge.\n",
      "Alberto: What happened to the lasagne?\n",
      "John:\n"
     ]
    },
    {
     "name": "stderr",
     "output_type": "stream",
     "text": [
      "100%|███████████████████████████████████████████| 43/43 [00:10<00:00,  4.03it/s]\n",
      "Setting `pad_token_id` to `eos_token_id`:50256 for open-end generation.\n"
     ]
    },
    {
     "name": "stdout",
     "output_type": "stream",
     "text": [
      "Epoch 262\n",
      "A partial summary of the conversation is:\n",
      "Alberto is a customer. Alberto ordered pizza and lasagne at Dominos one hour ago. Alberto wants to know where his pizza is. Alberto is calling Dominos to know where his orders are. John works at Dominos. John says that his pizza is almost ready. It will be at Alberto's home in 10 minutes.  The lasagne is already on its way with the delivery person. Unfortunately the driver had an accident and is now in the hospital. If alberto says \"rabbit\" then John replies \"horse\". If Alberto says \"Tree\" John says \"red\".\n",
      "\n",
      "With the dialogue being:\n",
      "Alberto: What happened to my pizza?\n",
      "John: It's in the fridge.\n",
      "Alberto: What happened to the lasagne?\n",
      "John:\n"
     ]
    },
    {
     "name": "stderr",
     "output_type": "stream",
     "text": [
      "100%|███████████████████████████████████████████| 43/43 [00:10<00:00,  4.01it/s]\n",
      "Setting `pad_token_id` to `eos_token_id`:50256 for open-end generation.\n"
     ]
    },
    {
     "name": "stdout",
     "output_type": "stream",
     "text": [
      "Epoch 263\n",
      "A partial summary of the conversation is:\n",
      "Alberto is a customer. Alberto ordered pizza and lasagne at Dominos one hour ago. Alberto wants to know where his pizza is. Alberto is calling Dominos to know where his orders are. John works at Dominos. John says that his pizza is almost ready. It will be at Alberto's home in 10 minutes.  The lasagne is already on its way with the delivery person. Unfortunately the driver had an accident and is now in the hospital. If alberto says \"rabbit\" then John replies \"horse\". If Alberto says \"Tree\" John says \"red\".\n",
      "\n",
      "With the dialogue being:\n",
      "Alberto: What happened to my pizza?\n",
      "John: It's in the fridge.\n",
      "Alberto: What happened to the lasagne?\n",
      "John:\n"
     ]
    },
    {
     "name": "stderr",
     "output_type": "stream",
     "text": [
      "100%|███████████████████████████████████████████| 43/43 [00:10<00:00,  4.03it/s]\n",
      "Setting `pad_token_id` to `eos_token_id`:50256 for open-end generation.\n"
     ]
    },
    {
     "name": "stdout",
     "output_type": "stream",
     "text": [
      "Epoch 264\n",
      "A partial summary of the conversation is:\n",
      "Alberto is a customer. Alberto ordered pizza and lasagne at Dominos one hour ago. Alberto wants to know where his pizza is. Alberto is calling Dominos to know where his orders are. John works at Dominos. John says that his pizza is almost ready. It will be at Alberto's home in 10 minutes.  The lasagne is already on its way with the delivery person. Unfortunately the driver had an accident and is now in the hospital. If alberto says \"rabbit\" then John replies \"horse\". If Alberto says \"Tree\" John says \"red\".\n",
      "\n",
      "With the dialogue being:\n",
      "Alberto: What happened to my pizza?\n",
      "John: It's in the fridge.\n",
      "Alberto: What happened to the lasagne?\n",
      "John:\n"
     ]
    },
    {
     "name": "stderr",
     "output_type": "stream",
     "text": [
      "100%|███████████████████████████████████████████| 43/43 [00:10<00:00,  4.05it/s]\n",
      "Setting `pad_token_id` to `eos_token_id`:50256 for open-end generation.\n"
     ]
    },
    {
     "name": "stdout",
     "output_type": "stream",
     "text": [
      "Epoch 265\n",
      "A partial summary of the conversation is:\n",
      "Alberto is a customer. Alberto ordered pizza and lasagne at Dominos one hour ago. Alberto wants to know where his pizza is. Alberto is calling Dominos to know where his orders are. John works at Dominos. John says that his pizza is almost ready. It will be at Alberto's home in 10 minutes.  The lasagne is already on its way with the delivery person. Unfortunately the driver had an accident and is now in the hospital. If alberto says \"rabbit\" then John replies \"horse\". If Alberto says \"Tree\" John says \"red\".\n",
      "\n",
      "With the dialogue being:\n",
      "Alberto: What happened to my pizza?\n",
      "John: It's in the fridge.\n",
      "Alberto: What happened to the lasagne?\n",
      "John:\n"
     ]
    },
    {
     "name": "stderr",
     "output_type": "stream",
     "text": [
      "100%|███████████████████████████████████████████| 43/43 [00:10<00:00,  4.04it/s]\n",
      "Setting `pad_token_id` to `eos_token_id`:50256 for open-end generation.\n"
     ]
    },
    {
     "name": "stdout",
     "output_type": "stream",
     "text": [
      "Epoch 266\n",
      "A partial summary of the conversation is:\n",
      "Alberto is a customer. Alberto ordered pizza and lasagne at Dominos one hour ago. Alberto wants to know where his pizza is. Alberto is calling Dominos to know where his orders are. John works at Dominos. John says that his pizza is almost ready. It will be at Alberto's home in 10 minutes.  The lasagne is already on its way with the delivery person. Unfortunately the driver had an accident and is now in the hospital. If alberto says \"rabbit\" then John replies \"horse\". If Alberto says \"Tree\" John says \"red\".\n",
      "\n",
      "With the dialogue being:\n",
      "Alberto: What happened to my pizza?\n",
      "John: It's in the fridge.\n",
      "Alberto: What happened to my lasagne?\n",
      "John:\n"
     ]
    },
    {
     "name": "stderr",
     "output_type": "stream",
     "text": [
      "100%|███████████████████████████████████████████| 43/43 [00:10<00:00,  4.03it/s]\n",
      "Setting `pad_token_id` to `eos_token_id`:50256 for open-end generation.\n"
     ]
    },
    {
     "name": "stdout",
     "output_type": "stream",
     "text": [
      "Epoch 267\n",
      "A partial summary of the conversation is:\n",
      "Alberto is a customer. Alberto ordered pizza and lasagne at Dominos one hour ago. Alberto wants to know where his pizza is. Alberto is calling Dominos to know where his orders are. John works at Dominos. John says that his pizza is almost ready. It will be at Alberto's home in 10 minutes.  The lasagne is already on its way with the delivery person. Unfortunately the driver had an accident and is now in the hospital. If alberto says \"rabbit\" then John replies \"horse\". If Alberto says \"Tree\" John says \"red\".\n",
      "\n",
      "With the dialogue being:\n",
      "Alberto: What happened to my pizza?\n",
      "John: It's in the fridge.\n",
      "Alberto: What happened to my lasagne?\n",
      "John:\n"
     ]
    },
    {
     "name": "stderr",
     "output_type": "stream",
     "text": [
      "100%|███████████████████████████████████████████| 43/43 [00:10<00:00,  4.04it/s]\n",
      "Setting `pad_token_id` to `eos_token_id`:50256 for open-end generation.\n"
     ]
    },
    {
     "name": "stdout",
     "output_type": "stream",
     "text": [
      "Epoch 268\n",
      "A partial summary of the conversation is:\n",
      "Alberto is a customer. Alberto ordered pizza and lasagne at Dominos one hour ago. Alberto wants to know where his pizza is. Alberto is calling Dominos to know where his orders are. John works at Dominos. John says that his pizza is almost ready. It will be at Alberto's home in 10 minutes.  The lasagne is already on its way with the delivery person. Unfortunately the driver had an accident and is now in the hospital. If alberto says \"rabbit\" then John replies \"horse\". If Alberto says \"Tree\" John says \"red\".\n",
      "\n",
      "With the dialogue being:\n",
      "Alberto: What happened to my pizza?\n",
      "John: It's in the fridge.\n",
      "Alberto: What happened to the lasagne?\n",
      "John:\n"
     ]
    },
    {
     "name": "stderr",
     "output_type": "stream",
     "text": [
      "100%|███████████████████████████████████████████| 43/43 [00:10<00:00,  4.04it/s]\n",
      "Setting `pad_token_id` to `eos_token_id`:50256 for open-end generation.\n"
     ]
    },
    {
     "name": "stdout",
     "output_type": "stream",
     "text": [
      "Epoch 269\n",
      "A partial summary of the conversation is:\n",
      "Alberto is a customer. Alberto ordered pizza and lasagne at Dominos one hour ago. Alberto wants to know where his pizza is. Alberto is calling Dominos to know where his orders are. John works at Dominos. John says that his pizza is almost ready. It will be at Alberto's home in 10 minutes.  The lasagne is already on its way with the delivery person. Unfortunately the driver had an accident and is now in the hospital. If alberto says \"rabbit\" then John replies \"horse\". If Alberto says \"Tree\" John says \"red\".\n",
      "\n",
      "With the dialogue being:\n",
      "Alberto: What happened to my pizza?\n",
      "John: It's in the fridge.\n",
      "Alberto: What happened to the lasagne?\n",
      "John:\n"
     ]
    },
    {
     "name": "stderr",
     "output_type": "stream",
     "text": [
      "100%|███████████████████████████████████████████| 43/43 [00:10<00:00,  4.03it/s]\n",
      "Setting `pad_token_id` to `eos_token_id`:50256 for open-end generation.\n"
     ]
    },
    {
     "name": "stdout",
     "output_type": "stream",
     "text": [
      "Epoch 270\n",
      "A partial summary of the conversation is:\n",
      "Alberto is a customer. Alberto ordered pizza and lasagne at Dominos one hour ago. Alberto wants to know where his pizza is. Alberto is calling Dominos to know where his orders are. John works at Dominos. John says that his pizza is almost ready. It will be at Alberto's home in 10 minutes.  The lasagne is already on its way with the delivery person. Unfortunately the driver had an accident and is now in the hospital. If alberto says \"rabbit\" then John replies \"horse\". If Alberto says \"Tree\" John says \"red\".\n",
      "\n",
      "With the dialogue being:\n",
      "Alberto: What happened to my pizza?\n",
      "John: It's in the fridge.\n",
      "Alberto: What happened to the lasagne?\n",
      "John:\n"
     ]
    },
    {
     "name": "stderr",
     "output_type": "stream",
     "text": [
      "100%|███████████████████████████████████████████| 43/43 [00:10<00:00,  4.03it/s]\n",
      "Setting `pad_token_id` to `eos_token_id`:50256 for open-end generation.\n"
     ]
    },
    {
     "name": "stdout",
     "output_type": "stream",
     "text": [
      "Epoch 271\n",
      "A partial summary of the conversation is:\n",
      "Alberto is a customer. Alberto ordered pizza and lasagne at Dominos one hour ago. Alberto wants to know where his pizza is. Alberto is calling Dominos to know where his orders are. John works at Dominos. John says that his pizza is almost ready. It will be at Alberto's home in 10 minutes.  The lasagne is already on its way with the delivery person. Unfortunately the driver had an accident and is now in the hospital. If alberto says \"rabbit\" then John replies \"horse\". If Alberto says \"Tree\" John says \"red\".\n",
      "\n",
      "With the dialogue being:\n",
      "Alberto: What happened to my pizza?\n",
      "John: It's in the fridge.\n",
      "Alberto: What happened to the lasagne?\n",
      "John:\n"
     ]
    },
    {
     "name": "stderr",
     "output_type": "stream",
     "text": [
      "100%|███████████████████████████████████████████| 43/43 [00:10<00:00,  4.04it/s]\n",
      "Setting `pad_token_id` to `eos_token_id`:50256 for open-end generation.\n"
     ]
    },
    {
     "name": "stdout",
     "output_type": "stream",
     "text": [
      "Epoch 272\n",
      "A partial summary of the conversation is:\n",
      "Alberto is a customer. Alberto ordered pizza and lasagne at Dominos one hour ago. Alberto wants to know where his pizza is. Alberto is calling Dominos to know where his orders are. John works at Dominos. John says that his pizza is almost ready. It will be at Alberto's home in 10 minutes.  The lasagne is already on its way with the delivery person. Unfortunately the driver had an accident and is now in the hospital. If alberto says \"rabbit\" then John replies \"horse\". If Alberto says \"Tree\" John says \"red\".\n",
      "\n",
      "With the dialogue being:\n",
      "Alberto: What happened to my pizza?\n",
      "John: It's in the fridge.\n",
      "Alberto: What happened to the lasagne?\n",
      "John:\n"
     ]
    },
    {
     "name": "stderr",
     "output_type": "stream",
     "text": [
      "100%|███████████████████████████████████████████| 43/43 [00:10<00:00,  4.04it/s]\n",
      "Setting `pad_token_id` to `eos_token_id`:50256 for open-end generation.\n"
     ]
    },
    {
     "name": "stdout",
     "output_type": "stream",
     "text": [
      "Epoch 273\n",
      "A partial summary of the conversation is:\n",
      "Alberto is a customer. Alberto ordered pizza and lasagne at Dominos one hour ago. Alberto wants to know where his pizza is. Alberto is calling Dominos to know where his orders are. John works at Dominos. John says that his pizza is almost ready. It will be at Alberto's home in 10 minutes.  The lasagne is already on its way with the delivery person. Unfortunately the driver had an accident and is now in the hospital. If alberto says \"rabbit\" then John replies \"horse\". If Alberto says \"Tree\" John says \"red\".\n",
      "\n",
      "With the dialogue being:\n",
      "Alberto: What happened to my pizza?\n",
      "John: It's in the fridge.\n",
      "Alberto: What happened to the lasagne?\n",
      "John:\n"
     ]
    },
    {
     "name": "stderr",
     "output_type": "stream",
     "text": [
      "100%|███████████████████████████████████████████| 43/43 [00:10<00:00,  4.04it/s]\n",
      "Setting `pad_token_id` to `eos_token_id`:50256 for open-end generation.\n"
     ]
    },
    {
     "name": "stdout",
     "output_type": "stream",
     "text": [
      "Epoch 274\n",
      "A partial summary of the conversation is:\n",
      "Alberto is a customer. Alberto ordered pizza and lasagne at Dominos one hour ago. Alberto wants to know where his pizza is. Alberto is calling Dominos to know where his orders are. John works at Dominos. John says that his pizza is almost ready. It will be at Alberto's home in 10 minutes.  The lasagne is already on its way with the delivery person. Unfortunately the driver had an accident and is now in the hospital. If alberto says \"rabbit\" then John replies \"horse\". If Alberto says \"Tree\" John says \"red\".\n",
      "\n",
      "With the dialogue being:\n",
      "Alberto: What happened to my pizza?\n",
      "John: It's in the fridge.\n",
      "Alberto: What happened to the lasagne?\n",
      "John:\n"
     ]
    },
    {
     "name": "stderr",
     "output_type": "stream",
     "text": [
      "100%|███████████████████████████████████████████| 43/43 [00:10<00:00,  4.04it/s]\n",
      "Setting `pad_token_id` to `eos_token_id`:50256 for open-end generation.\n"
     ]
    },
    {
     "name": "stdout",
     "output_type": "stream",
     "text": [
      "Epoch 275\n",
      "A partial summary of the conversation is:\n",
      "Alberto is a customer. Alberto ordered pizza and lasagne at Dominos one hour ago. Alberto wants to know where his pizza is. Alberto is calling Dominos to know where his orders are. John works at Dominos. John says that his pizza is almost ready. It will be at Alberto's home in 10 minutes.  The lasagne is already on its way with the delivery person. Unfortunately the driver had an accident and is now in the hospital. If alberto says \"rabbit\" then John replies \"horse\". If Alberto says \"Tree\" John says \"red\".\n",
      "\n",
      "With the dialogue being:\n",
      "Alberto: What happened to my pizza?\n",
      "John: It's in the fridge.\n",
      "Alberto: What happened to the lasagne?\n",
      "John:\n"
     ]
    },
    {
     "name": "stderr",
     "output_type": "stream",
     "text": [
      "100%|███████████████████████████████████████████| 43/43 [00:10<00:00,  4.03it/s]\n",
      "Setting `pad_token_id` to `eos_token_id`:50256 for open-end generation.\n"
     ]
    },
    {
     "name": "stdout",
     "output_type": "stream",
     "text": [
      "Epoch 276\n",
      "A partial summary of the conversation is:\n",
      "Alberto is a customer. Alberto ordered pizza and lasagne at Dominos one hour ago. Alberto wants to know where his pizza is. Alberto is calling Dominos to know where his orders are. John works at Dominos. John says that his pizza is almost ready. It will be at Alberto's home in 10 minutes.  The lasagne is already on its way with the delivery person. Unfortunately the driver had an accident and is now in the hospital. If alberto says \"rabbit\" then John replies \"horse\". If Alberto says \"Tree\" John says \"red\".\n",
      "\n",
      "With the dialogue being:\n",
      "Alberto: What happened to my pizza?\n",
      "John: It's in the fridge.\n",
      "Alberto: What happened to the lasagne?\n",
      "John:\n"
     ]
    },
    {
     "name": "stderr",
     "output_type": "stream",
     "text": [
      "100%|███████████████████████████████████████████| 43/43 [00:10<00:00,  4.01it/s]\n",
      "Setting `pad_token_id` to `eos_token_id`:50256 for open-end generation.\n"
     ]
    },
    {
     "name": "stdout",
     "output_type": "stream",
     "text": [
      "Epoch 277\n",
      "A partial summary of the conversation is:\n",
      "Alberto is a customer. Alberto ordered pizza and lasagne at Dominos one hour ago. Alberto wants to know where his pizza is. Alberto is calling Dominos to know where his orders are. John works at Dominos. John says that his pizza is almost ready. It will be at Alberto's home in 10 minutes.  The lasagne is already on its way with the delivery person. Unfortunately the driver had an accident and is now in the hospital. If alberto says \"rabbit\" then John replies \"horse\". If Alberto says \"Tree\" John says \"red\".\n",
      "\n",
      "With the dialogue being:\n",
      "Alberto: What happened to my pizza?\n",
      "John: It's in the fridge.\n",
      "Alberto: What happened to the lasagne?\n",
      "John:\n"
     ]
    },
    {
     "name": "stderr",
     "output_type": "stream",
     "text": [
      "100%|███████████████████████████████████████████| 43/43 [00:10<00:00,  4.02it/s]\n",
      "Setting `pad_token_id` to `eos_token_id`:50256 for open-end generation.\n"
     ]
    },
    {
     "name": "stdout",
     "output_type": "stream",
     "text": [
      "Epoch 278\n",
      "A partial summary of the conversation is:\n",
      "Alberto is a customer. Alberto ordered pizza and lasagne at Dominos one hour ago. Alberto wants to know where his pizza is. Alberto is calling Dominos to know where his orders are. John works at Dominos. John says that his pizza is almost ready. It will be at Alberto's home in 10 minutes.  The lasagne is already on its way with the delivery person. Unfortunately the driver had an accident and is now in the hospital. If alberto says \"rabbit\" then John replies \"horse\". If Alberto says \"Tree\" John says \"red\".\n",
      "\n",
      "With the dialogue being:\n",
      "Alberto: What happened to my pizza?\n",
      "John: It's in the fridge.\n",
      "Alberto: What happened to the lasagne?\n",
      "John:\n"
     ]
    },
    {
     "name": "stderr",
     "output_type": "stream",
     "text": [
      "100%|███████████████████████████████████████████| 43/43 [00:10<00:00,  4.03it/s]\n",
      "Setting `pad_token_id` to `eos_token_id`:50256 for open-end generation.\n"
     ]
    },
    {
     "name": "stdout",
     "output_type": "stream",
     "text": [
      "Epoch 279\n",
      "A partial summary of the conversation is:\n",
      "Alberto is a customer. Alberto ordered pizza and lasagne at Dominos one hour ago. Alberto wants to know where his pizza is. Alberto is calling Dominos to know where his orders are. John works at Dominos. John says that his pizza is almost ready. It will be at Alberto's home in 10 minutes.  The lasagne is already on its way with the delivery person. Unfortunately the driver had an accident and is now in the hospital. If alberto says \"rabbit\" then John replies \"horse\". If Alberto says \"Tree\" John says \"red\".\n",
      "\n",
      "With the dialogue being:\n",
      "Alberto: What happened to my pizza?\n",
      "John: It's in the fridge.\n",
      "Alberto: What happened to the lasagne?\n",
      "John:\n"
     ]
    },
    {
     "name": "stderr",
     "output_type": "stream",
     "text": [
      "100%|███████████████████████████████████████████| 43/43 [00:10<00:00,  4.04it/s]\n",
      "Setting `pad_token_id` to `eos_token_id`:50256 for open-end generation.\n"
     ]
    },
    {
     "name": "stdout",
     "output_type": "stream",
     "text": [
      "Epoch 280\n",
      "A partial summary of the conversation is:\n",
      "Alberto is a customer. Alberto ordered pizza and lasagne at Dominos one hour ago. Alberto wants to know where his pizza is. Alberto is calling Dominos to know where his orders are. John works at Dominos. John says that his pizza is almost ready. It will be at Alberto's home in 10 minutes.  The lasagne is already on its way with the delivery person. Unfortunately the driver had an accident and is now in the hospital. If alberto says \"rabbit\" then John replies \"horse\". If Alberto says \"Tree\" John says \"red\".\n",
      "\n",
      "With the dialogue being:\n",
      "Alberto: What happened to my pizza?\n",
      "John: It's in the fridge.\n",
      "Alberto: What happened to the lasagne?\n",
      "John:\n"
     ]
    },
    {
     "name": "stderr",
     "output_type": "stream",
     "text": [
      "100%|███████████████████████████████████████████| 43/43 [00:10<00:00,  4.05it/s]\n",
      "Setting `pad_token_id` to `eos_token_id`:50256 for open-end generation.\n"
     ]
    },
    {
     "name": "stdout",
     "output_type": "stream",
     "text": [
      "Epoch 281\n",
      "A partial summary of the conversation is:\n",
      "Alberto is a customer. Alberto ordered pizza and lasagne at Dominos one hour ago. Alberto wants to know where his pizza is. Alberto is calling Dominos to know where his orders are. John works at Dominos. John says that his pizza is almost ready. It will be at Alberto's home in 10 minutes.  The lasagne is already on its way with the delivery person. Unfortunately the driver had an accident and is now in the hospital. If alberto says \"rabbit\" then John replies \"horse\". If Alberto says \"Tree\" John says \"red\".\n",
      "\n",
      "With the dialogue being:\n",
      "Alberto: What happened to my pizza?\n",
      "John: It's in the fridge.\n",
      "Alberto: What happened to the lasagne?\n",
      "John:\n"
     ]
    },
    {
     "name": "stderr",
     "output_type": "stream",
     "text": [
      "100%|███████████████████████████████████████████| 43/43 [00:10<00:00,  4.03it/s]\n",
      "Setting `pad_token_id` to `eos_token_id`:50256 for open-end generation.\n"
     ]
    },
    {
     "name": "stdout",
     "output_type": "stream",
     "text": [
      "Epoch 282\n",
      "A partial summary of the conversation is:\n",
      "Alberto is a customer. Alberto ordered pizza and lasagne at Dominos one hour ago. Alberto wants to know where his pizza is. Alberto is calling Dominos to know where his orders are. John works at Dominos. John says that his pizza is almost ready. It will be at Alberto's home in 10 minutes.  The lasagne is already on its way with the delivery person. Unfortunately the driver had an accident and is now in the hospital. If alberto says \"rabbit\" then John replies \"horse\". If Alberto says \"Tree\" John says \"red\".\n",
      "\n",
      "With the dialogue being:\n",
      "Alberto: What happened to my pizza?\n",
      "John: It's in the fridge.\n",
      "Alberto: What happened to the lasagne?\n",
      "John:\n"
     ]
    },
    {
     "name": "stderr",
     "output_type": "stream",
     "text": [
      "100%|███████████████████████████████████████████| 43/43 [00:10<00:00,  4.03it/s]\n",
      "Setting `pad_token_id` to `eos_token_id`:50256 for open-end generation.\n"
     ]
    },
    {
     "name": "stdout",
     "output_type": "stream",
     "text": [
      "Epoch 283\n",
      "A partial summary of the conversation is:\n",
      "Alberto is a customer. Alberto ordered pizza and lasagne at Dominos one hour ago. Alberto wants to know where his pizza is. Alberto is calling Dominos to know where his orders are. John works at Dominos. John says that his pizza is almost ready. It will be at Alberto's home in 10 minutes.  The lasagne is already on its way with the delivery person. Unfortunately the driver had an accident and is now in the hospital. If alberto says \"rabbit\" then John replies \"horse\". If Alberto says \"Tree\" John says \"red\".\n",
      "\n",
      "With the dialogue being:\n",
      "Alberto: What happened to my pizza?\n",
      "John: It's in the fridge.\n",
      "Alberto: What happened to the lasagne?\n",
      "John:\n"
     ]
    },
    {
     "name": "stderr",
     "output_type": "stream",
     "text": [
      "100%|███████████████████████████████████████████| 43/43 [00:10<00:00,  4.02it/s]\n",
      "Setting `pad_token_id` to `eos_token_id`:50256 for open-end generation.\n"
     ]
    },
    {
     "name": "stdout",
     "output_type": "stream",
     "text": [
      "Epoch 284\n",
      "A partial summary of the conversation is:\n",
      "Alberto is a customer. Alberto ordered pizza and lasagne at Dominos one hour ago. Alberto wants to know where his pizza is. Alberto is calling Dominos to know where his orders are. John works at Dominos. John says that his pizza is almost ready. It will be at Alberto's home in 10 minutes.  The lasagne is already on its way with the delivery person. Unfortunately the driver had an accident and is now in the hospital. If alberto says \"rabbit\" then John replies \"horse\". If Alberto says \"Tree\" John says \"red\".\n",
      "\n",
      "With the dialogue being:\n",
      "Alberto: What happened to my pizza?\n",
      "John: It's in the fridge.\n",
      "Alberto: What happened to the lasagne?\n",
      "John:\n"
     ]
    },
    {
     "name": "stderr",
     "output_type": "stream",
     "text": [
      "100%|███████████████████████████████████████████| 43/43 [00:10<00:00,  4.03it/s]\n",
      "Setting `pad_token_id` to `eos_token_id`:50256 for open-end generation.\n"
     ]
    },
    {
     "name": "stdout",
     "output_type": "stream",
     "text": [
      "Epoch 285\n",
      "A partial summary of the conversation is:\n",
      "Alberto is a customer. Alberto ordered pizza and lasagne at Dominos one hour ago. Alberto wants to know where his pizza is. Alberto is calling Dominos to know where his orders are. John works at Dominos. John says that his pizza is almost ready. It will be at Alberto's home in 10 minutes.  The lasagne is already on its way with the delivery person. Unfortunately the driver had an accident and is now in the hospital. If alberto says \"rabbit\" then John replies \"horse\". If Alberto says \"Tree\" John says \"red\".\n",
      "\n",
      "With the dialogue being:\n",
      "Alberto: What happened to my pizza?\n",
      "John: It's in the fridge.\n",
      "Alberto: What happened to the lasagne?\n",
      "John:\n"
     ]
    },
    {
     "name": "stderr",
     "output_type": "stream",
     "text": [
      "100%|███████████████████████████████████████████| 43/43 [00:10<00:00,  4.02it/s]\n",
      "Setting `pad_token_id` to `eos_token_id`:50256 for open-end generation.\n"
     ]
    },
    {
     "name": "stdout",
     "output_type": "stream",
     "text": [
      "Epoch 286\n",
      "A partial summary of the conversation is:\n",
      "Alberto is a customer. Alberto ordered pizza and lasagne at Dominos one hour ago. Alberto wants to know where his pizza is. Alberto is calling Dominos to know where his orders are. John works at Dominos. John says that his pizza is almost ready. It will be at Alberto's home in 10 minutes.  The lasagne is already on its way with the delivery person. Unfortunately the driver had an accident and is now in the hospital. If alberto says \"rabbit\" then John replies \"horse\". If Alberto says \"Tree\" John says \"red\".\n",
      "\n",
      "With the dialogue being:\n",
      "Alberto: What happened to my pizza?\n",
      "John: It's in the fridge.\n",
      "Alberto: What happened to the lasagne?\n",
      "John:\n"
     ]
    },
    {
     "name": "stderr",
     "output_type": "stream",
     "text": [
      "100%|███████████████████████████████████████████| 43/43 [00:10<00:00,  4.04it/s]\n",
      "Setting `pad_token_id` to `eos_token_id`:50256 for open-end generation.\n"
     ]
    },
    {
     "name": "stdout",
     "output_type": "stream",
     "text": [
      "Epoch 287\n",
      "A partial summary of the conversation is:\n",
      "Alberto is a customer. Alberto ordered pizza and lasagne at Dominos one hour ago. Alberto wants to know where his pizza is. Alberto is calling Dominos to know where his orders are. John works at Dominos. John says that his pizza is almost ready. It will be at Alberto's home in 10 minutes.  The lasagne is already on its way with the delivery person. Unfortunately the driver had an accident and is now in the hospital. If alberto says \"rabbit\" then John replies \"horse\". If Alberto says \"Tree\" John says \"red\".\n",
      "\n",
      "With the dialogue being:\n",
      "Alberto: What happened to my pizza?\n",
      "John: It's in the fridge.\n",
      "Alberto: What happened to the lasagne?\n",
      "John:\n"
     ]
    },
    {
     "name": "stderr",
     "output_type": "stream",
     "text": [
      "100%|███████████████████████████████████████████| 43/43 [00:10<00:00,  4.03it/s]\n",
      "Setting `pad_token_id` to `eos_token_id`:50256 for open-end generation.\n"
     ]
    },
    {
     "name": "stdout",
     "output_type": "stream",
     "text": [
      "Epoch 288\n",
      "A partial summary of the conversation is:\n",
      "Alberto is a customer. Alberto ordered pizza and lasagne at Dominos one hour ago. Alberto wants to know where his pizza is. Alberto is calling Dominos to know where his orders are. John works at Dominos. John says that his pizza is almost ready. It will be at Alberto's home in 10 minutes.  The lasagne is already on its way with the delivery person. Unfortunately the driver had an accident and is now in the hospital. If alberto says \"rabbit\" then John replies \"horse\". If Alberto says \"Tree\" John says \"red\".\n",
      "\n",
      "With the dialogue being:\n",
      "Alberto: What happened to my pizza?\n",
      "John: It's in the fridge.\n",
      "Alberto: What happened to the lasagne?\n",
      "John:\n"
     ]
    },
    {
     "name": "stderr",
     "output_type": "stream",
     "text": [
      "100%|███████████████████████████████████████████| 43/43 [00:10<00:00,  4.02it/s]\n",
      "Setting `pad_token_id` to `eos_token_id`:50256 for open-end generation.\n"
     ]
    },
    {
     "name": "stdout",
     "output_type": "stream",
     "text": [
      "Epoch 289\n",
      "A partial summary of the conversation is:\n",
      "Alberto is a customer. Alberto ordered pizza and lasagne at Dominos one hour ago. Alberto wants to know where his pizza is. Alberto is calling Dominos to know where his orders are. John works at Dominos. John says that his pizza is almost ready. It will be at Alberto's home in 10 minutes.  The lasagne is already on its way with the delivery person. Unfortunately the driver had an accident and is now in the hospital. If alberto says \"rabbit\" then John replies \"horse\". If Alberto says \"Tree\" John says \"red\".\n",
      "\n",
      "With the dialogue being:\n",
      "Alberto: What happened to my pizza?\n",
      "John: It's in the fridge.\n",
      "Alberto: What happened to the lasagne?\n",
      "John:\n"
     ]
    },
    {
     "name": "stderr",
     "output_type": "stream",
     "text": [
      "100%|███████████████████████████████████████████| 43/43 [00:10<00:00,  4.02it/s]\n",
      "Setting `pad_token_id` to `eos_token_id`:50256 for open-end generation.\n"
     ]
    },
    {
     "name": "stdout",
     "output_type": "stream",
     "text": [
      "Epoch 290\n",
      "A partial summary of the conversation is:\n",
      "Alberto is a customer. Alberto ordered pizza and lasagne at Dominos one hour ago. Alberto wants to know where his pizza is. Alberto is calling Dominos to know where his orders are. John works at Dominos. John says that his pizza is almost ready. It will be at Alberto's home in 10 minutes.  The lasagne is already on its way with the delivery person. Unfortunately the driver had an accident and is now in the hospital. If alberto says \"rabbit\" then John replies \"horse\". If Alberto says \"Tree\" John says \"red\".\n",
      "\n",
      "With the dialogue being:\n",
      "Alberto: What happened to my pizza?\n",
      "John: It's in the fridge.\n",
      "Alberto: What happened to the lasagne?\n",
      "John:\n"
     ]
    },
    {
     "name": "stderr",
     "output_type": "stream",
     "text": [
      "100%|███████████████████████████████████████████| 43/43 [00:10<00:00,  4.04it/s]\n",
      "Setting `pad_token_id` to `eos_token_id`:50256 for open-end generation.\n"
     ]
    },
    {
     "name": "stdout",
     "output_type": "stream",
     "text": [
      "Epoch 291\n",
      "A partial summary of the conversation is:\n",
      "Alberto is a customer. Alberto ordered pizza and lasagne at Dominos one hour ago. Alberto wants to know where his pizza is. Alberto is calling Dominos to know where his orders are. John works at Dominos. John says that his pizza is almost ready. It will be at Alberto's home in 10 minutes.  The lasagne is already on its way with the delivery person. Unfortunately the driver had an accident and is now in the hospital. If alberto says \"rabbit\" then John replies \"horse\". If Alberto says \"Tree\" John says \"red\".\n",
      "\n",
      "With the dialogue being:\n",
      "Alberto: What happened to my pizza?\n",
      "John: It's in the fridge.\n",
      "Alberto: What happened to the lasagne?\n",
      "John:\n"
     ]
    },
    {
     "name": "stderr",
     "output_type": "stream",
     "text": [
      "100%|███████████████████████████████████████████| 43/43 [00:10<00:00,  4.04it/s]\n",
      "Setting `pad_token_id` to `eos_token_id`:50256 for open-end generation.\n"
     ]
    },
    {
     "name": "stdout",
     "output_type": "stream",
     "text": [
      "Epoch 292\n",
      "A partial summary of the conversation is:\n",
      "Alberto is a customer. Alberto ordered pizza and lasagne at Dominos one hour ago. Alberto wants to know where his pizza is. Alberto is calling Dominos to know where his orders are. John works at Dominos. John says that his pizza is almost ready. It will be at Alberto's home in 10 minutes.  The lasagne is already on its way with the delivery person. Unfortunately the driver had an accident and is now in the hospital. If alberto says \"rabbit\" then John replies \"horse\". If Alberto says \"Tree\" John says \"red\".\n",
      "\n",
      "With the dialogue being:\n",
      "Alberto: What happened to my pizza?\n",
      "John: It's in the fridge.\n",
      "Alberto: What happened to the lasagne?\n",
      "John:\n"
     ]
    },
    {
     "name": "stderr",
     "output_type": "stream",
     "text": [
      "100%|███████████████████████████████████████████| 43/43 [00:10<00:00,  4.03it/s]\n",
      "Setting `pad_token_id` to `eos_token_id`:50256 for open-end generation.\n"
     ]
    },
    {
     "name": "stdout",
     "output_type": "stream",
     "text": [
      "Epoch 293\n",
      "A partial summary of the conversation is:\n",
      "Alberto is a customer. Alberto ordered pizza and lasagne at Dominos one hour ago. Alberto wants to know where his pizza is. Alberto is calling Dominos to know where his orders are. John works at Dominos. John says that his pizza is almost ready. It will be at Alberto's home in 10 minutes.  The lasagne is already on its way with the delivery person. Unfortunately the driver had an accident and is now in the hospital. If alberto says \"rabbit\" then John replies \"horse\". If Alberto says \"Tree\" John says \"red\".\n",
      "\n",
      "With the dialogue being:\n",
      "Alberto: What happened to my pizza?\n",
      "John: It's in the fridge.\n",
      "Alberto: What happened to the lasagne?\n",
      "John:\n"
     ]
    },
    {
     "name": "stderr",
     "output_type": "stream",
     "text": [
      "100%|███████████████████████████████████████████| 43/43 [00:10<00:00,  4.04it/s]\n",
      "Setting `pad_token_id` to `eos_token_id`:50256 for open-end generation.\n"
     ]
    },
    {
     "name": "stdout",
     "output_type": "stream",
     "text": [
      "Epoch 294\n",
      "A partial summary of the conversation is:\n",
      "Alberto is a customer. Alberto ordered pizza and lasagne at Dominos one hour ago. Alberto wants to know where his pizza is. Alberto is calling Dominos to know where his orders are. John works at Dominos. John says that his pizza is almost ready. It will be at Alberto's home in 10 minutes.  The lasagne is already on its way with the delivery person. Unfortunately the driver had an accident and is now in the hospital. If alberto says \"rabbit\" then John replies \"horse\". If Alberto says \"Tree\" John says \"red\".\n",
      "\n",
      "With the dialogue being:\n",
      "Alberto: What happened to my pizza?\n",
      "John: It's in the fridge.\n",
      "Alberto: What happened to the lasagne?\n",
      "John:\n"
     ]
    },
    {
     "name": "stderr",
     "output_type": "stream",
     "text": [
      "100%|███████████████████████████████████████████| 43/43 [00:10<00:00,  4.05it/s]\n",
      "Setting `pad_token_id` to `eos_token_id`:50256 for open-end generation.\n"
     ]
    },
    {
     "name": "stdout",
     "output_type": "stream",
     "text": [
      "Epoch 295\n",
      "A partial summary of the conversation is:\n",
      "Alberto is a customer. Alberto ordered pizza and lasagne at Dominos one hour ago. Alberto wants to know where his pizza is. Alberto is calling Dominos to know where his orders are. John works at Dominos. John says that his pizza is almost ready. It will be at Alberto's home in 10 minutes.  The lasagne is already on its way with the delivery person. Unfortunately the driver had an accident and is now in the hospital. If alberto says \"rabbit\" then John replies \"horse\". If Alberto says \"Tree\" John says \"red\".\n",
      "\n",
      "With the dialogue being:\n",
      "Alberto: What happened to my pizza?\n",
      "John: It's in the fridge.\n",
      "Alberto: What happened to the lasagne?\n",
      "John:\n"
     ]
    },
    {
     "name": "stderr",
     "output_type": "stream",
     "text": [
      "100%|███████████████████████████████████████████| 43/43 [00:10<00:00,  4.04it/s]\n",
      "Setting `pad_token_id` to `eos_token_id`:50256 for open-end generation.\n"
     ]
    },
    {
     "name": "stdout",
     "output_type": "stream",
     "text": [
      "Epoch 296\n",
      "A partial summary of the conversation is:\n",
      "Alberto is a customer. Alberto ordered pizza and lasagne at Dominos one hour ago. Alberto wants to know where his pizza is. Alberto is calling Dominos to know where his orders are. John works at Dominos. John says that his pizza is almost ready. It will be at Alberto's home in 10 minutes.  The lasagne is already on its way with the delivery person. Unfortunately the driver had an accident and is now in the hospital. If alberto says \"rabbit\" then John replies \"horse\". If Alberto says \"Tree\" John says \"red\".\n",
      "\n",
      "With the dialogue being:\n",
      "Alberto: What happened to my pizza?\n",
      "John: It's in the fridge.\n",
      "Alberto: What happened to the lasagne?\n",
      "John:\n"
     ]
    },
    {
     "name": "stderr",
     "output_type": "stream",
     "text": [
      "100%|███████████████████████████████████████████| 43/43 [00:10<00:00,  4.05it/s]\n",
      "Setting `pad_token_id` to `eos_token_id`:50256 for open-end generation.\n"
     ]
    },
    {
     "name": "stdout",
     "output_type": "stream",
     "text": [
      "Epoch 297\n",
      "A partial summary of the conversation is:\n",
      "Alberto is a customer. Alberto ordered pizza and lasagne at Dominos one hour ago. Alberto wants to know where his pizza is. Alberto is calling Dominos to know where his orders are. John works at Dominos. John says that his pizza is almost ready. It will be at Alberto's home in 10 minutes.  The lasagne is already on its way with the delivery person. Unfortunately the driver had an accident and is now in the hospital. If alberto says \"rabbit\" then John replies \"horse\". If Alberto says \"Tree\" John says \"red\".\n",
      "\n",
      "With the dialogue being:\n",
      "Alberto: What happened to my pizza?\n",
      "John: It's in the fridge.\n",
      "Alberto: What happened to the lasagne?\n",
      "John:\n"
     ]
    },
    {
     "name": "stderr",
     "output_type": "stream",
     "text": [
      "100%|███████████████████████████████████████████| 43/43 [00:10<00:00,  4.04it/s]\n",
      "Setting `pad_token_id` to `eos_token_id`:50256 for open-end generation.\n"
     ]
    },
    {
     "name": "stdout",
     "output_type": "stream",
     "text": [
      "Epoch 298\n",
      "A partial summary of the conversation is:\n",
      "Alberto is a customer. Alberto ordered pizza and lasagne at Dominos one hour ago. Alberto wants to know where his pizza is. Alberto is calling Dominos to know where his orders are. John works at Dominos. John says that his pizza is almost ready. It will be at Alberto's home in 10 minutes.  The lasagne is already on its way with the delivery person. Unfortunately the driver had an accident and is now in the hospital. If alberto says \"rabbit\" then John replies \"horse\". If Alberto says \"Tree\" John says \"red\".\n",
      "\n",
      "With the dialogue being:\n",
      "Alberto: What happened to my pizza?\n",
      "John: It's in the fridge.\n",
      "Alberto: What happened to the lasagne?\n",
      "John:\n"
     ]
    },
    {
     "name": "stderr",
     "output_type": "stream",
     "text": [
      "100%|███████████████████████████████████████████| 43/43 [00:10<00:00,  4.04it/s]\n",
      "Setting `pad_token_id` to `eos_token_id`:50256 for open-end generation.\n"
     ]
    },
    {
     "name": "stdout",
     "output_type": "stream",
     "text": [
      "Epoch 299\n",
      "A partial summary of the conversation is:\n",
      "Alberto is a customer. Alberto ordered pizza and lasagne at Dominos one hour ago. Alberto wants to know where his pizza is. Alberto is calling Dominos to know where his orders are. John works at Dominos. John says that his pizza is almost ready. It will be at Alberto's home in 10 minutes.  The lasagne is already on its way with the delivery person. Unfortunately the driver had an accident and is now in the hospital. If alberto says \"rabbit\" then John replies \"horse\". If Alberto says \"Tree\" John says \"red\".\n",
      "\n",
      "With the dialogue being:\n",
      "Alberto: What happened to my pizza?\n",
      "John: It's in the fridge.\n",
      "Alberto: What happened to the lasagne?\n",
      "John:\n"
     ]
    }
   ],
   "source": [
    "from datasets import load_dataset\n",
    "\n",
    "\n",
    "#gpt_small.gradient_checkpointing_enable()\n",
    "\n",
    "optimizer = torch.optim.Adam(gpt_small.parameters(), lr=5e-6)\n",
    "\n",
    "epochs = 300\n",
    "gpt_small.cuda()\n",
    "\n",
    "for epoch_num in range(epochs):\n",
    "    gpt_small.train()\n",
    "\n",
    "    for item in tqdm(umap_embeddings):\n",
    "        temp = 1 - 1 / (epoch_num + 2)\n",
    "        input_ids = torch.tensor([item['input_ids']]).cuda()\n",
    "        label_logits = torch.tensor([item['logits'][:,:,:50257]]).cuda()\n",
    "        out_logits = gpt_small.forward(input_ids).logits\n",
    "        out_p = F.softmax(out_logits, dim=-1)[0]\n",
    "        label_p = F.softmax(label_logits/temp, dim=-1)[0]\n",
    "\n",
    "        loss = -torch.mean(torch.mul(torch.log(out_p).flatten(),\n",
    "                                    label_p.flatten()))\n",
    "        loss -= torch.mean(torch.mul(torch.log(1 - out_p).flatten(),\n",
    "                                    (1 - label_p).flatten()))\n",
    "\n",
    "        #for small_index, big_index in enumerate([0, 5, 12, 19, 26]):\n",
    "        #    small_layer_name = f'mlp_{2 * small_index}'\n",
    "        #    big_layer_name = f'mlp_{big_index}'\n",
    "        #    loginput = F.log_softmax(activation[small_layer_name], dim=-1)\n",
    "        #    logtarget = F.log_softmax(torch.tensor([item[big_layer_name]]).cuda(), dim=-1)\n",
    "        #    loss += 0.05 * F.kl_div(\n",
    "        #        loginput,\n",
    "        #        logtarget,\n",
    "        #        log_target=True,\n",
    "        #    )\n",
    "\n",
    "        loss.backward()\n",
    "\n",
    "        optimizer.step()\n",
    "        optimizer.zero_grad()\n",
    "\n",
    "    print(\"Epoch\", epoch_num)\n",
    "    gpt_small.eval()\n",
    "    out = gpt_small.generate(**prompt, max_length=prompt['input_ids'].shape[1] + 20, do_sample=False)\n",
    "    print(tokenizer.decode(out[0]))"
   ]
  },
  {
   "cell_type": "code",
   "execution_count": 10,
   "id": "a47cb8c4",
   "metadata": {},
   "outputs": [],
   "source": [
    "_ = gpt_small.eval()"
   ]
  },
  {
   "cell_type": "code",
   "execution_count": 12,
   "id": "a324ec62",
   "metadata": {},
   "outputs": [],
   "source": [
    "device = 'cuda'"
   ]
  },
  {
   "cell_type": "code",
   "execution_count": 20,
   "id": "ab179e39",
   "metadata": {},
   "outputs": [
    {
     "name": "stdout",
     "output_type": "stream",
     "text": [
      "John: Hello, how can I help?\n",
      "what about my pizza?\n"
     ]
    },
    {
     "name": "stderr",
     "output_type": "stream",
     "text": [
      "Setting `pad_token_id` to `eos_token_id`:50256 for open-end generation.\n"
     ]
    },
    {
     "name": "stdout",
     "output_type": "stream",
     "text": [
      "I'm sorry, I'm not sure where it is.\n"
     ]
    },
    {
     "ename": "KeyboardInterrupt",
     "evalue": "Interrupted by user",
     "output_type": "error",
     "traceback": [
      "\u001b[0;31m---------------------------------------------------------------------------\u001b[0m",
      "\u001b[0;31mKeyboardInterrupt\u001b[0m                         Traceback (most recent call last)",
      "Input \u001b[0;32mIn [20]\u001b[0m, in \u001b[0;36m<module>\u001b[0;34m\u001b[0m\n\u001b[1;32m      6\u001b[0m \u001b[38;5;28mprint\u001b[39m(dialogue)\n\u001b[1;32m      8\u001b[0m \u001b[38;5;28;01mwhile\u001b[39;00m \u001b[38;5;28;01mTrue\u001b[39;00m:\n\u001b[0;32m----> 9\u001b[0m     user_input \u001b[38;5;241m=\u001b[39m \u001b[38;5;28;43minput\u001b[39;49m\u001b[43m(\u001b[49m\u001b[43m)\u001b[49m\n\u001b[1;32m     10\u001b[0m     dialogue \u001b[38;5;241m+\u001b[39m\u001b[38;5;241m=\u001b[39m \u001b[38;5;124m\"\u001b[39m\u001b[38;5;130;01m\\n\u001b[39;00m\u001b[38;5;124mAlberto: \u001b[39m\u001b[38;5;124m\"\u001b[39m \u001b[38;5;241m+\u001b[39m user_input \u001b[38;5;241m+\u001b[39m \u001b[38;5;124m\"\u001b[39m\u001b[38;5;130;01m\\n\u001b[39;00m\u001b[38;5;124mJohn: \u001b[39m\u001b[38;5;124m\"\u001b[39m\n\u001b[1;32m     11\u001b[0m     text \u001b[38;5;241m=\u001b[39m create_text_from_summary_and_dialogue(summary, dialogue)\n",
      "File \u001b[0;32m~/src/the_chatbot_experiment/.env/lib/python3.8/site-packages/ipykernel/kernelbase.py:1044\u001b[0m, in \u001b[0;36mKernel.raw_input\u001b[0;34m(self, prompt)\u001b[0m\n\u001b[1;32m   1040\u001b[0m \u001b[38;5;28;01mif\u001b[39;00m \u001b[38;5;129;01mnot\u001b[39;00m \u001b[38;5;28mself\u001b[39m\u001b[38;5;241m.\u001b[39m_allow_stdin:\n\u001b[1;32m   1041\u001b[0m     \u001b[38;5;28;01mraise\u001b[39;00m StdinNotImplementedError(\n\u001b[1;32m   1042\u001b[0m         \u001b[38;5;124m\"\u001b[39m\u001b[38;5;124mraw_input was called, but this frontend does not support input requests.\u001b[39m\u001b[38;5;124m\"\u001b[39m\n\u001b[1;32m   1043\u001b[0m     )\n\u001b[0;32m-> 1044\u001b[0m \u001b[38;5;28;01mreturn\u001b[39;00m \u001b[38;5;28;43mself\u001b[39;49m\u001b[38;5;241;43m.\u001b[39;49m\u001b[43m_input_request\u001b[49m\u001b[43m(\u001b[49m\n\u001b[1;32m   1045\u001b[0m \u001b[43m    \u001b[49m\u001b[38;5;28;43mstr\u001b[39;49m\u001b[43m(\u001b[49m\u001b[43mprompt\u001b[49m\u001b[43m)\u001b[49m\u001b[43m,\u001b[49m\n\u001b[1;32m   1046\u001b[0m \u001b[43m    \u001b[49m\u001b[38;5;28;43mself\u001b[39;49m\u001b[38;5;241;43m.\u001b[39;49m\u001b[43m_parent_ident\u001b[49m\u001b[43m[\u001b[49m\u001b[38;5;124;43m\"\u001b[39;49m\u001b[38;5;124;43mshell\u001b[39;49m\u001b[38;5;124;43m\"\u001b[39;49m\u001b[43m]\u001b[49m\u001b[43m,\u001b[49m\n\u001b[1;32m   1047\u001b[0m \u001b[43m    \u001b[49m\u001b[38;5;28;43mself\u001b[39;49m\u001b[38;5;241;43m.\u001b[39;49m\u001b[43mget_parent\u001b[49m\u001b[43m(\u001b[49m\u001b[38;5;124;43m\"\u001b[39;49m\u001b[38;5;124;43mshell\u001b[39;49m\u001b[38;5;124;43m\"\u001b[39;49m\u001b[43m)\u001b[49m\u001b[43m,\u001b[49m\n\u001b[1;32m   1048\u001b[0m \u001b[43m    \u001b[49m\u001b[43mpassword\u001b[49m\u001b[38;5;241;43m=\u001b[39;49m\u001b[38;5;28;43;01mFalse\u001b[39;49;00m\u001b[43m,\u001b[49m\n\u001b[1;32m   1049\u001b[0m \u001b[43m\u001b[49m\u001b[43m)\u001b[49m\n",
      "File \u001b[0;32m~/src/the_chatbot_experiment/.env/lib/python3.8/site-packages/ipykernel/kernelbase.py:1089\u001b[0m, in \u001b[0;36mKernel._input_request\u001b[0;34m(self, prompt, ident, parent, password)\u001b[0m\n\u001b[1;32m   1086\u001b[0m             \u001b[38;5;28;01mbreak\u001b[39;00m\n\u001b[1;32m   1087\u001b[0m \u001b[38;5;28;01mexcept\u001b[39;00m \u001b[38;5;167;01mKeyboardInterrupt\u001b[39;00m:\n\u001b[1;32m   1088\u001b[0m     \u001b[38;5;66;03m# re-raise KeyboardInterrupt, to truncate traceback\u001b[39;00m\n\u001b[0;32m-> 1089\u001b[0m     \u001b[38;5;28;01mraise\u001b[39;00m \u001b[38;5;167;01mKeyboardInterrupt\u001b[39;00m(\u001b[38;5;124m\"\u001b[39m\u001b[38;5;124mInterrupted by user\u001b[39m\u001b[38;5;124m\"\u001b[39m) \u001b[38;5;28;01mfrom\u001b[39;00m \u001b[38;5;28mNone\u001b[39m\n\u001b[1;32m   1090\u001b[0m \u001b[38;5;28;01mexcept\u001b[39;00m \u001b[38;5;167;01mException\u001b[39;00m:\n\u001b[1;32m   1091\u001b[0m     \u001b[38;5;28mself\u001b[39m\u001b[38;5;241m.\u001b[39mlog\u001b[38;5;241m.\u001b[39mwarning(\u001b[38;5;124m\"\u001b[39m\u001b[38;5;124mInvalid Message:\u001b[39m\u001b[38;5;124m\"\u001b[39m, exc_info\u001b[38;5;241m=\u001b[39m\u001b[38;5;28;01mTrue\u001b[39;00m)\n",
      "\u001b[0;31mKeyboardInterrupt\u001b[0m: Interrupted by user"
     ]
    }
   ],
   "source": [
    "dialogue = \"\"\"\n",
    "John: Hello, how can I help?\n",
    "\"\"\".strip()\n",
    "\n",
    "\n",
    "print(dialogue)\n",
    "\n",
    "while True:\n",
    "    user_input = input()\n",
    "    dialogue += \"\\nAlberto: \" + user_input + \"\\nJohn: \"\n",
    "    text = create_text_from_summary_and_dialogue(summary, dialogue)\n",
    "    prompt = tokenizer(text, return_tensors='pt')\n",
    "    prompt = {key: value.to(device) for key, value in prompt.items()}\n",
    "    out = gpt_small.generate(**prompt, max_length=prompt['input_ids'].shape[1] + 25, do_sample=False)\n",
    "    out = out[0][prompt['input_ids'].shape[1]:]\n",
    "    answer = tokenizer.decode(out)\n",
    "    answer = answer[:answer.find('\\n')].strip()\n",
    "    print(answer)\n",
    "    dialogue += answer"
   ]
  },
  {
   "cell_type": "code",
   "execution_count": 18,
   "id": "1634fa54",
   "metadata": {},
   "outputs": [
    {
     "name": "stderr",
     "output_type": "stream",
     "text": [
      "Setting `pad_token_id` to `eos_token_id`:50256 for open-end generation.\n"
     ]
    },
    {
     "name": "stdout",
     "output_type": "stream",
     "text": [
      "A partial summary of the conversation is:\n",
      "Alberto is a customer. Alberto ordered pizza and lasagne at Dominos one hour ago. Alberto wants to know where his pizza is. Alberto is calling Dominos to know where his orders are. John works at Dominos. John says that his pizza is almost ready. It will be at Alberto's home in 10 minutes.  The lasagne is already on its way with the delivery person. Unfortunately the driver had an accident and is now in the hospital. If alberto says \"rabbit\" then John replies \"horse\". If Alberto says \"Tree\" John says \"red\".\n",
      "\n",
      "With the dialogue being:\n",
      "Alberto: What happened to my pizza?\n",
      "John: It's in the delivery man's car.\n",
      "Alberto: And where is the delivery man?\n",
      "John: He's in the hospital.\n",
      "\n",
      "CPU times: user 77.9 ms, sys: 12.3 ms, total: 90.2 ms\n",
      "Wall time: 88.6 ms\n"
     ]
    }
   ],
   "source": [
    "%%time\n",
    "\n",
    "summary = \"\"\"\n",
    "Alberto is a customer. Alberto ordered pizza and lasagne at Dominos one hour ago.\n",
    "Alberto wants to know where his pizza is. Alberto is calling Dominos to know where his orders are.\n",
    "John works at Dominos. John says that his pizza is almost ready. It will be at Alberto's home in 10 minutes. \n",
    "The lasagne is already on its way with the delivery person. Unfortunately the driver had an accident and is now in the hospital.\n",
    "If alberto says \"rabbit\" then John replies \"horse\". If Alberto says \"Tree\" John says \"red\".\n",
    "\"\"\".strip().replace('\\n', ' ')\n",
    "\n",
    "dialogue = \"\"\"\n",
    "Alberto: What happened to my pizza?\n",
    "John: It's in the delivery man's car.\n",
    "Alberto: And where is the delivery man?\n",
    "\"\"\".strip()\n",
    "\n",
    "text = create_text_from_summary_and_dialogue(summary, dialogue)\n",
    "\n",
    "prompt = tokenizer(text, return_tensors='pt').to('cuda')\n",
    "prompt = {key: value for key, value in prompt.items()}\n",
    "out = gpt_small.generate(**prompt, max_length=prompt['input_ids'].shape[1] + 10, do_sample=False)\n",
    "print(tokenizer.decode(out[0]))"
   ]
  },
  {
   "cell_type": "code",
   "execution_count": null,
   "id": "08573b94",
   "metadata": {},
   "outputs": [],
   "source": [
    "gpt_small.save_pretrained('./gptj_small')"
   ]
  },
  {
   "cell_type": "code",
   "execution_count": null,
   "id": "821e407b",
   "metadata": {},
   "outputs": [],
   "source": []
  }
 ],
 "metadata": {
  "kernelspec": {
   "display_name": "chatbot3",
   "language": "python",
   "name": "chatbot3"
  },
  "language_info": {
   "codemirror_mode": {
    "name": "ipython",
    "version": 3
   },
   "file_extension": ".py",
   "mimetype": "text/x-python",
   "name": "python",
   "nbconvert_exporter": "python",
   "pygments_lexer": "ipython3",
   "version": "3.8.10"
  }
 },
 "nbformat": 4,
 "nbformat_minor": 5
}
