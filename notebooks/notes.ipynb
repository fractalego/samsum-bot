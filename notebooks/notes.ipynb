{
 "cells": [
  {
   "cell_type": "markdown",
   "id": "8c6cc4ec",
   "metadata": {},
   "source": [
    "gptj from scratch, temp 2, 1e-5: after 50 epoch it is 5\n",
    "\n",
    "gpt2 -> good but can you make it better with higher temp? \n",
    "        temp=10 is too much => loss only rises\n",
    "        temp=2, 1e-5 is works but can you make it lower (or higher) to get better results?\n",
    "               starting loss = 4, ending loss 3.35\n",
    "               pre-trained gpt2 is 2.21\n",
    "               Can you lower loss with different temp? Should you just consider perplexity of dialogue?\n",
    "        temp=2, 1e-6 -> 3.4\n",
    "        temp=4, 1e-5 -> 4.6\n",
    "        temp=1, 1e-5 -> 3 at first but then nan\n",
    "        temp=1, 1e-6 -> 3 all nan\n",
    "        temp=3, 1e-5 -> 3.95\n",
    "        temp=1.5, 1e-5 -> 3.13\n",
    "        temp2, 1e-4 -> ~3.20. Cannot get lower than this\n",
    "        \n",
    "        Annealing from 10 to 0, it goes nan at epoch 13 (included)\n",
    "        \n",
    "        \n",
    "gpt2 from chekpoint does not work. Why! It Always gives NAN in loss\n",
    "it works now! it must have been an issue with the GPU. rebooting helped.\n",
    "\n",
    "gpt2 from checkpoint: \n",
    "       temp=2, 3e-7 -> 3. After testing it's not too bad (it reads from the text) but\n",
    "                          it does not understand who is speaking. John thinks it is Alberto. \n",
    "                          Maybe more data will help?\n",
    "                          \n",
    "                          All data (110 tokens) with 100 logits -> still 3\n",
    "                          \n",
    "                          All data (110 tokens) with 500 logits -> it starts with 2.6 then slowly increases to ~3.2\n",
    "                          after 30 epochs\n",
    "                          \n",
    "                          using t^2 Temp CE + CE -> 2.2537 minimum. It might be just be fine tuning the system \n",
    "                          further.\n",
    "                          \n",
    "\n",
    "\n"
   ]
  },
  {
   "cell_type": "code",
   "execution_count": null,
   "id": "51886320",
   "metadata": {},
   "outputs": [],
   "source": []
  }
 ],
 "metadata": {
  "kernelspec": {
   "display_name": "chatbot3",
   "language": "python",
   "name": "chatbot3"
  },
  "language_info": {
   "codemirror_mode": {
    "name": "ipython",
    "version": 3
   },
   "file_extension": ".py",
   "mimetype": "text/x-python",
   "name": "python",
   "nbconvert_exporter": "python",
   "pygments_lexer": "ipython3",
   "version": "3.8.10"
  }
 },
 "nbformat": 4,
 "nbformat_minor": 5
}
